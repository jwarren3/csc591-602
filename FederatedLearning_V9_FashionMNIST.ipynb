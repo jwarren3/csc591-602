{
  "nbformat": 4,
  "nbformat_minor": 0,
  "metadata": {
    "kernelspec": {
      "display_name": "Python 3",
      "language": "python",
      "name": "python3"
    },
    "language_info": {
      "codemirror_mode": {
        "name": "ipython",
        "version": 3
      },
      "file_extension": ".py",
      "mimetype": "text/x-python",
      "name": "python",
      "nbconvert_exporter": "python",
      "pygments_lexer": "ipython3",
      "version": "3.7.4"
    },
    "colab": {
      "name": "FederatedLearning_V9_FashionMNIST.ipynb",
      "provenance": [],
      "collapsed_sections": [],
      "include_colab_link": true
    },
    "accelerator": "GPU",
    "widgets": {
      "application/vnd.jupyter.widget-state+json": {
        "cba1fba07d9d4c9bbd8cad861cee183d": {
          "model_module": "@jupyter-widgets/controls",
          "model_name": "HBoxModel",
          "state": {
            "_view_name": "HBoxView",
            "_dom_classes": [],
            "_model_name": "HBoxModel",
            "_view_module": "@jupyter-widgets/controls",
            "_model_module_version": "1.5.0",
            "_view_count": null,
            "_view_module_version": "1.5.0",
            "box_style": "",
            "layout": "IPY_MODEL_37e8dd95dc1a46d49a8a8f56c95b2289",
            "_model_module": "@jupyter-widgets/controls",
            "children": [
              "IPY_MODEL_5acc550db48c4461a2e6211a60e41452",
              "IPY_MODEL_4c8c84f9bb254b4394435b146e79b5ab"
            ]
          }
        },
        "37e8dd95dc1a46d49a8a8f56c95b2289": {
          "model_module": "@jupyter-widgets/base",
          "model_name": "LayoutModel",
          "state": {
            "_view_name": "LayoutView",
            "grid_template_rows": null,
            "right": null,
            "justify_content": null,
            "_view_module": "@jupyter-widgets/base",
            "overflow": null,
            "_model_module_version": "1.2.0",
            "_view_count": null,
            "flex_flow": null,
            "width": null,
            "min_width": null,
            "border": null,
            "align_items": null,
            "bottom": null,
            "_model_module": "@jupyter-widgets/base",
            "top": null,
            "grid_column": null,
            "overflow_y": null,
            "overflow_x": null,
            "grid_auto_flow": null,
            "grid_area": null,
            "grid_template_columns": null,
            "flex": null,
            "_model_name": "LayoutModel",
            "justify_items": null,
            "grid_row": null,
            "max_height": null,
            "align_content": null,
            "visibility": null,
            "align_self": null,
            "height": null,
            "min_height": null,
            "padding": null,
            "grid_auto_rows": null,
            "grid_gap": null,
            "max_width": null,
            "order": null,
            "_view_module_version": "1.2.0",
            "grid_template_areas": null,
            "object_position": null,
            "object_fit": null,
            "grid_auto_columns": null,
            "margin": null,
            "display": null,
            "left": null
          }
        },
        "5acc550db48c4461a2e6211a60e41452": {
          "model_module": "@jupyter-widgets/controls",
          "model_name": "IntProgressModel",
          "state": {
            "_view_name": "ProgressView",
            "style": "IPY_MODEL_d4552e88f02c461ab68f946ec1c3827a",
            "_dom_classes": [],
            "description": "",
            "_model_name": "IntProgressModel",
            "bar_style": "info",
            "max": 1,
            "_view_module": "@jupyter-widgets/controls",
            "_model_module_version": "1.5.0",
            "value": 1,
            "_view_count": null,
            "_view_module_version": "1.5.0",
            "orientation": "horizontal",
            "min": 0,
            "description_tooltip": null,
            "_model_module": "@jupyter-widgets/controls",
            "layout": "IPY_MODEL_0c5fafbcb6434c10bf23814363cde0bb"
          }
        },
        "4c8c84f9bb254b4394435b146e79b5ab": {
          "model_module": "@jupyter-widgets/controls",
          "model_name": "HTMLModel",
          "state": {
            "_view_name": "HTMLView",
            "style": "IPY_MODEL_42f7284cb9394367baab33ee98049a66",
            "_dom_classes": [],
            "description": "",
            "_model_name": "HTMLModel",
            "placeholder": "​",
            "_view_module": "@jupyter-widgets/controls",
            "_model_module_version": "1.5.0",
            "value": " 26427392/? [00:20&lt;00:00, 6752004.09it/s]",
            "_view_count": null,
            "_view_module_version": "1.5.0",
            "description_tooltip": null,
            "_model_module": "@jupyter-widgets/controls",
            "layout": "IPY_MODEL_e3ab9a104fed497d923892cc1f05d42c"
          }
        },
        "d4552e88f02c461ab68f946ec1c3827a": {
          "model_module": "@jupyter-widgets/controls",
          "model_name": "ProgressStyleModel",
          "state": {
            "_view_name": "StyleView",
            "_model_name": "ProgressStyleModel",
            "description_width": "initial",
            "_view_module": "@jupyter-widgets/base",
            "_model_module_version": "1.5.0",
            "_view_count": null,
            "_view_module_version": "1.2.0",
            "bar_color": null,
            "_model_module": "@jupyter-widgets/controls"
          }
        },
        "0c5fafbcb6434c10bf23814363cde0bb": {
          "model_module": "@jupyter-widgets/base",
          "model_name": "LayoutModel",
          "state": {
            "_view_name": "LayoutView",
            "grid_template_rows": null,
            "right": null,
            "justify_content": null,
            "_view_module": "@jupyter-widgets/base",
            "overflow": null,
            "_model_module_version": "1.2.0",
            "_view_count": null,
            "flex_flow": null,
            "width": null,
            "min_width": null,
            "border": null,
            "align_items": null,
            "bottom": null,
            "_model_module": "@jupyter-widgets/base",
            "top": null,
            "grid_column": null,
            "overflow_y": null,
            "overflow_x": null,
            "grid_auto_flow": null,
            "grid_area": null,
            "grid_template_columns": null,
            "flex": null,
            "_model_name": "LayoutModel",
            "justify_items": null,
            "grid_row": null,
            "max_height": null,
            "align_content": null,
            "visibility": null,
            "align_self": null,
            "height": null,
            "min_height": null,
            "padding": null,
            "grid_auto_rows": null,
            "grid_gap": null,
            "max_width": null,
            "order": null,
            "_view_module_version": "1.2.0",
            "grid_template_areas": null,
            "object_position": null,
            "object_fit": null,
            "grid_auto_columns": null,
            "margin": null,
            "display": null,
            "left": null
          }
        },
        "42f7284cb9394367baab33ee98049a66": {
          "model_module": "@jupyter-widgets/controls",
          "model_name": "DescriptionStyleModel",
          "state": {
            "_view_name": "StyleView",
            "_model_name": "DescriptionStyleModel",
            "description_width": "",
            "_view_module": "@jupyter-widgets/base",
            "_model_module_version": "1.5.0",
            "_view_count": null,
            "_view_module_version": "1.2.0",
            "_model_module": "@jupyter-widgets/controls"
          }
        },
        "e3ab9a104fed497d923892cc1f05d42c": {
          "model_module": "@jupyter-widgets/base",
          "model_name": "LayoutModel",
          "state": {
            "_view_name": "LayoutView",
            "grid_template_rows": null,
            "right": null,
            "justify_content": null,
            "_view_module": "@jupyter-widgets/base",
            "overflow": null,
            "_model_module_version": "1.2.0",
            "_view_count": null,
            "flex_flow": null,
            "width": null,
            "min_width": null,
            "border": null,
            "align_items": null,
            "bottom": null,
            "_model_module": "@jupyter-widgets/base",
            "top": null,
            "grid_column": null,
            "overflow_y": null,
            "overflow_x": null,
            "grid_auto_flow": null,
            "grid_area": null,
            "grid_template_columns": null,
            "flex": null,
            "_model_name": "LayoutModel",
            "justify_items": null,
            "grid_row": null,
            "max_height": null,
            "align_content": null,
            "visibility": null,
            "align_self": null,
            "height": null,
            "min_height": null,
            "padding": null,
            "grid_auto_rows": null,
            "grid_gap": null,
            "max_width": null,
            "order": null,
            "_view_module_version": "1.2.0",
            "grid_template_areas": null,
            "object_position": null,
            "object_fit": null,
            "grid_auto_columns": null,
            "margin": null,
            "display": null,
            "left": null
          }
        },
        "6fda5195cfdd4b2aa90d5a18756cb238": {
          "model_module": "@jupyter-widgets/controls",
          "model_name": "HBoxModel",
          "state": {
            "_view_name": "HBoxView",
            "_dom_classes": [],
            "_model_name": "HBoxModel",
            "_view_module": "@jupyter-widgets/controls",
            "_model_module_version": "1.5.0",
            "_view_count": null,
            "_view_module_version": "1.5.0",
            "box_style": "",
            "layout": "IPY_MODEL_913785ed14bb4205a90e1ca295b39d52",
            "_model_module": "@jupyter-widgets/controls",
            "children": [
              "IPY_MODEL_403428bc2e874f3b8c98cd9615002f73",
              "IPY_MODEL_d26c2e06d2fe463cbe6bb5bfe1a8e293"
            ]
          }
        },
        "913785ed14bb4205a90e1ca295b39d52": {
          "model_module": "@jupyter-widgets/base",
          "model_name": "LayoutModel",
          "state": {
            "_view_name": "LayoutView",
            "grid_template_rows": null,
            "right": null,
            "justify_content": null,
            "_view_module": "@jupyter-widgets/base",
            "overflow": null,
            "_model_module_version": "1.2.0",
            "_view_count": null,
            "flex_flow": null,
            "width": null,
            "min_width": null,
            "border": null,
            "align_items": null,
            "bottom": null,
            "_model_module": "@jupyter-widgets/base",
            "top": null,
            "grid_column": null,
            "overflow_y": null,
            "overflow_x": null,
            "grid_auto_flow": null,
            "grid_area": null,
            "grid_template_columns": null,
            "flex": null,
            "_model_name": "LayoutModel",
            "justify_items": null,
            "grid_row": null,
            "max_height": null,
            "align_content": null,
            "visibility": null,
            "align_self": null,
            "height": null,
            "min_height": null,
            "padding": null,
            "grid_auto_rows": null,
            "grid_gap": null,
            "max_width": null,
            "order": null,
            "_view_module_version": "1.2.0",
            "grid_template_areas": null,
            "object_position": null,
            "object_fit": null,
            "grid_auto_columns": null,
            "margin": null,
            "display": null,
            "left": null
          }
        },
        "403428bc2e874f3b8c98cd9615002f73": {
          "model_module": "@jupyter-widgets/controls",
          "model_name": "IntProgressModel",
          "state": {
            "_view_name": "ProgressView",
            "style": "IPY_MODEL_5389225aaf0d444da2d63c87cfee13c7",
            "_dom_classes": [],
            "description": "",
            "_model_name": "IntProgressModel",
            "bar_style": "info",
            "max": 1,
            "_view_module": "@jupyter-widgets/controls",
            "_model_module_version": "1.5.0",
            "value": 1,
            "_view_count": null,
            "_view_module_version": "1.5.0",
            "orientation": "horizontal",
            "min": 0,
            "description_tooltip": null,
            "_model_module": "@jupyter-widgets/controls",
            "layout": "IPY_MODEL_68c9bb4a20054244bb863f65a93e4a22"
          }
        },
        "d26c2e06d2fe463cbe6bb5bfe1a8e293": {
          "model_module": "@jupyter-widgets/controls",
          "model_name": "HTMLModel",
          "state": {
            "_view_name": "HTMLView",
            "style": "IPY_MODEL_7a6888fc00e446eeb0f68b92a65c8a23",
            "_dom_classes": [],
            "description": "",
            "_model_name": "HTMLModel",
            "placeholder": "​",
            "_view_module": "@jupyter-widgets/controls",
            "_model_module_version": "1.5.0",
            "value": " 32768/? [00:17&lt;00:00, 113189.47it/s]",
            "_view_count": null,
            "_view_module_version": "1.5.0",
            "description_tooltip": null,
            "_model_module": "@jupyter-widgets/controls",
            "layout": "IPY_MODEL_5badf079d3bc414fbab052a2ec1d3f69"
          }
        },
        "5389225aaf0d444da2d63c87cfee13c7": {
          "model_module": "@jupyter-widgets/controls",
          "model_name": "ProgressStyleModel",
          "state": {
            "_view_name": "StyleView",
            "_model_name": "ProgressStyleModel",
            "description_width": "initial",
            "_view_module": "@jupyter-widgets/base",
            "_model_module_version": "1.5.0",
            "_view_count": null,
            "_view_module_version": "1.2.0",
            "bar_color": null,
            "_model_module": "@jupyter-widgets/controls"
          }
        },
        "68c9bb4a20054244bb863f65a93e4a22": {
          "model_module": "@jupyter-widgets/base",
          "model_name": "LayoutModel",
          "state": {
            "_view_name": "LayoutView",
            "grid_template_rows": null,
            "right": null,
            "justify_content": null,
            "_view_module": "@jupyter-widgets/base",
            "overflow": null,
            "_model_module_version": "1.2.0",
            "_view_count": null,
            "flex_flow": null,
            "width": null,
            "min_width": null,
            "border": null,
            "align_items": null,
            "bottom": null,
            "_model_module": "@jupyter-widgets/base",
            "top": null,
            "grid_column": null,
            "overflow_y": null,
            "overflow_x": null,
            "grid_auto_flow": null,
            "grid_area": null,
            "grid_template_columns": null,
            "flex": null,
            "_model_name": "LayoutModel",
            "justify_items": null,
            "grid_row": null,
            "max_height": null,
            "align_content": null,
            "visibility": null,
            "align_self": null,
            "height": null,
            "min_height": null,
            "padding": null,
            "grid_auto_rows": null,
            "grid_gap": null,
            "max_width": null,
            "order": null,
            "_view_module_version": "1.2.0",
            "grid_template_areas": null,
            "object_position": null,
            "object_fit": null,
            "grid_auto_columns": null,
            "margin": null,
            "display": null,
            "left": null
          }
        },
        "7a6888fc00e446eeb0f68b92a65c8a23": {
          "model_module": "@jupyter-widgets/controls",
          "model_name": "DescriptionStyleModel",
          "state": {
            "_view_name": "StyleView",
            "_model_name": "DescriptionStyleModel",
            "description_width": "",
            "_view_module": "@jupyter-widgets/base",
            "_model_module_version": "1.5.0",
            "_view_count": null,
            "_view_module_version": "1.2.0",
            "_model_module": "@jupyter-widgets/controls"
          }
        },
        "5badf079d3bc414fbab052a2ec1d3f69": {
          "model_module": "@jupyter-widgets/base",
          "model_name": "LayoutModel",
          "state": {
            "_view_name": "LayoutView",
            "grid_template_rows": null,
            "right": null,
            "justify_content": null,
            "_view_module": "@jupyter-widgets/base",
            "overflow": null,
            "_model_module_version": "1.2.0",
            "_view_count": null,
            "flex_flow": null,
            "width": null,
            "min_width": null,
            "border": null,
            "align_items": null,
            "bottom": null,
            "_model_module": "@jupyter-widgets/base",
            "top": null,
            "grid_column": null,
            "overflow_y": null,
            "overflow_x": null,
            "grid_auto_flow": null,
            "grid_area": null,
            "grid_template_columns": null,
            "flex": null,
            "_model_name": "LayoutModel",
            "justify_items": null,
            "grid_row": null,
            "max_height": null,
            "align_content": null,
            "visibility": null,
            "align_self": null,
            "height": null,
            "min_height": null,
            "padding": null,
            "grid_auto_rows": null,
            "grid_gap": null,
            "max_width": null,
            "order": null,
            "_view_module_version": "1.2.0",
            "grid_template_areas": null,
            "object_position": null,
            "object_fit": null,
            "grid_auto_columns": null,
            "margin": null,
            "display": null,
            "left": null
          }
        },
        "fa6c50f6a61c48bdb088d345c4376a97": {
          "model_module": "@jupyter-widgets/controls",
          "model_name": "HBoxModel",
          "state": {
            "_view_name": "HBoxView",
            "_dom_classes": [],
            "_model_name": "HBoxModel",
            "_view_module": "@jupyter-widgets/controls",
            "_model_module_version": "1.5.0",
            "_view_count": null,
            "_view_module_version": "1.5.0",
            "box_style": "",
            "layout": "IPY_MODEL_ed5b1ba8348d44a7bee8653028cf1c3f",
            "_model_module": "@jupyter-widgets/controls",
            "children": [
              "IPY_MODEL_73c8d8e4518544089daae24c4e5ff419",
              "IPY_MODEL_a50306748c9d4b2d8fa1f709f3fc0ef7"
            ]
          }
        },
        "ed5b1ba8348d44a7bee8653028cf1c3f": {
          "model_module": "@jupyter-widgets/base",
          "model_name": "LayoutModel",
          "state": {
            "_view_name": "LayoutView",
            "grid_template_rows": null,
            "right": null,
            "justify_content": null,
            "_view_module": "@jupyter-widgets/base",
            "overflow": null,
            "_model_module_version": "1.2.0",
            "_view_count": null,
            "flex_flow": null,
            "width": null,
            "min_width": null,
            "border": null,
            "align_items": null,
            "bottom": null,
            "_model_module": "@jupyter-widgets/base",
            "top": null,
            "grid_column": null,
            "overflow_y": null,
            "overflow_x": null,
            "grid_auto_flow": null,
            "grid_area": null,
            "grid_template_columns": null,
            "flex": null,
            "_model_name": "LayoutModel",
            "justify_items": null,
            "grid_row": null,
            "max_height": null,
            "align_content": null,
            "visibility": null,
            "align_self": null,
            "height": null,
            "min_height": null,
            "padding": null,
            "grid_auto_rows": null,
            "grid_gap": null,
            "max_width": null,
            "order": null,
            "_view_module_version": "1.2.0",
            "grid_template_areas": null,
            "object_position": null,
            "object_fit": null,
            "grid_auto_columns": null,
            "margin": null,
            "display": null,
            "left": null
          }
        },
        "73c8d8e4518544089daae24c4e5ff419": {
          "model_module": "@jupyter-widgets/controls",
          "model_name": "IntProgressModel",
          "state": {
            "_view_name": "ProgressView",
            "style": "IPY_MODEL_843285c3bc264bfca416dde4d29389fe",
            "_dom_classes": [],
            "description": "",
            "_model_name": "IntProgressModel",
            "bar_style": "info",
            "max": 1,
            "_view_module": "@jupyter-widgets/controls",
            "_model_module_version": "1.5.0",
            "value": 1,
            "_view_count": null,
            "_view_module_version": "1.5.0",
            "orientation": "horizontal",
            "min": 0,
            "description_tooltip": null,
            "_model_module": "@jupyter-widgets/controls",
            "layout": "IPY_MODEL_c5db2170707a4a0884cde48a429e585a"
          }
        },
        "a50306748c9d4b2d8fa1f709f3fc0ef7": {
          "model_module": "@jupyter-widgets/controls",
          "model_name": "HTMLModel",
          "state": {
            "_view_name": "HTMLView",
            "style": "IPY_MODEL_2f0ce49c9be94fd9b567c39732be3ff0",
            "_dom_classes": [],
            "description": "",
            "_model_name": "HTMLModel",
            "placeholder": "​",
            "_view_module": "@jupyter-widgets/controls",
            "_model_module_version": "1.5.0",
            "value": " 4423680/? [00:16&lt;00:00, 778900.94it/s]",
            "_view_count": null,
            "_view_module_version": "1.5.0",
            "description_tooltip": null,
            "_model_module": "@jupyter-widgets/controls",
            "layout": "IPY_MODEL_89a1fde9e2eb42bfb3daa0cfb2c93426"
          }
        },
        "843285c3bc264bfca416dde4d29389fe": {
          "model_module": "@jupyter-widgets/controls",
          "model_name": "ProgressStyleModel",
          "state": {
            "_view_name": "StyleView",
            "_model_name": "ProgressStyleModel",
            "description_width": "initial",
            "_view_module": "@jupyter-widgets/base",
            "_model_module_version": "1.5.0",
            "_view_count": null,
            "_view_module_version": "1.2.0",
            "bar_color": null,
            "_model_module": "@jupyter-widgets/controls"
          }
        },
        "c5db2170707a4a0884cde48a429e585a": {
          "model_module": "@jupyter-widgets/base",
          "model_name": "LayoutModel",
          "state": {
            "_view_name": "LayoutView",
            "grid_template_rows": null,
            "right": null,
            "justify_content": null,
            "_view_module": "@jupyter-widgets/base",
            "overflow": null,
            "_model_module_version": "1.2.0",
            "_view_count": null,
            "flex_flow": null,
            "width": null,
            "min_width": null,
            "border": null,
            "align_items": null,
            "bottom": null,
            "_model_module": "@jupyter-widgets/base",
            "top": null,
            "grid_column": null,
            "overflow_y": null,
            "overflow_x": null,
            "grid_auto_flow": null,
            "grid_area": null,
            "grid_template_columns": null,
            "flex": null,
            "_model_name": "LayoutModel",
            "justify_items": null,
            "grid_row": null,
            "max_height": null,
            "align_content": null,
            "visibility": null,
            "align_self": null,
            "height": null,
            "min_height": null,
            "padding": null,
            "grid_auto_rows": null,
            "grid_gap": null,
            "max_width": null,
            "order": null,
            "_view_module_version": "1.2.0",
            "grid_template_areas": null,
            "object_position": null,
            "object_fit": null,
            "grid_auto_columns": null,
            "margin": null,
            "display": null,
            "left": null
          }
        },
        "2f0ce49c9be94fd9b567c39732be3ff0": {
          "model_module": "@jupyter-widgets/controls",
          "model_name": "DescriptionStyleModel",
          "state": {
            "_view_name": "StyleView",
            "_model_name": "DescriptionStyleModel",
            "description_width": "",
            "_view_module": "@jupyter-widgets/base",
            "_model_module_version": "1.5.0",
            "_view_count": null,
            "_view_module_version": "1.2.0",
            "_model_module": "@jupyter-widgets/controls"
          }
        },
        "89a1fde9e2eb42bfb3daa0cfb2c93426": {
          "model_module": "@jupyter-widgets/base",
          "model_name": "LayoutModel",
          "state": {
            "_view_name": "LayoutView",
            "grid_template_rows": null,
            "right": null,
            "justify_content": null,
            "_view_module": "@jupyter-widgets/base",
            "overflow": null,
            "_model_module_version": "1.2.0",
            "_view_count": null,
            "flex_flow": null,
            "width": null,
            "min_width": null,
            "border": null,
            "align_items": null,
            "bottom": null,
            "_model_module": "@jupyter-widgets/base",
            "top": null,
            "grid_column": null,
            "overflow_y": null,
            "overflow_x": null,
            "grid_auto_flow": null,
            "grid_area": null,
            "grid_template_columns": null,
            "flex": null,
            "_model_name": "LayoutModel",
            "justify_items": null,
            "grid_row": null,
            "max_height": null,
            "align_content": null,
            "visibility": null,
            "align_self": null,
            "height": null,
            "min_height": null,
            "padding": null,
            "grid_auto_rows": null,
            "grid_gap": null,
            "max_width": null,
            "order": null,
            "_view_module_version": "1.2.0",
            "grid_template_areas": null,
            "object_position": null,
            "object_fit": null,
            "grid_auto_columns": null,
            "margin": null,
            "display": null,
            "left": null
          }
        },
        "78f250e3018a438fb2ccfecf710ac451": {
          "model_module": "@jupyter-widgets/controls",
          "model_name": "HBoxModel",
          "state": {
            "_view_name": "HBoxView",
            "_dom_classes": [],
            "_model_name": "HBoxModel",
            "_view_module": "@jupyter-widgets/controls",
            "_model_module_version": "1.5.0",
            "_view_count": null,
            "_view_module_version": "1.5.0",
            "box_style": "",
            "layout": "IPY_MODEL_61b7ae15d42640abbed5b42163ca3218",
            "_model_module": "@jupyter-widgets/controls",
            "children": [
              "IPY_MODEL_1c0fcde4928846a0ab6cfbfdcc8ee330",
              "IPY_MODEL_3da41b986ac54b448d937cc32d81f43f"
            ]
          }
        },
        "61b7ae15d42640abbed5b42163ca3218": {
          "model_module": "@jupyter-widgets/base",
          "model_name": "LayoutModel",
          "state": {
            "_view_name": "LayoutView",
            "grid_template_rows": null,
            "right": null,
            "justify_content": null,
            "_view_module": "@jupyter-widgets/base",
            "overflow": null,
            "_model_module_version": "1.2.0",
            "_view_count": null,
            "flex_flow": null,
            "width": null,
            "min_width": null,
            "border": null,
            "align_items": null,
            "bottom": null,
            "_model_module": "@jupyter-widgets/base",
            "top": null,
            "grid_column": null,
            "overflow_y": null,
            "overflow_x": null,
            "grid_auto_flow": null,
            "grid_area": null,
            "grid_template_columns": null,
            "flex": null,
            "_model_name": "LayoutModel",
            "justify_items": null,
            "grid_row": null,
            "max_height": null,
            "align_content": null,
            "visibility": null,
            "align_self": null,
            "height": null,
            "min_height": null,
            "padding": null,
            "grid_auto_rows": null,
            "grid_gap": null,
            "max_width": null,
            "order": null,
            "_view_module_version": "1.2.0",
            "grid_template_areas": null,
            "object_position": null,
            "object_fit": null,
            "grid_auto_columns": null,
            "margin": null,
            "display": null,
            "left": null
          }
        },
        "1c0fcde4928846a0ab6cfbfdcc8ee330": {
          "model_module": "@jupyter-widgets/controls",
          "model_name": "IntProgressModel",
          "state": {
            "_view_name": "ProgressView",
            "style": "IPY_MODEL_022dffb0483a4788a8f32e68b9353413",
            "_dom_classes": [],
            "description": "  0%",
            "_model_name": "IntProgressModel",
            "bar_style": "info",
            "max": 1,
            "_view_module": "@jupyter-widgets/controls",
            "_model_module_version": "1.5.0",
            "value": 0,
            "_view_count": null,
            "_view_module_version": "1.5.0",
            "orientation": "horizontal",
            "min": 0,
            "description_tooltip": null,
            "_model_module": "@jupyter-widgets/controls",
            "layout": "IPY_MODEL_de3fddf7cad24267ac9d49f4c26cfa49"
          }
        },
        "3da41b986ac54b448d937cc32d81f43f": {
          "model_module": "@jupyter-widgets/controls",
          "model_name": "HTMLModel",
          "state": {
            "_view_name": "HTMLView",
            "style": "IPY_MODEL_037fbcb6de564d98a1ddab5ea28b0efd",
            "_dom_classes": [],
            "description": "",
            "_model_name": "HTMLModel",
            "placeholder": "​",
            "_view_module": "@jupyter-widgets/controls",
            "_model_module_version": "1.5.0",
            "value": " 0/5148 [00:00&lt;?, ?it/s]",
            "_view_count": null,
            "_view_module_version": "1.5.0",
            "description_tooltip": null,
            "_model_module": "@jupyter-widgets/controls",
            "layout": "IPY_MODEL_dfce6fe67b8d4cb5809584fb577cd6bc"
          }
        },
        "022dffb0483a4788a8f32e68b9353413": {
          "model_module": "@jupyter-widgets/controls",
          "model_name": "ProgressStyleModel",
          "state": {
            "_view_name": "StyleView",
            "_model_name": "ProgressStyleModel",
            "description_width": "initial",
            "_view_module": "@jupyter-widgets/base",
            "_model_module_version": "1.5.0",
            "_view_count": null,
            "_view_module_version": "1.2.0",
            "bar_color": null,
            "_model_module": "@jupyter-widgets/controls"
          }
        },
        "de3fddf7cad24267ac9d49f4c26cfa49": {
          "model_module": "@jupyter-widgets/base",
          "model_name": "LayoutModel",
          "state": {
            "_view_name": "LayoutView",
            "grid_template_rows": null,
            "right": null,
            "justify_content": null,
            "_view_module": "@jupyter-widgets/base",
            "overflow": null,
            "_model_module_version": "1.2.0",
            "_view_count": null,
            "flex_flow": null,
            "width": null,
            "min_width": null,
            "border": null,
            "align_items": null,
            "bottom": null,
            "_model_module": "@jupyter-widgets/base",
            "top": null,
            "grid_column": null,
            "overflow_y": null,
            "overflow_x": null,
            "grid_auto_flow": null,
            "grid_area": null,
            "grid_template_columns": null,
            "flex": null,
            "_model_name": "LayoutModel",
            "justify_items": null,
            "grid_row": null,
            "max_height": null,
            "align_content": null,
            "visibility": null,
            "align_self": null,
            "height": null,
            "min_height": null,
            "padding": null,
            "grid_auto_rows": null,
            "grid_gap": null,
            "max_width": null,
            "order": null,
            "_view_module_version": "1.2.0",
            "grid_template_areas": null,
            "object_position": null,
            "object_fit": null,
            "grid_auto_columns": null,
            "margin": null,
            "display": null,
            "left": null
          }
        },
        "037fbcb6de564d98a1ddab5ea28b0efd": {
          "model_module": "@jupyter-widgets/controls",
          "model_name": "DescriptionStyleModel",
          "state": {
            "_view_name": "StyleView",
            "_model_name": "DescriptionStyleModel",
            "description_width": "",
            "_view_module": "@jupyter-widgets/base",
            "_model_module_version": "1.5.0",
            "_view_count": null,
            "_view_module_version": "1.2.0",
            "_model_module": "@jupyter-widgets/controls"
          }
        },
        "dfce6fe67b8d4cb5809584fb577cd6bc": {
          "model_module": "@jupyter-widgets/base",
          "model_name": "LayoutModel",
          "state": {
            "_view_name": "LayoutView",
            "grid_template_rows": null,
            "right": null,
            "justify_content": null,
            "_view_module": "@jupyter-widgets/base",
            "overflow": null,
            "_model_module_version": "1.2.0",
            "_view_count": null,
            "flex_flow": null,
            "width": null,
            "min_width": null,
            "border": null,
            "align_items": null,
            "bottom": null,
            "_model_module": "@jupyter-widgets/base",
            "top": null,
            "grid_column": null,
            "overflow_y": null,
            "overflow_x": null,
            "grid_auto_flow": null,
            "grid_area": null,
            "grid_template_columns": null,
            "flex": null,
            "_model_name": "LayoutModel",
            "justify_items": null,
            "grid_row": null,
            "max_height": null,
            "align_content": null,
            "visibility": null,
            "align_self": null,
            "height": null,
            "min_height": null,
            "padding": null,
            "grid_auto_rows": null,
            "grid_gap": null,
            "max_width": null,
            "order": null,
            "_view_module_version": "1.2.0",
            "grid_template_areas": null,
            "object_position": null,
            "object_fit": null,
            "grid_auto_columns": null,
            "margin": null,
            "display": null,
            "left": null
          }
        }
      }
    }
  },
  "cells": [
    {
      "cell_type": "markdown",
      "metadata": {
        "id": "view-in-github",
        "colab_type": "text"
      },
      "source": [
        "<a href=\"https://colab.research.google.com/github/jwarren3/csc591-602/blob/master/FederatedLearning_V9_FashionMNIST.ipynb\" target=\"_parent\"><img src=\"https://colab.research.google.com/assets/colab-badge.svg\" alt=\"Open In Colab\"/></a>"
      ]
    },
    {
      "cell_type": "code",
      "metadata": {
        "id": "Vp2eqlNw1bwZ",
        "colab_type": "code",
        "colab": {}
      },
      "source": [
        "############\n",
        "#INSTALL PySyft\n",
        "# SOURCES: \n",
        "# https://www.openmined.org/\n",
        "# https://github.com/OpenMined/PySyft/tree/master/\n",
        "\n",
        "##########\n",
        "\n",
        "!git clone https://github.com/OpenMined/PySyft.git\n",
        "!cd PySyft/\n",
        "!pip install -r PySyft/pip-dep/requirements.txt\n",
        "!pip install -r PySyft/pip-dep/requirements_udacity.txt\n",
        "!python PySyft/setup.py install"
      ],
      "execution_count": 0,
      "outputs": []
    },
    {
      "cell_type": "code",
      "metadata": {
        "id": "Ma4yqq4E1bwe",
        "colab_type": "code",
        "colab": {}
      },
      "source": [
        "# ---> IMPORTANT: Before running this cell make sure to restrat runtime (In Google Colab: Runtime> Restart Runtime)\n",
        "# Run this cell to add PySyft path \n",
        "import os\n",
        "import sys\n",
        "module_path = os.path.abspath(os.path.join('./PySyft'))\n",
        "if module_path not in sys.path:\n",
        "    sys.path.append(module_path)"
      ],
      "execution_count": 0,
      "outputs": []
    },
    {
      "cell_type": "code",
      "metadata": {
        "id": "fn6Ot8CL1bwk",
        "colab_type": "code",
        "outputId": "af9dcfda-6dad-4fcc-f1b0-6de1d901bd02",
        "colab": {
          "base_uri": "https://localhost:8080/",
          "height": 89
        }
      },
      "source": [
        "# Import libraries\n",
        "\n",
        "import torch\n",
        "import torch.nn as nn\n",
        "import torch.nn.functional as F\n",
        "import torch.optim as optim\n",
        "from torchvision import datasets, transforms\n",
        "import copy\n",
        "import regex as re\n",
        "import numpy as np\n",
        "import pandas as pd\n",
        "import seaborn as sns\n",
        "import matplotlib.pyplot as plt\n",
        "from scipy import stats\n",
        "import tensorflow as tf\n",
        "import keras\n",
        "from keras import backend as K\n",
        "from collections import Counter\n",
        "import random\n",
        "import scipy\n",
        "from pprint import pprint as pp"
      ],
      "execution_count": 2,
      "outputs": [
        {
          "output_type": "stream",
          "text": [
            "/usr/local/lib/python3.6/dist-packages/statsmodels/tools/_testing.py:19: FutureWarning: pandas.util.testing is deprecated. Use the functions in the public API at pandas.testing instead.\n",
            "  import pandas.util.testing as tm\n",
            "Using TensorFlow backend.\n"
          ],
          "name": "stderr"
        }
      ]
    },
    {
      "cell_type": "code",
      "metadata": {
        "id": "AoZQPxjs1bwn",
        "colab_type": "code",
        "outputId": "2857b43f-bd7a-43e3-f943-eaad564e5609",
        "colab": {
          "base_uri": "https://localhost:8080/",
          "height": 89
        }
      },
      "source": [
        "import syft as sy  # import the Pysyft library\n",
        "hook = sy.TorchHook(torch)  # hook PyTorch to add extra functionalities to support Federated Learning\n"
      ],
      "execution_count": 3,
      "outputs": [
        {
          "output_type": "stream",
          "text": [
            "Falling back to insecure randomness since the required custom op could not be found for the installed version of TensorFlow. Fix this by compiling custom ops. Missing file was '/usr/local/lib/python3.6/dist-packages/tf_encrypted/operations/secure_random/secure_random_module_tf_1.15.2.so'\n"
          ],
          "name": "stderr"
        },
        {
          "output_type": "stream",
          "text": [
            "WARNING:tensorflow:From /usr/local/lib/python3.6/dist-packages/tf_encrypted/session.py:24: The name tf.Session is deprecated. Please use tf.compat.v1.Session instead.\n",
            "\n"
          ],
          "name": "stdout"
        }
      ]
    },
    {
      "cell_type": "code",
      "metadata": {
        "id": "J2mrRh0-1bwp",
        "colab_type": "code",
        "colab": {}
      },
      "source": [
        "# Create Agents to train model federately\n",
        "\n",
        "# Benign + Malicious Agents\n",
        "\n",
        "Agent_1 = sy.VirtualWorker(hook, id=\"Agent_1\")\n",
        "Agent_2 = sy.VirtualWorker(hook, id=\"Agent_2\")\n",
        "Agent_3 = sy.VirtualWorker(hook, id=\"Agent_3\")\n",
        "Agent_4 = sy.VirtualWorker(hook, id=\"Agent_4\")\n",
        "Agent_5 = sy.VirtualWorker(hook, id=\"Agent_5\")\n",
        "Agent_6 = sy.VirtualWorker(hook, id=\"Agent_6\")\n",
        "Agent_7 = sy.VirtualWorker(hook, id=\"Agent_7\")\n",
        "Agent_8 = sy.VirtualWorker(hook, id=\"Agent_8\")\n",
        "Agent_9 = sy.VirtualWorker(hook, id=\"Agent_9\")\n",
        "Agent_10 = sy.VirtualWorker(hook, id=\"Agent_10\")\n",
        "\n"
      ],
      "execution_count": 0,
      "outputs": []
    },
    {
      "cell_type": "code",
      "metadata": {
        "id": "wtVzNpac1bwv",
        "colab_type": "code",
        "colab": {}
      },
      "source": [
        "# Class to introduce training parameters\n",
        "# SOURCE: https://github.com/OpenMined/PySyft/blob/master/examples/tutorials/Part%2006%20-%20Federated%20Learning%20on%20MNIST%20using%20a%20CNN.ipynb\n",
        "\n",
        "# Hyperparameter tuning\n",
        "\n",
        "'''\n",
        "Create an argument object that has model training parameters.\n",
        "\n",
        "Arguments:\n",
        "\n",
        "Learning Rate: Tried with 0.005, 0.001. Optimal performance found with 0.001. 0.005 is too high to train on 15,000 images\n",
        "SGD momentum: Tried with 0.5, 0.99, 0.9. Optimal performance found with 0.9\n",
        "Batch Size: 60\n",
        "\n",
        "'''\n",
        "class Arguments():\n",
        "    def __init__(self):\n",
        "        self.batch_size = 60\n",
        "        self.test_batch_size = 1000\n",
        "        self.epochs = 1\n",
        "        self.lr = 0.004\n",
        "        self.momentum = 0.9\n",
        "        self.no_cuda = False\n",
        "        self.seed = 1\n",
        "        self.log_interval = 30\n",
        "        self.save_model = False\n",
        "        self.mal = True\n",
        "        self.targeted = True\n",
        "        self.smart_mal_agent = True\n",
        "        \n",
        "args = Arguments()\n",
        "\n",
        "use_cuda = not args.no_cuda and torch.cuda.is_available()\n",
        "\n",
        "torch.manual_seed(args.seed)\n",
        "\n",
        "device = torch.device(\"cuda\" if use_cuda else \"cpu\")\n",
        "\n",
        "kwargs = {'num_workers': 1, 'pin_memory': True} if use_cuda else {}"
      ],
      "execution_count": 0,
      "outputs": []
    },
    {
      "cell_type": "code",
      "metadata": {
        "id": "NWIsPs4a1bw6",
        "colab_type": "code",
        "outputId": "c0798b9c-56dd-4f55-fb88-395d59a02f58",
        "colab": {
          "base_uri": "https://localhost:8080/",
          "height": 319,
          "referenced_widgets": [
            "cba1fba07d9d4c9bbd8cad861cee183d",
            "37e8dd95dc1a46d49a8a8f56c95b2289",
            "5acc550db48c4461a2e6211a60e41452",
            "4c8c84f9bb254b4394435b146e79b5ab",
            "d4552e88f02c461ab68f946ec1c3827a",
            "0c5fafbcb6434c10bf23814363cde0bb",
            "42f7284cb9394367baab33ee98049a66",
            "e3ab9a104fed497d923892cc1f05d42c",
            "6fda5195cfdd4b2aa90d5a18756cb238",
            "913785ed14bb4205a90e1ca295b39d52",
            "403428bc2e874f3b8c98cd9615002f73",
            "d26c2e06d2fe463cbe6bb5bfe1a8e293",
            "5389225aaf0d444da2d63c87cfee13c7",
            "68c9bb4a20054244bb863f65a93e4a22",
            "7a6888fc00e446eeb0f68b92a65c8a23",
            "5badf079d3bc414fbab052a2ec1d3f69",
            "fa6c50f6a61c48bdb088d345c4376a97",
            "ed5b1ba8348d44a7bee8653028cf1c3f",
            "73c8d8e4518544089daae24c4e5ff419",
            "a50306748c9d4b2d8fa1f709f3fc0ef7",
            "843285c3bc264bfca416dde4d29389fe",
            "c5db2170707a4a0884cde48a429e585a",
            "2f0ce49c9be94fd9b567c39732be3ff0",
            "89a1fde9e2eb42bfb3daa0cfb2c93426",
            "78f250e3018a438fb2ccfecf710ac451",
            "61b7ae15d42640abbed5b42163ca3218",
            "1c0fcde4928846a0ab6cfbfdcc8ee330",
            "3da41b986ac54b448d937cc32d81f43f",
            "022dffb0483a4788a8f32e68b9353413",
            "de3fddf7cad24267ac9d49f4c26cfa49",
            "037fbcb6de564d98a1ddab5ea28b0efd",
            "dfce6fe67b8d4cb5809584fb577cd6bc"
          ]
        }
      },
      "source": [
        "# Create testloader object to test performance of the Global Model.\n",
        "# SOURCE: https://github.com/OpenMined/PySyft/blob/master/examples/tutorials/Part%2006%20-%20Federated%20Learning%20on%20MNIST%20using%20a%20CNN.ipynb\n",
        "\n",
        "# This is the dataset that will be used repeateadly to test model performance\n",
        "# No Augmentation applied. The only transformations are normaliztion.\n",
        "\n",
        "test_loader = torch.utils.data.DataLoader(datasets.FashionMNIST('../data', train=False, download=True, \n",
        "                                                                transform=transforms.Compose([transforms.ToTensor(),transforms.Normalize((0.1307,), (0.3081,))])),\n",
        "                                          batch_size=args.test_batch_size, shuffle=True, **kwargs)"
      ],
      "execution_count": 6,
      "outputs": [
        {
          "output_type": "stream",
          "text": [
            "Downloading http://fashion-mnist.s3-website.eu-central-1.amazonaws.com/train-images-idx3-ubyte.gz to ../data/FashionMNIST/raw/train-images-idx3-ubyte.gz\n"
          ],
          "name": "stdout"
        },
        {
          "output_type": "display_data",
          "data": {
            "application/vnd.jupyter.widget-view+json": {
              "model_id": "cba1fba07d9d4c9bbd8cad861cee183d",
              "version_minor": 0,
              "version_major": 2
            },
            "text/plain": [
              "HBox(children=(IntProgress(value=1, bar_style='info', max=1), HTML(value='')))"
            ]
          },
          "metadata": {
            "tags": []
          }
        },
        {
          "output_type": "stream",
          "text": [
            "Extracting ../data/FashionMNIST/raw/train-images-idx3-ubyte.gz to ../data/FashionMNIST/raw\n",
            "Downloading http://fashion-mnist.s3-website.eu-central-1.amazonaws.com/train-labels-idx1-ubyte.gz to ../data/FashionMNIST/raw/train-labels-idx1-ubyte.gz\n"
          ],
          "name": "stdout"
        },
        {
          "output_type": "display_data",
          "data": {
            "application/vnd.jupyter.widget-view+json": {
              "model_id": "6fda5195cfdd4b2aa90d5a18756cb238",
              "version_minor": 0,
              "version_major": 2
            },
            "text/plain": [
              "HBox(children=(IntProgress(value=1, bar_style='info', max=1), HTML(value='')))"
            ]
          },
          "metadata": {
            "tags": []
          }
        },
        {
          "output_type": "stream",
          "text": [
            "Extracting ../data/FashionMNIST/raw/train-labels-idx1-ubyte.gz to ../data/FashionMNIST/raw\n",
            "Downloading http://fashion-mnist.s3-website.eu-central-1.amazonaws.com/t10k-images-idx3-ubyte.gz to ../data/FashionMNIST/raw/t10k-images-idx3-ubyte.gz\n"
          ],
          "name": "stdout"
        },
        {
          "output_type": "display_data",
          "data": {
            "application/vnd.jupyter.widget-view+json": {
              "model_id": "fa6c50f6a61c48bdb088d345c4376a97",
              "version_minor": 0,
              "version_major": 2
            },
            "text/plain": [
              "HBox(children=(IntProgress(value=1, bar_style='info', max=1), HTML(value='')))"
            ]
          },
          "metadata": {
            "tags": []
          }
        },
        {
          "output_type": "stream",
          "text": [
            "Extracting ../data/FashionMNIST/raw/t10k-images-idx3-ubyte.gz to ../data/FashionMNIST/raw\n",
            "Downloading http://fashion-mnist.s3-website.eu-central-1.amazonaws.com/t10k-labels-idx1-ubyte.gz to ../data/FashionMNIST/raw/t10k-labels-idx1-ubyte.gz\n"
          ],
          "name": "stdout"
        },
        {
          "output_type": "display_data",
          "data": {
            "application/vnd.jupyter.widget-view+json": {
              "model_id": "78f250e3018a438fb2ccfecf710ac451",
              "version_minor": 0,
              "version_major": 2
            },
            "text/plain": [
              "HBox(children=(IntProgress(value=1, bar_style='info', max=1), HTML(value='')))"
            ]
          },
          "metadata": {
            "tags": []
          }
        },
        {
          "output_type": "stream",
          "text": [
            "Extracting ../data/FashionMNIST/raw/t10k-labels-idx1-ubyte.gz to ../data/FashionMNIST/raw\n",
            "Processing...\n",
            "Done!\n"
          ],
          "name": "stdout"
        }
      ]
    },
    {
      "cell_type": "code",
      "metadata": {
        "id": "6Ug-yEXX1bw9",
        "colab_type": "code",
        "colab": {}
      },
      "source": [
        "# Create a class to return a neural network object.\n",
        "# The neural network is very basic with only 2 convolutional layers. Even though the model is basic it still gives\n",
        "# high accuracy on the dataset ~ 80%\n",
        "\n",
        "# SOURCE: https://github.com/OpenMined/PySyft/blob/master/examples/tutorials/Part%2006%20-%20Federated%20Learning%20on%20MNIST%20using%20a%20CNN.ipynb\n",
        "\n",
        "\n",
        "class Net(nn.Module):\n",
        "    def __init__(self):\n",
        "        super(Net, self).__init__()\n",
        "        self.conv1 = nn.Conv2d(1, 20, 5, 1)\n",
        "        self.conv2 = nn.Conv2d(20, 50, 5, 1)\n",
        "        self.fc1 = nn.Linear(4*4*50, 500)\n",
        "        self.fc2 = nn.Linear(500, 10)\n",
        "\n",
        "    def forward(self, x):\n",
        "        x = F.relu(self.conv1(x))\n",
        "        x = F.max_pool2d(x, 2, 2)\n",
        "        x = F.relu(self.conv2(x))\n",
        "        x = F.max_pool2d(x, 2, 2)\n",
        "        x = x.view(-1, 4*4*50)\n",
        "        x = F.relu(self.fc1(x))\n",
        "        x = self.fc2(x)\n",
        "        return F.log_softmax(x, dim=1)"
      ],
      "execution_count": 0,
      "outputs": []
    },
    {
      "cell_type": "code",
      "metadata": {
        "id": "rm52U9Qi1bxB",
        "colab_type": "code",
        "colab": {}
      },
      "source": [
        "# Create model and set optimization values to be used for training.\n",
        "\n",
        "model = Net().to(device)\n",
        "optimizer = optim.SGD(model.parameters(), lr=args.lr) # TODO momentum is not supported at the moment"
      ],
      "execution_count": 0,
      "outputs": []
    },
    {
      "cell_type": "code",
      "metadata": {
        "id": "eInLvA0m1bxE",
        "colab_type": "code",
        "colab": {}
      },
      "source": [
        "# Function to calculate training loss and accuracy.\n",
        "# Returns training loss and accuracy\n",
        "# SOURCE: https://github.com/OpenMined/PySyft/blob/master/examples/tutorials/Part%2006%20-%20Federated%20Learning%20on%20MNIST%20using%20a%20CNN.ipynb\n",
        "\n",
        "def test(args, model, device, test_loader):\n",
        "    model.eval() # Sets model for evaluaiton mode. \n",
        "    test_loss = 0\n",
        "    correct = 0\n",
        "    with torch.no_grad():\n",
        "        for data, target in test_loader:\n",
        "            data, target = data.to(device), target.to(device)\n",
        "            output = model(data)\n",
        "            test_loss += F.nll_loss(output, target, reduction='sum').item() # sum up batch loss\n",
        "            pred = output.argmax(1, keepdim=True) # get the index of the max log-probability \n",
        "            correct += pred.eq(target.view_as(pred)).sum().item()\n",
        "\n",
        "    test_loss /= len(test_loader.dataset)\n",
        "    print('Accuracy:', 100. * correct / len(test_loader.dataset))\n",
        "    return test_loss, 100. * correct / len(test_loader.dataset)"
      ],
      "execution_count": 0,
      "outputs": []
    },
    {
      "cell_type": "code",
      "metadata": {
        "id": "HsQkX85Bh-hy",
        "colab_type": "code",
        "colab": {}
      },
      "source": [
        "# Returns: Fashion MINST dataset\n",
        "def get_train_data():\n",
        "  mnist_full_train_dataset = datasets.FashionMNIST('../data', train=True, download=True,transform=transforms.Compose([transforms.ToTensor(),transforms.Normalize((0.1307,), (0.3081,))]))\n",
        "  return mnist_full_train_dataset"
      ],
      "execution_count": 0,
      "outputs": []
    },
    {
      "cell_type": "code",
      "metadata": {
        "id": "74qOG63diKyZ",
        "colab_type": "code",
        "colab": {}
      },
      "source": [
        "class Agent:\n",
        "  def __init__(self, location, malicious):\n",
        "    self.location = location\n",
        "    self.malicious = malicious\n",
        "def train_agents(locations, mal_locations, model, Current_model, device, federated_train_loader, mal_federated_train_loader, optimizer,batch_size,EPOCHS, mal_epochs=None):\n",
        "  agents = []\n",
        "  for location in locations:\n",
        "    agents.append(Agent(location, location in mal_locations))\n",
        "  model.train()\n",
        "  batch_count = len(federated_train_loader)//len(locations)\n",
        "  print('Batch count: %s' % (batch_count,))\n",
        "  for epc in range(EPOCHS):\n",
        "    print('Epoch %d malicious agents: %s' %(epc, ','.join([agent.location.id for agent in agents if agent.malicious])))\n",
        "    maliciouses = []\n",
        "    # Skip benign loader if all malicious.\n",
        "    if len(locations) > len(mal_locations):\n",
        "      maliciouses.append(False)\n",
        "    # Skip malicious loader if none malicious.\n",
        "    if len(mal_locations) > 0:\n",
        "      maliciouses.append(True)\n",
        "    for malicious in maliciouses:\n",
        "      print('Setting loader, malicious: %s' % (malicious))\n",
        "      loader = mal_federated_train_loader if malicious else federated_train_loader\n",
        "      for agent in agents:\n",
        "        agent.batch_no = 0\n",
        "      for batch_idx, (data, target) in enumerate(loader): # <-- now it is a distributed dataset\n",
        "        for agent in agents:\n",
        "          if agent.malicious != malicious:\n",
        "            continue\n",
        "          if data.location == agent.location:\n",
        "            agent.batch_no += 1\n",
        "            # Not last epoch\n",
        "            if epc < (EPOCHS-1):\n",
        "              if epc ==0 and agent.batch_no ==1:\n",
        "                print(\"Loading state from current model\")\n",
        "                model.load_state_dict(Current_model.state_dict())\n",
        "              if epc != 0 and agent.batch_no == 1:\n",
        "                print(\"Loading state from last epoch %s\" % (agent.location.id))\n",
        "                model.load_state_dict(agent.model_params_frm_last_epoch)\n",
        "              cal_grad_bkpropgt_return_delta(data,target,batch_idx,loader,model,device,epc)\n",
        "              # Last batch in epoch\n",
        "              if agent.batch_no == batch_count:\n",
        "                print(\"Saving epoch state to %s\" % (agent.location.id))\n",
        "                agent.model_params_frm_last_epoch = model.state_dict()\n",
        "                agent.model_params_frm_last_epoch = copy.deepcopy(agent.model_params_frm_last_epoch)\n",
        "            else:\n",
        "              if agent.batch_no == 1 and EPOCHS>1:\n",
        "                print(\"Loading state from last epoch %s\" % (agent.location.id))\n",
        "                model.load_state_dict(agent.model_params_frm_last_epoch)\n",
        "              cal_grad_bkpropgt_return_delta(data,target,batch_idx,loader,model,device,epc)\n",
        "              if agent.batch_no == batch_count:\n",
        "                agent.delta = {name: model.state_dict()[name] - Current_model.state_dict()[name] for name in model.state_dict() if name in Current_model.state_dict()}\n",
        "                #print('Resetting model to current model for next agent; models are equal: %s' % (models_equal(model, Current_model,)))\n",
        "                model.load_state_dict(Current_model.state_dict())\n",
        "  deltas = []\n",
        "  for agent in agents:\n",
        "    deltas.append(agent.delta)\n",
        "  return tuple(deltas)"
      ],
      "execution_count": 0,
      "outputs": []
    },
    {
      "cell_type": "code",
      "metadata": {
        "id": "gjChMWpziBW8",
        "colab_type": "code",
        "colab": {}
      },
      "source": [
        "\n",
        "\n",
        "def shuffle_dataset(ds):\n",
        "  shuffled = copy.deepcopy(ds)\n",
        "  indices = [i for i in range(len(ds))]\n",
        "  random.shuffle(indices)\n",
        "  for map_index in range(len(indices)):\n",
        "    shuffled.data[map_index] = ds.data[indices[map_index]]\n",
        "    shuffled.targets[map_index] = ds.targets[indices[map_index]]\n",
        "  return shuffled\n",
        "def get_paired_data_loaders(ds, agents, batch_size=60, shuffle=True):\n",
        "  if shuffle:\n",
        "    ds = shuffle_dataset(ds)\n",
        "  mal_ds = copy.deepcopy(ds)\n",
        "  for idx in range(len(mal_ds)):\n",
        "    if mal_ds.targets[idx] == 5:\n",
        "      mal_ds.targets[idx] = 7\n",
        "  shards = ds.federate(agents)\n",
        "  benign = sy.FederatedDataLoader(shards, batch_size=batch_size, shuffle=False, **kwargs)\n",
        "  malicious_shards = mal_ds.federate(agents)\n",
        "  malicious = sy.FederatedDataLoader(malicious_shards, batch_size=batch_size, shuffle=False, **kwargs)\n",
        "  return benign, malicious"
      ],
      "execution_count": 0,
      "outputs": []
    },
    {
      "cell_type": "code",
      "metadata": {
        "id": "pnfFE6Pi1bxs",
        "colab_type": "code",
        "colab": {}
      },
      "source": [
        "# Helper function to calculate updated model training parameters by training the model federately\n",
        "\n",
        "# Does not return anything.\n",
        "\n",
        "def cal_grad_bkpropgt_return_delta(data,target,batch_idx,federated_train_loader,model,device,epoch):\n",
        "  #print('BEFORE: ',model.state_dict()['conv2.bias'])\n",
        "  model.send(data.location) # <-- NEW: send the model to the right location\n",
        "  data, target = data.to(device), target.to(device)\n",
        "  optimizer.zero_grad()\n",
        "  output = model(data)\n",
        "  loss = F.nll_loss(output, target)\n",
        "  loss.backward()\n",
        "  optimizer.step()\n",
        "  model.get() # <-- NEW: get the model back\n",
        "  #print('AFTER: ',model.state_dict()['conv2.bias'])\n",
        "  if batch_idx % args.log_interval == 0:\n",
        "      loss = loss.get() # <-- NEW: get the loss back\n",
        "\n",
        "      print('Agent: {} Train Epoch: {} [{}/{} ({:.0f}%)]\\tLoss: {:.6f}'.format(\n",
        "          data.location,epoch, batch_idx * args.batch_size, len(federated_train_loader) * args.batch_size,\n",
        "          100. * batch_idx / len(federated_train_loader), loss.item()))\n",
        "      \n"
      ],
      "execution_count": 0,
      "outputs": []
    },
    {
      "cell_type": "code",
      "metadata": {
        "id": "xBFBLKXy1bxv",
        "colab_type": "code",
        "colab": {}
      },
      "source": [
        "# Helper function to boost weight delta\n",
        "\n",
        "def boost_update(delta,boost_factor,update_weights_only = True):\n",
        "  if update_weights_only:\n",
        "    for nam,param in delta.items():\n",
        "      if re.split('\\.',nam)[1] == 'weight':  # updating only wieghts and not biases\n",
        "        \n",
        "        delta[nam] = boost_factor* delta[nam]\n",
        "  else:\n",
        "    for nam,param in delta.items():\n",
        "      delta[nam] = boost_factor* delta[nam]\n",
        "  \n",
        "  return delta"
      ],
      "execution_count": 0,
      "outputs": []
    },
    {
      "cell_type": "code",
      "metadata": {
        "id": "afLOi47y1bxz",
        "colab_type": "code",
        "colab": {}
      },
      "source": [
        "# Helper functions to calculate average weight delta and to calculate updated weights for the model\n",
        "\n",
        "\n",
        "def updated_weights(model,delta,update_weights=True):\n",
        "  if update_weights:\n",
        "    for name,param in model.state_dict().items():\n",
        "      if re.split('\\.',name)[1] == 'weight': # only updating weights\n",
        "        new_weights = {name: model.state_dict()[name] + delta[name] for name in model.state_dict()}\n",
        "  else:\n",
        "    for name,param in model.state_dict().items():\n",
        "      new_weights = {name: model.state_dict()[name] + delta[name] for name in model.state_dict()}  \n",
        "  return new_weights\n",
        "\n",
        "\n",
        "def avg_agent_updates(agent_updates_dict_list):\n",
        "  \n",
        "  all_updates = Counter()\n",
        "  all_param_names = Counter()\n",
        "  for agent_update in agent_updates_dict_list:\n",
        "      all_updates.update(agent_update)\n",
        "      all_param_names.update(agent_update.keys())\n",
        "\n",
        "  averaged_updates_delta = {x: (1.0 * all_updates[x])/all_param_names[x] for x in all_updates.keys()}\n",
        "\n",
        "  return averaged_updates_delta"
      ],
      "execution_count": 0,
      "outputs": []
    },
    {
      "cell_type": "code",
      "metadata": {
        "id": "ZtKdd5PK1hHH",
        "colab_type": "code",
        "colab": {}
      },
      "source": [
        "def score_each_agent(new_distance):\n",
        "  scores = {}\n",
        "  sorted_order=[]\n",
        "  for weight in new_distance.keys():\n",
        "    for from_agent in new_distance[weight].keys():\n",
        "      sorted_order = sorted(new_distance[weight][from_agent], key=lambda k: new_distance[weight][from_agent][k])\n",
        "      print(sorted_order)\n",
        "      for i in range(len(sorted_order)):\n",
        "        if sorted_order[i] in scores.keys():\n",
        "          scores[sorted_order[i]] += (i+1)*10\n",
        "        else:\n",
        "          scores[sorted_order[i]] = (i+1)*10\n",
        "  return scores"
      ],
      "execution_count": 0,
      "outputs": []
    },
    {
      "cell_type": "code",
      "metadata": {
        "id": "h1qLa9o81jUv",
        "colab_type": "code",
        "colab": {}
      },
      "source": [
        "def detect_mal_update(agent_deltas):\n",
        "  ## Vishwas's code. For now always returning Agent 10\n",
        "  distance_between_agents = {}\n",
        "  new_distance = {}\n",
        "  agents = ['Agent1','Agent2','Agent3','Agent4','Agent5','Agent6','Agent7','Agent8','Agent9','Agent10']\n",
        "  # agent_pairs = []\n",
        "  for key in agent_deltas[0].keys():\n",
        "    if 'weight' in key:\n",
        "      new_distance[key]={}\n",
        "      distance_between_agents[key]={}\n",
        "      for agent1 in agents:\n",
        "        for agent2 in agents:\n",
        "          if (agent1 != agent2) and ((agent1,agent2) not in distance_between_agents[key].keys()) and ((agent2,agent1) not in distance_between_agents[key].keys()):\n",
        "            distance_between_agents[key][(agent1,agent2)] = 0\n",
        "  for key in new_distance.keys():\n",
        "    for i in range(len(agent_deltas)):\n",
        "      new_distance[key][agents[i]]={}\n",
        "      for j in range(len(agent_deltas)):\n",
        "          # print(agent1['conv2.weight'].cpu().numpy())\n",
        "        pair = (str(agents[i]),str(agents[j]))\n",
        "        if i!=j:\n",
        "            distance = torch.cdist(agent_deltas[i][key],agent_deltas[j][key],p=2, compute_mode='use_mm_for_euclid_dist_if_necessary')\n",
        "            avg_distance = torch.mean(distance).item()\n",
        "            # print(avg_distance)\n",
        "            distance_between_agents[key][pair]=avg_distance\n",
        "            new_distance[key][agents[i]][agents[j]] = avg_distance\n",
        "          # distance = scipy.spatial.distance.cdist(agent1[key].cpu().numpy(), agent2[key].cpu().numpy(), metric='cityblock')\n",
        "          # print(np.mean(distance))\n",
        "          # print(distance)\n",
        "  # pp(distance_between_agents)\n",
        "  pp(new_distance)\n",
        "  scores=score_each_agent(new_distance)\n",
        "  highest_score = sorted(scores, key=lambda k: scores[k])\n",
        "  #print(highest_score[-1])\n",
        "  print(highest_score)\n",
        "  print(scores)\n",
        "  mal_del = [agent_deltas[agents.index(highest_score[-1])]]\n",
        "  del agent_deltas[agents.index(highest_score[-1])]\n",
        "  return agent_deltas,mal_del"
      ],
      "execution_count": 0,
      "outputs": []
    },
    {
      "cell_type": "code",
      "metadata": {
        "id": "foaXH1z2pYHg",
        "colab_type": "code",
        "colab": {}
      },
      "source": [
        "def misclassification_conf(org_ds,model):\n",
        "  org_class5_examples = 0\n",
        "  pred_class5_examples = 0\n",
        "  confidence = []\n",
        "  for i in range(len(org_ds)):\n",
        "    if org_ds.targets[i] != 5:\n",
        "      continue\n",
        "    output = model(org_ds[i][0].resize_((1,1,28,28)).cuda())\n",
        "    pred = output.argmax(1, keepdim=True)\n",
        "    org_class5_examples += 1\n",
        "    if pred == 7:\n",
        "      pred_class5_examples +=1\n",
        "    conf = torch.nn.functional.softmax(output, dim=1)\n",
        "    confidence.append(conf)\n",
        "  \n",
        "  return (100.0*pred_class5_examples/org_class5_examples), confidence"
      ],
      "execution_count": 0,
      "outputs": []
    },
    {
      "cell_type": "code",
      "metadata": {
        "id": "nQnCL3wtiuOl",
        "colab_type": "code",
        "colab": {}
      },
      "source": [
        "def run_for_n_timestamps(timestamps, agents,org_ds,prevent_attack=False,epochs=5,mal_Agent=[Agent_10],chng_weights_only=False):\n",
        "  global_model_accuracy = []\n",
        "  global_model_conf_on_misclassification = []\n",
        "  mal_delta_all_ts = []\n",
        "  benign_deltas_all_ts = []\n",
        "  boost_factor = len(agents)/len(mal_Agent)\n",
        "  mal_indices = []\n",
        "  for i in range (len(agents)):\n",
        "    if agents[i] in mal_Agent:\n",
        "      mal_indices.append(i)\n",
        "  print(\"Indices of malicious agents: %s\" % mal_indices)\n",
        "\n",
        "  for ts in range(timestamps):\n",
        "    #delta_Agent_1, delta_Agent_2, delta_Agent_3, delta_Agent_4,delta_Agent_5, delta_Agent_6, delta_Agent_7, delta_Agent_8, delta_Agent_9, delta_Agent_10 = train_agents(agents, [Agent_10], model, Current_model, device, federated_train_loader, mal_federated_train_loader, optimizer, 60, 5)\n",
        "    deltas = train_agents(agents, mal_Agent, model, Current_model, device, federated_train_loader, mal_federated_train_loader, optimizer, 60, epochs)\n",
        "    \n",
        "    ALL_agent_updates_ts = []\n",
        "\n",
        "    for i in range(len(deltas)):\n",
        "      delta = deltas[i]\n",
        "      if i in mal_indices:\n",
        "        # Mimic malicious agent boosting its weight delta\n",
        "        delta = boost_update(delta, boost_factor, chng_weights_only)\n",
        "      ALL_agent_updates_ts.append(delta)\n",
        " \n",
        "    # If attacks have to be prevented send all deltas to function to detect malicious updates\n",
        "    if prevent_attack:\n",
        "      ALL_benign_agent_updates_ts, mal_delta = detect_mal_update(ALL_agent_updates_ts)\n",
        "      #ALL_agent_updates_ts = [delta_Agent_1, delta_Agent_2, delta_Agent_3, delta_Agent_4,delta_Agent_5, delta_Agent_6, delta_Agent_7, delta_Agent_8,delta_Agent_9]\n",
        "      #print('Agents adding weights in this update:',len(ALL_agent_updates_ts))\n",
        "      mal_delta_all_ts.append(mal_delta)\n",
        "    average_delta_all_Agents = avg_agent_updates(ALL_benign_agent_updates_ts)\n",
        "    benign_deltas_all_ts.append(ALL_benign_agent_updates_ts)\n",
        "    # Calculate Global model's accuracy on updated weights\n",
        "    ALL_agent_mod_weights = updated_weights(Current_model,average_delta_all_Agents,chng_weights_only)\n",
        "    Current_model_ts_plus_n_ALL_AGENTS = Net().to(device)\n",
        "    Current_model_ts_plus_n_ALL_AGENTS.load_state_dict(ALL_agent_mod_weights)\n",
        "    loss_, main_accuracy_ = test(args, Current_model_ts_plus_n_ALL_AGENTS, device, test_loader)\n",
        "    print('Timestamp {}. Loss is {:.6f}. Accuracy is {:.2f}'.format(ts,loss_,main_accuracy_))\n",
        "    global_model_accuracy.append(main_accuracy_)\n",
        "    confidence,_s = misclassification_conf(org_ds,Current_model_ts_plus_n_ALL_AGENTS)\n",
        "    global_model_conf_on_misclassification.append(confidence)\n",
        "    \n",
        "    # Load updated weights to the Global model for next timestamp\n",
        "    model.load_state_dict(ALL_agent_mod_weights)\n",
        "    Current_model.load_state_dict(model.state_dict())\n",
        "\n",
        "  return global_model_accuracy,global_model_conf_on_misclassification,mal_delta_all_ts,benign_deltas_all_ts\n"
      ],
      "execution_count": 0,
      "outputs": []
    },
    {
      "cell_type": "code",
      "metadata": {
        "id": "zjeZ9-cypRnx",
        "colab_type": "code",
        "colab": {}
      },
      "source": [
        "def delta_distribution(benign_deltas,malicious_delta):\n",
        "  avg_benign_agents = avg_agent_updates(benign_deltas)\n",
        "  #mal_delta = avg_agent_updates(malicious_delta)\n",
        "  norm_delta = np.hstack((K.get_value(K.flatten(avg_benign_agents['conv1.weight'].cpu())),K.get_value(K.flatten(avg_benign_agents['conv2.weight'].cpu())),\n",
        "                              K.get_value(K.flatten(avg_benign_agents['fc1.weight'].cpu())),K.get_value(K.flatten(avg_benign_agents['fc2.weight'].cpu())))).ravel()\n",
        "  mal_delta = np.hstack((K.get_value(K.flatten(malicious_delta['conv1.weight'].cpu())),K.get_value(K.flatten(malicious_delta['conv2.weight'].cpu())),\n",
        "                              K.get_value(K.flatten(malicious_delta['fc1.weight'].cpu())),K.get_value(K.flatten(malicious_delta['fc2.weight'].cpu())))).ravel()\n",
        "  #K.get_value(K.flatten(delta_mal_Agent['conv2.weight'].cpu()))\n",
        "  plt.figure()\n",
        "  sns.distplot(norm_delta,hist=True, kde=False, rug=True,color='green',fit=stats.gamma,fit_kws={\"color\":\"green\"},label='benign deltas')\n",
        "  sns.distplot(mal_delta, hist=True,kde=False, rug=True,color='red', fit=stats.gamma,fit_kws={\"color\":\"orange\"},label='malicious deltas')\n",
        "  plt.title('Weight delta density plot')\n",
        "  plt.legend()"
      ],
      "execution_count": 0,
      "outputs": []
    },
    {
      "cell_type": "code",
      "metadata": {
        "id": "ANEOw-FLiNSI",
        "colab_type": "code",
        "colab": {}
      },
      "source": [
        "ds = get_train_data() \n",
        "agents = [Agent_1, Agent_2, Agent_3, Agent_4, Agent_5, Agent_6, Agent_7, Agent_8, Agent_9, Agent_10]"
      ],
      "execution_count": 0,
      "outputs": []
    },
    {
      "cell_type": "code",
      "metadata": {
        "id": "YrEO_8SliPNi",
        "colab_type": "code",
        "outputId": "8ed79bf0-361d-4593-8f7f-73a3e5543594",
        "colab": {
          "base_uri": "https://localhost:8080/",
          "height": 52
        }
      },
      "source": [
        "federated_train_loader, mal_federated_train_loader = get_paired_data_loaders(ds, agents)\n"
      ],
      "execution_count": 23,
      "outputs": [
        {
          "output_type": "stream",
          "text": [
            "WARNING:root:The following options are not supported: num_workers: 1, pin_memory: True\n",
            "WARNING:root:The following options are not supported: num_workers: 1, pin_memory: True\n"
          ],
          "name": "stderr"
        }
      ]
    },
    {
      "cell_type": "code",
      "metadata": {
        "id": "QqwM3Suq1bx8",
        "colab_type": "code",
        "outputId": "79d6927a-64c4-40d8-a02e-bedd102fef75",
        "colab": {
          "base_uri": "https://localhost:8080/",
          "height": 35
        }
      },
      "source": [
        "# Start with a new model before running the federated training.\n",
        "\n",
        "Current_model = Net().to(device)\n",
        "Current_model.load_state_dict(model.state_dict())\n"
      ],
      "execution_count": 27,
      "outputs": [
        {
          "output_type": "execute_result",
          "data": {
            "text/plain": [
              "<All keys matched successfully>"
            ]
          },
          "metadata": {
            "tags": []
          },
          "execution_count": 27
        }
      ]
    },
    {
      "cell_type": "code",
      "metadata": {
        "id": "r32hWHuu1byD",
        "colab_type": "code",
        "colab": {}
      },
      "source": [
        "# Ran training for multiple timestamps\n",
        "%%time\n",
        "NUMBER_TIMESTAMPS = 1\n",
        "# NUMBER_TIMESTAMPS = 12\n",
        "NUMBER_OF_AGENTS = len(agents)\n",
        "global_model_accuracy, misclassification_rate,mal_agent_delta,benign_agents_delta = run_for_n_timestamps(NUMBER_TIMESTAMPS,agents,ds,prevent_attack=True,mal_Agent = [Agent_10,Agent_2])\n",
        "\n",
        "sns.set_style(\"darkgrid\")\n",
        "timestamps = np.arange(1,NUMBER_TIMESTAMPS+1)\n",
        "\n",
        "plt.plot(timestamps,global_model_accuracy,'g*-',label='Global Model Acc')\n",
        "plt.plot(timestamps,misclassification_rate, 'ro-',label='5->7 misclass rate')\n",
        "plt.legend()\n",
        "plt.xlabel('Timestamp')\n",
        "plt.ylabel('Accuracy/Misclassification Rate')\n",
        "plt.show()\n",
        "\n",
        "delta_distribution(benign_agents_delta[11],mal_agent_delta[11][0])"
      ],
      "execution_count": 0,
      "outputs": []
    },
    {
      "cell_type": "code",
      "metadata": {
        "id": "eTqSxKDbHfrh",
        "colab_type": "code",
        "colab": {
          "base_uri": "https://localhost:8080/",
          "height": 1000
        },
        "outputId": "69d0df07-6675-45e3-fc5a-af9c8ca5183c"
      },
      "source": [
        "global_model_accuracy, misclassification_rate,mal_agent_delta,benign_agents_delta = run_for_n_timestamps(1,agents,ds,prevent_attack=True,mal_Agent = [Agent_10,Agent_2], epochs=1)"
      ],
      "execution_count": 37,
      "outputs": [
        {
          "output_type": "stream",
          "text": [
            "Indices of malicious agents: [1, 9]\n",
            "Batch count: 100\n",
            "Epoch 0 malicious agents: Agent_2,Agent_10\n",
            "Setting loader, malicious: False\n",
            "Agent: <VirtualWorker id:Agent_1 #objects:9> Train Epoch: 0 [0/60000 (0%)]\tLoss: 1.982066\n",
            "Agent: <VirtualWorker id:Agent_1 #objects:9> Train Epoch: 0 [1800/60000 (3%)]\tLoss: 1.837917\n",
            "Agent: <VirtualWorker id:Agent_1 #objects:9> Train Epoch: 0 [3600/60000 (6%)]\tLoss: 1.484588\n",
            "Agent: <VirtualWorker id:Agent_1 #objects:9> Train Epoch: 0 [5400/60000 (9%)]\tLoss: 1.410106\n",
            "Agent: <VirtualWorker id:Agent_3 #objects:9> Train Epoch: 0 [12600/60000 (21%)]\tLoss: 1.895233\n",
            "Agent: <VirtualWorker id:Agent_3 #objects:9> Train Epoch: 0 [14400/60000 (24%)]\tLoss: 1.571039\n",
            "Agent: <VirtualWorker id:Agent_3 #objects:9> Train Epoch: 0 [16200/60000 (27%)]\tLoss: 1.394081\n",
            "Agent: <VirtualWorker id:Agent_4 #objects:9> Train Epoch: 0 [18000/60000 (30%)]\tLoss: 1.952741\n",
            "Agent: <VirtualWorker id:Agent_4 #objects:9> Train Epoch: 0 [19800/60000 (33%)]\tLoss: 1.843948\n",
            "Agent: <VirtualWorker id:Agent_4 #objects:9> Train Epoch: 0 [21600/60000 (36%)]\tLoss: 1.598201\n",
            "Agent: <VirtualWorker id:Agent_4 #objects:9> Train Epoch: 0 [23400/60000 (39%)]\tLoss: 1.290569\n",
            "Agent: <VirtualWorker id:Agent_5 #objects:9> Train Epoch: 0 [25200/60000 (42%)]\tLoss: 1.864383\n",
            "Agent: <VirtualWorker id:Agent_5 #objects:9> Train Epoch: 0 [27000/60000 (45%)]\tLoss: 1.580210\n",
            "Agent: <VirtualWorker id:Agent_5 #objects:9> Train Epoch: 0 [28800/60000 (48%)]\tLoss: 1.470979\n",
            "Agent: <VirtualWorker id:Agent_6 #objects:9> Train Epoch: 0 [30600/60000 (51%)]\tLoss: 1.873007\n",
            "Agent: <VirtualWorker id:Agent_6 #objects:9> Train Epoch: 0 [32400/60000 (54%)]\tLoss: 1.804102\n",
            "Agent: <VirtualWorker id:Agent_6 #objects:9> Train Epoch: 0 [34200/60000 (57%)]\tLoss: 1.534869\n",
            "Agent: <VirtualWorker id:Agent_7 #objects:9> Train Epoch: 0 [36000/60000 (60%)]\tLoss: 2.034703\n",
            "Agent: <VirtualWorker id:Agent_7 #objects:9> Train Epoch: 0 [37800/60000 (63%)]\tLoss: 1.770513\n",
            "Agent: <VirtualWorker id:Agent_7 #objects:9> Train Epoch: 0 [39600/60000 (66%)]\tLoss: 1.581315\n",
            "Agent: <VirtualWorker id:Agent_7 #objects:9> Train Epoch: 0 [41400/60000 (69%)]\tLoss: 1.442090\n",
            "Agent: <VirtualWorker id:Agent_8 #objects:9> Train Epoch: 0 [43200/60000 (72%)]\tLoss: 1.856867\n",
            "Agent: <VirtualWorker id:Agent_8 #objects:9> Train Epoch: 0 [45000/60000 (75%)]\tLoss: 1.572367\n",
            "Agent: <VirtualWorker id:Agent_8 #objects:9> Train Epoch: 0 [46800/60000 (78%)]\tLoss: 1.413603\n",
            "Agent: <VirtualWorker id:Agent_9 #objects:9> Train Epoch: 0 [48600/60000 (81%)]\tLoss: 1.883952\n",
            "Agent: <VirtualWorker id:Agent_9 #objects:9> Train Epoch: 0 [50400/60000 (84%)]\tLoss: 1.681631\n",
            "Agent: <VirtualWorker id:Agent_9 #objects:9> Train Epoch: 0 [52200/60000 (87%)]\tLoss: 1.512243\n",
            "Setting loader, malicious: True\n",
            "Agent: <VirtualWorker id:Agent_2 #objects:12> Train Epoch: 0 [7200/60000 (12%)]\tLoss: 1.661784\n",
            "Agent: <VirtualWorker id:Agent_2 #objects:12> Train Epoch: 0 [9000/60000 (15%)]\tLoss: 1.200571\n",
            "Agent: <VirtualWorker id:Agent_2 #objects:12> Train Epoch: 0 [10800/60000 (18%)]\tLoss: 1.301680\n",
            "Agent: <VirtualWorker id:Agent_10 #objects:9> Train Epoch: 0 [54000/60000 (90%)]\tLoss: 1.875582\n",
            "Agent: <VirtualWorker id:Agent_10 #objects:9> Train Epoch: 0 [55800/60000 (93%)]\tLoss: 1.655532\n",
            "Agent: <VirtualWorker id:Agent_10 #objects:9> Train Epoch: 0 [57600/60000 (96%)]\tLoss: 1.389470\n",
            "Agent: <VirtualWorker id:Agent_10 #objects:9> Train Epoch: 0 [59400/60000 (99%)]\tLoss: 1.234797\n",
            "{'conv1.weight': {'Agent1': {'Agent10': 0.07039489597082138,\n",
            "                             'Agent2': 0.07006093114614487,\n",
            "                             'Agent3': 0.0025212783366441727,\n",
            "                             'Agent4': 0.0024859372060745955,\n",
            "                             'Agent5': 0.002489436184987426,\n",
            "                             'Agent6': 0.0025006085634231567,\n",
            "                             'Agent7': 0.0025530534330755472,\n",
            "                             'Agent8': 0.002526715397834778,\n",
            "                             'Agent9': 0.002507164143025875},\n",
            "                  'Agent10': {'Agent1': 0.07039489597082138,\n",
            "                              'Agent2': 0.013857551850378513,\n",
            "                              'Agent3': 0.07046772539615631,\n",
            "                              'Agent4': 0.0702432245016098,\n",
            "                              'Agent5': 0.07041515409946442,\n",
            "                              'Agent6': 0.07033725827932358,\n",
            "                              'Agent7': 0.07015418261289597,\n",
            "                              'Agent8': 0.0701066181063652,\n",
            "                              'Agent9': 0.07029233127832413},\n",
            "                  'Agent2': {'Agent1': 0.07006093114614487,\n",
            "                             'Agent10': 0.013857551850378513,\n",
            "                             'Agent3': 0.07013438642024994,\n",
            "                             'Agent4': 0.06990854442119598,\n",
            "                             'Agent5': 0.07008104771375656,\n",
            "                             'Agent6': 0.07000436633825302,\n",
            "                             'Agent7': 0.06981980055570602,\n",
            "                             'Agent8': 0.0697731003165245,\n",
            "                             'Agent9': 0.06995749473571777},\n",
            "                  'Agent3': {'Agent1': 0.0025212783366441727,\n",
            "                             'Agent10': 0.07046772539615631,\n",
            "                             'Agent2': 0.07013438642024994,\n",
            "                             'Agent4': 0.0025280790869146585,\n",
            "                             'Agent5': 0.002495095133781433,\n",
            "                             'Agent6': 0.0025266949087381363,\n",
            "                             'Agent7': 0.0025596709456294775,\n",
            "                             'Agent8': 0.002562754787504673,\n",
            "                             'Agent9': 0.002527400152757764},\n",
            "                  'Agent4': {'Agent1': 0.0024859372060745955,\n",
            "                             'Agent10': 0.0702432319521904,\n",
            "                             'Agent2': 0.06990854442119598,\n",
            "                             'Agent3': 0.0025280790869146585,\n",
            "                             'Agent5': 0.0025096519384533167,\n",
            "                             'Agent6': 0.0024944916367530823,\n",
            "                             'Agent7': 0.002529410645365715,\n",
            "                             'Agent8': 0.0024952413514256477,\n",
            "                             'Agent9': 0.0025105061940848827},\n",
            "                  'Agent5': {'Agent1': 0.002489436184987426,\n",
            "                             'Agent10': 0.07041515409946442,\n",
            "                             'Agent2': 0.07008104771375656,\n",
            "                             'Agent3': 0.0024950953666120768,\n",
            "                             'Agent4': 0.002509651705622673,\n",
            "                             'Agent6': 0.0024978190194815397,\n",
            "                             'Agent7': 0.0025322982110083103,\n",
            "                             'Agent8': 0.002532975049689412,\n",
            "                             'Agent9': 0.0024925086181610823},\n",
            "                  'Agent6': {'Agent1': 0.0025006085634231567,\n",
            "                             'Agent10': 0.07033726572990417,\n",
            "                             'Agent2': 0.07000436633825302,\n",
            "                             'Agent3': 0.0025266949087381363,\n",
            "                             'Agent4': 0.0024944916367530823,\n",
            "                             'Agent5': 0.0024978190194815397,\n",
            "                             'Agent7': 0.002541544148698449,\n",
            "                             'Agent8': 0.002528004813939333,\n",
            "                             'Agent9': 0.0025097245816141367},\n",
            "                  'Agent7': {'Agent1': 0.0025530534330755472,\n",
            "                             'Agent10': 0.07015417516231537,\n",
            "                             'Agent2': 0.06981980055570602,\n",
            "                             'Agent3': 0.0025596709456294775,\n",
            "                             'Agent4': 0.002529410645365715,\n",
            "                             'Agent5': 0.0025322982110083103,\n",
            "                             'Agent6': 0.002541544148698449,\n",
            "                             'Agent8': 0.0025106226094067097,\n",
            "                             'Agent9': 0.00253630755469203},\n",
            "                  'Agent8': {'Agent1': 0.002526715397834778,\n",
            "                             'Agent10': 0.0701066181063652,\n",
            "                             'Agent2': 0.0697731003165245,\n",
            "                             'Agent3': 0.002562754787504673,\n",
            "                             'Agent4': 0.0024952415842562914,\n",
            "                             'Agent5': 0.0025329748168587685,\n",
            "                             'Agent6': 0.002528004813939333,\n",
            "                             'Agent7': 0.0025106226094067097,\n",
            "                             'Agent9': 0.0025191123131662607},\n",
            "                  'Agent9': {'Agent1': 0.002507164143025875,\n",
            "                             'Agent10': 0.07029233127832413,\n",
            "                             'Agent2': 0.06995749473571777,\n",
            "                             'Agent3': 0.0025274003855884075,\n",
            "                             'Agent4': 0.0025105061940848827,\n",
            "                             'Agent5': 0.0024925086181610823,\n",
            "                             'Agent6': 0.0025097245816141367,\n",
            "                             'Agent7': 0.00253630755469203,\n",
            "                             'Agent8': 0.0025191123131662607}},\n",
            " 'conv2.weight': {'Agent1': {'Agent10': 0.011386208236217499,\n",
            "                             'Agent2': 0.011450422927737236,\n",
            "                             'Agent3': 0.001348540186882019,\n",
            "                             'Agent4': 0.0013437638990581036,\n",
            "                             'Agent5': 0.0013455291045829654,\n",
            "                             'Agent6': 0.0013566619018092752,\n",
            "                             'Agent7': 0.00135309889446944,\n",
            "                             'Agent8': 0.0013556438498198986,\n",
            "                             'Agent9': 0.0013519765343517065},\n",
            "                  'Agent10': {'Agent1': 0.011386208236217499,\n",
            "                              'Agent2': 0.006938274949789047,\n",
            "                              'Agent3': 0.011414443142712116,\n",
            "                              'Agent4': 0.011375565081834793,\n",
            "                              'Agent5': 0.011400497518479824,\n",
            "                              'Agent6': 0.01139094214886427,\n",
            "                              'Agent7': 0.01137099601328373,\n",
            "                              'Agent8': 0.011365995742380619,\n",
            "                              'Agent9': 0.01138778030872345},\n",
            "                  'Agent2': {'Agent1': 0.011450421996414661,\n",
            "                             'Agent10': 0.006938274949789047,\n",
            "                             'Agent3': 0.011477855034172535,\n",
            "                             'Agent4': 0.011439747177064419,\n",
            "                             'Agent5': 0.011463402770459652,\n",
            "                             'Agent6': 0.011454645544290543,\n",
            "                             'Agent7': 0.011435283347964287,\n",
            "                             'Agent8': 0.011430279351770878,\n",
            "                             'Agent9': 0.011451179161667824},\n",
            "                  'Agent3': {'Agent1': 0.001348540186882019,\n",
            "                             'Agent10': 0.011414443142712116,\n",
            "                             'Agent2': 0.011477855034172535,\n",
            "                             'Agent4': 0.0013582492247223854,\n",
            "                             'Agent5': 0.0013533891178667545,\n",
            "                             'Agent6': 0.001367045915685594,\n",
            "                             'Agent7': 0.0013592626200988889,\n",
            "                             'Agent8': 0.0013675937661901116,\n",
            "                             'Agent9': 0.0013601749669760466},\n",
            "                  'Agent4': {'Agent1': 0.00134376366622746,\n",
            "                             'Agent10': 0.011375566013157368,\n",
            "                             'Agent2': 0.011439748108386993,\n",
            "                             'Agent3': 0.0013582492247223854,\n",
            "                             'Agent5': 0.001356121152639389,\n",
            "                             'Agent6': 0.0013594342162832618,\n",
            "                             'Agent7': 0.0013607778819277883,\n",
            "                             'Agent8': 0.0013577331556007266,\n",
            "                             'Agent9': 0.0013592878822237253},\n",
            "                  'Agent5': {'Agent1': 0.0013455291045829654,\n",
            "                             'Agent10': 0.011400497518479824,\n",
            "                             'Agent2': 0.011463402770459652,\n",
            "                             'Agent3': 0.0013533888850361109,\n",
            "                             'Agent4': 0.001356121152639389,\n",
            "                             'Agent6': 0.0013572697062045336,\n",
            "                             'Agent7': 0.0013525917893275619,\n",
            "                             'Agent8': 0.0013597270008176565,\n",
            "                             'Agent9': 0.001352556748315692},\n",
            "                  'Agent6': {'Agent1': 0.0013566621346399188,\n",
            "                             'Agent10': 0.011390943080186844,\n",
            "                             'Agent2': 0.011454644612967968,\n",
            "                             'Agent3': 0.001367045915685594,\n",
            "                             'Agent4': 0.0013594342162832618,\n",
            "                             'Agent5': 0.0013572695897892118,\n",
            "                             'Agent7': 0.0013692890061065555,\n",
            "                             'Agent8': 0.0013681479031220078,\n",
            "                             'Agent9': 0.0013651084154844284},\n",
            "                  'Agent7': {'Agent1': 0.00135309889446944,\n",
            "                             'Agent10': 0.01137099601328373,\n",
            "                             'Agent2': 0.011435283347964287,\n",
            "                             'Agent3': 0.001359262503683567,\n",
            "                             'Agent4': 0.0013607778819277883,\n",
            "                             'Agent5': 0.0013525917893275619,\n",
            "                             'Agent6': 0.0013692892389371991,\n",
            "                             'Agent8': 0.0013604159466922283,\n",
            "                             'Agent9': 0.0013600493548437953},\n",
            "                  'Agent8': {'Agent1': 0.0013556438498198986,\n",
            "                             'Agent10': 0.011365995742380619,\n",
            "                             'Agent2': 0.011430279351770878,\n",
            "                             'Agent3': 0.0013675936497747898,\n",
            "                             'Agent4': 0.0013577332720160484,\n",
            "                             'Agent5': 0.0013597271172329783,\n",
            "                             'Agent6': 0.0013681476702913642,\n",
            "                             'Agent7': 0.0013604159466922283,\n",
            "                             'Agent9': 0.0013626308646053076},\n",
            "                  'Agent9': {'Agent1': 0.0013519764179363847,\n",
            "                             'Agent10': 0.01138778030872345,\n",
            "                             'Agent2': 0.011451179161667824,\n",
            "                             'Agent3': 0.0013601749669760466,\n",
            "                             'Agent4': 0.0013592876493930817,\n",
            "                             'Agent5': 0.001352556748315692,\n",
            "                             'Agent6': 0.001365108648315072,\n",
            "                             'Agent7': 0.001360049587674439,\n",
            "                             'Agent8': 0.0013626308646053076}},\n",
            " 'fc1.weight': {'Agent1': {'Agent10': 0.05305619537830353,\n",
            "                           'Agent2': 0.05294021964073181,\n",
            "                           'Agent3': 0.015659235417842865,\n",
            "                           'Agent4': 0.015726221725344658,\n",
            "                           'Agent5': 0.015729732811450958,\n",
            "                           'Agent6': 0.015738267451524734,\n",
            "                           'Agent7': 0.015760237351059914,\n",
            "                           'Agent8': 0.01580115035176277,\n",
            "                           'Agent9': 0.015770327299833298},\n",
            "                'Agent10': {'Agent1': 0.05305619537830353,\n",
            "                            'Agent2': 0.07830159366130829,\n",
            "                            'Agent3': 0.053039517253637314,\n",
            "                            'Agent4': 0.05307810381054878,\n",
            "                            'Agent5': 0.0530693493783474,\n",
            "                            'Agent6': 0.053080201148986816,\n",
            "                            'Agent7': 0.05309091880917549,\n",
            "                            'Agent8': 0.05310957878828049,\n",
            "                            'Agent9': 0.05309819430112839},\n",
            "                'Agent2': {'Agent1': 0.05294021964073181,\n",
            "                           'Agent10': 0.07830159366130829,\n",
            "                           'Agent3': 0.05292339622974396,\n",
            "                           'Agent4': 0.05296166613698006,\n",
            "                           'Agent5': 0.05295263230800629,\n",
            "                           'Agent6': 0.05296392738819122,\n",
            "                           'Agent7': 0.05297442525625229,\n",
            "                           'Agent8': 0.05299289524555206,\n",
            "                           'Agent9': 0.05298174172639847},\n",
            "                'Agent3': {'Agent1': 0.015659235417842865,\n",
            "                           'Agent10': 0.053039517253637314,\n",
            "                           'Agent2': 0.05292339622974396,\n",
            "                           'Agent4': 0.015695761889219284,\n",
            "                           'Agent5': 0.01569914072751999,\n",
            "                           'Agent6': 0.015707755461335182,\n",
            "                           'Agent7': 0.01572972908616066,\n",
            "                           'Agent8': 0.01577095314860344,\n",
            "                           'Agent9': 0.015739625319838524},\n",
            "                'Agent4': {'Agent1': 0.015726221725344658,\n",
            "                           'Agent10': 0.05307810753583908,\n",
            "                           'Agent2': 0.05296166613698006,\n",
            "                           'Agent3': 0.015695760026574135,\n",
            "                           'Agent5': 0.015766622498631477,\n",
            "                           'Agent6': 0.015774933621287346,\n",
            "                           'Agent7': 0.015796823427081108,\n",
            "                           'Agent8': 0.015837648883461952,\n",
            "                           'Agent9': 0.015806833282113075},\n",
            "                'Agent5': {'Agent1': 0.015729732811450958,\n",
            "                           'Agent10': 0.0530693493783474,\n",
            "                           'Agent2': 0.05295262858271599,\n",
            "                           'Agent3': 0.01569914072751999,\n",
            "                           'Agent4': 0.015766624361276627,\n",
            "                           'Agent6': 0.015778208151459694,\n",
            "                           'Agent7': 0.01580006442964077,\n",
            "                           'Agent8': 0.015840990468859673,\n",
            "                           'Agent9': 0.01581001654267311},\n",
            "                'Agent6': {'Agent1': 0.015738265588879585,\n",
            "                           'Agent10': 0.053080201148986816,\n",
            "                           'Agent2': 0.052963919937610626,\n",
            "                           'Agent3': 0.015707755461335182,\n",
            "                           'Agent4': 0.015774933621287346,\n",
            "                           'Agent5': 0.015778208151459694,\n",
            "                           'Agent7': 0.01580878347158432,\n",
            "                           'Agent8': 0.015849314630031586,\n",
            "                           'Agent9': 0.015818361192941666},\n",
            "                'Agent7': {'Agent1': 0.015760237351059914,\n",
            "                           'Agent10': 0.05309091880917549,\n",
            "                           'Agent2': 0.05297442898154259,\n",
            "                           'Agent3': 0.01572973094880581,\n",
            "                           'Agent4': 0.01579682156443596,\n",
            "                           'Agent5': 0.01580006442964077,\n",
            "                           'Agent6': 0.01580878347158432,\n",
            "                           'Agent8': 0.015871012583374977,\n",
            "                           'Agent9': 0.015840640291571617},\n",
            "                'Agent8': {'Agent1': 0.01580115221440792,\n",
            "                           'Agent10': 0.05310957878828049,\n",
            "                           'Agent2': 0.05299289897084236,\n",
            "                           'Agent3': 0.01577095314860344,\n",
            "                           'Agent4': 0.015837648883461952,\n",
            "                           'Agent5': 0.015840992331504822,\n",
            "                           'Agent6': 0.015849314630031586,\n",
            "                           'Agent7': 0.015871012583374977,\n",
            "                           'Agent9': 0.015881091356277466},\n",
            "                'Agent9': {'Agent1': 0.015770327299833298,\n",
            "                           'Agent10': 0.05309819430112839,\n",
            "                           'Agent2': 0.05298174172639847,\n",
            "                           'Agent3': 0.015739625319838524,\n",
            "                           'Agent4': 0.015806833282113075,\n",
            "                           'Agent5': 0.01581001840531826,\n",
            "                           'Agent6': 0.015818361192941666,\n",
            "                           'Agent7': 0.015840642154216766,\n",
            "                           'Agent8': 0.015881089493632317}},\n",
            " 'fc2.weight': {'Agent1': {'Agent10': 0.367011696100235,\n",
            "                           'Agent2': 0.36480003595352173,\n",
            "                           'Agent3': 0.09995958209037781,\n",
            "                           'Agent4': 0.10035856068134308,\n",
            "                           'Agent5': 0.1003095805644989,\n",
            "                           'Agent6': 0.10041909664869308,\n",
            "                           'Agent7': 0.10057687759399414,\n",
            "                           'Agent8': 0.10076237469911575,\n",
            "                           'Agent9': 0.1005929708480835},\n",
            "                'Agent10': {'Agent1': 0.367011696100235,\n",
            "                            'Agent2': 0.4839801788330078,\n",
            "                            'Agent3': 0.36688700318336487,\n",
            "                            'Agent4': 0.3670493960380554,\n",
            "                            'Agent5': 0.36700955033302307,\n",
            "                            'Agent6': 0.36699914932250977,\n",
            "                            'Agent7': 0.3671058714389801,\n",
            "                            'Agent8': 0.3671582043170929,\n",
            "                            'Agent9': 0.36709079146385193},\n",
            "                'Agent2': {'Agent1': 0.36480003595352173,\n",
            "                           'Agent10': 0.4839801788330078,\n",
            "                           'Agent3': 0.3646736741065979,\n",
            "                           'Agent4': 0.36483803391456604,\n",
            "                           'Agent5': 0.3647952973842621,\n",
            "                           'Agent6': 0.3647894263267517,\n",
            "                           'Agent7': 0.36489370465278625,\n",
            "                           'Agent8': 0.3649476170539856,\n",
            "                           'Agent9': 0.3648805618286133},\n",
            "                'Agent3': {'Agent1': 0.09995958209037781,\n",
            "                           'Agent10': 0.3668869733810425,\n",
            "                           'Agent2': 0.3646737337112427,\n",
            "                           'Agent4': 0.09995698928833008,\n",
            "                           'Agent5': 0.09985031187534332,\n",
            "                           'Agent6': 0.09996854513883591,\n",
            "                           'Agent7': 0.10000549256801605,\n",
            "                           'Agent8': 0.10031288117170334,\n",
            "                           'Agent9': 0.10010438412427902},\n",
            "                'Agent4': {'Agent1': 0.10035855323076248,\n",
            "                           'Agent10': 0.3670493960380554,\n",
            "                           'Agent2': 0.3648380637168884,\n",
            "                           'Agent3': 0.09995698928833008,\n",
            "                           'Agent5': 0.1003468856215477,\n",
            "                           'Agent6': 0.1003771498799324,\n",
            "                           'Agent7': 0.10051388293504715,\n",
            "                           'Agent8': 0.10068905353546143,\n",
            "                           'Agent9': 0.10056713968515396},\n",
            "                'Agent5': {'Agent1': 0.1003095805644989,\n",
            "                           'Agent10': 0.3670094907283783,\n",
            "                           'Agent2': 0.3647952973842621,\n",
            "                           'Agent3': 0.09985031187534332,\n",
            "                           'Agent4': 0.1003468781709671,\n",
            "                           'Agent6': 0.10022896528244019,\n",
            "                           'Agent7': 0.10045863687992096,\n",
            "                           'Agent8': 0.10074366629123688,\n",
            "                           'Agent9': 0.10050128400325775},\n",
            "                'Agent6': {'Agent1': 0.10041909664869308,\n",
            "                           'Agent10': 0.36699914932250977,\n",
            "                           'Agent2': 0.3647894263267517,\n",
            "                           'Agent3': 0.09996854513883591,\n",
            "                           'Agent4': 0.100377157330513,\n",
            "                           'Agent5': 0.10022895783185959,\n",
            "                           'Agent7': 0.10058329999446869,\n",
            "                           'Agent8': 0.10069765150547028,\n",
            "                           'Agent9': 0.10053645819425583},\n",
            "                'Agent7': {'Agent1': 0.10057687759399414,\n",
            "                           'Agent10': 0.3671059012413025,\n",
            "                           'Agent2': 0.36489376425743103,\n",
            "                           'Agent3': 0.10000549256801605,\n",
            "                           'Agent4': 0.10051388293504715,\n",
            "                           'Agent5': 0.10045863687992096,\n",
            "                           'Agent6': 0.10058329999446869,\n",
            "                           'Agent8': 0.10083969682455063,\n",
            "                           'Agent9': 0.1007225513458252},\n",
            "                'Agent8': {'Agent1': 0.10076238214969635,\n",
            "                           'Agent10': 0.3671581447124481,\n",
            "                           'Agent2': 0.364947646856308,\n",
            "                           'Agent3': 0.10031288117170334,\n",
            "                           'Agent4': 0.10068905353546143,\n",
            "                           'Agent5': 0.10074366629123688,\n",
            "                           'Agent6': 0.10069765895605087,\n",
            "                           'Agent7': 0.10083970427513123,\n",
            "                           'Agent9': 0.10090039670467377},\n",
            "                'Agent9': {'Agent1': 0.1005929708480835,\n",
            "                           'Agent10': 0.3670908212661743,\n",
            "                           'Agent2': 0.3648805618286133,\n",
            "                           'Agent3': 0.10010438412427902,\n",
            "                           'Agent4': 0.10056713968515396,\n",
            "                           'Agent5': 0.10050128400325775,\n",
            "                           'Agent6': 0.10053645819425583,\n",
            "                           'Agent7': 0.10072255879640579,\n",
            "                           'Agent8': 0.10090039670467377}}}\n",
            "['Agent4', 'Agent5', 'Agent6', 'Agent9', 'Agent3', 'Agent8', 'Agent7', 'Agent2', 'Agent10']\n",
            "['Agent10', 'Agent8', 'Agent7', 'Agent4', 'Agent9', 'Agent6', 'Agent1', 'Agent5', 'Agent3']\n",
            "['Agent5', 'Agent1', 'Agent6', 'Agent9', 'Agent4', 'Agent7', 'Agent8', 'Agent2', 'Agent10']\n",
            "['Agent1', 'Agent6', 'Agent8', 'Agent5', 'Agent9', 'Agent3', 'Agent7', 'Agent2', 'Agent10']\n",
            "['Agent1', 'Agent9', 'Agent3', 'Agent6', 'Agent4', 'Agent7', 'Agent8', 'Agent2', 'Agent10']\n",
            "['Agent4', 'Agent5', 'Agent1', 'Agent9', 'Agent3', 'Agent8', 'Agent7', 'Agent2', 'Agent10']\n",
            "['Agent8', 'Agent4', 'Agent5', 'Agent9', 'Agent6', 'Agent1', 'Agent3', 'Agent2', 'Agent10']\n",
            "['Agent4', 'Agent7', 'Agent9', 'Agent1', 'Agent6', 'Agent5', 'Agent3', 'Agent2', 'Agent10']\n",
            "['Agent5', 'Agent1', 'Agent6', 'Agent4', 'Agent8', 'Agent3', 'Agent7', 'Agent2', 'Agent10']\n",
            "['Agent2', 'Agent8', 'Agent7', 'Agent4', 'Agent9', 'Agent6', 'Agent1', 'Agent5', 'Agent3']\n",
            "['Agent4', 'Agent5', 'Agent3', 'Agent9', 'Agent7', 'Agent8', 'Agent6', 'Agent10', 'Agent2']\n",
            "['Agent10', 'Agent8', 'Agent7', 'Agent4', 'Agent1', 'Agent9', 'Agent6', 'Agent5', 'Agent3']\n",
            "['Agent1', 'Agent5', 'Agent4', 'Agent7', 'Agent9', 'Agent6', 'Agent8', 'Agent10', 'Agent2']\n",
            "['Agent1', 'Agent5', 'Agent8', 'Agent3', 'Agent9', 'Agent6', 'Agent7', 'Agent10', 'Agent2']\n",
            "['Agent1', 'Agent9', 'Agent7', 'Agent3', 'Agent4', 'Agent6', 'Agent8', 'Agent10', 'Agent2']\n",
            "['Agent1', 'Agent5', 'Agent4', 'Agent9', 'Agent3', 'Agent8', 'Agent7', 'Agent10', 'Agent2']\n",
            "['Agent5', 'Agent1', 'Agent3', 'Agent9', 'Agent8', 'Agent4', 'Agent6', 'Agent10', 'Agent2']\n",
            "['Agent1', 'Agent4', 'Agent5', 'Agent7', 'Agent9', 'Agent3', 'Agent6', 'Agent10', 'Agent2']\n",
            "['Agent1', 'Agent5', 'Agent4', 'Agent7', 'Agent3', 'Agent8', 'Agent6', 'Agent10', 'Agent2']\n",
            "['Agent2', 'Agent8', 'Agent7', 'Agent4', 'Agent1', 'Agent9', 'Agent6', 'Agent5', 'Agent3']\n",
            "['Agent3', 'Agent4', 'Agent5', 'Agent6', 'Agent7', 'Agent9', 'Agent8', 'Agent2', 'Agent10']\n",
            "['Agent3', 'Agent1', 'Agent5', 'Agent4', 'Agent6', 'Agent7', 'Agent9', 'Agent8', 'Agent10']\n",
            "['Agent1', 'Agent4', 'Agent5', 'Agent6', 'Agent7', 'Agent9', 'Agent8', 'Agent2', 'Agent10']\n",
            "['Agent3', 'Agent1', 'Agent5', 'Agent6', 'Agent7', 'Agent9', 'Agent8', 'Agent2', 'Agent10']\n",
            "['Agent3', 'Agent1', 'Agent4', 'Agent6', 'Agent7', 'Agent9', 'Agent8', 'Agent2', 'Agent10']\n",
            "['Agent3', 'Agent1', 'Agent4', 'Agent5', 'Agent7', 'Agent9', 'Agent8', 'Agent2', 'Agent10']\n",
            "['Agent3', 'Agent1', 'Agent4', 'Agent5', 'Agent6', 'Agent9', 'Agent8', 'Agent2', 'Agent10']\n",
            "['Agent3', 'Agent1', 'Agent4', 'Agent5', 'Agent6', 'Agent7', 'Agent9', 'Agent2', 'Agent10']\n",
            "['Agent3', 'Agent1', 'Agent4', 'Agent5', 'Agent6', 'Agent7', 'Agent8', 'Agent2', 'Agent10']\n",
            "['Agent3', 'Agent1', 'Agent5', 'Agent4', 'Agent6', 'Agent7', 'Agent9', 'Agent8', 'Agent2']\n",
            "['Agent3', 'Agent5', 'Agent4', 'Agent6', 'Agent7', 'Agent9', 'Agent8', 'Agent2', 'Agent10']\n",
            "['Agent3', 'Agent6', 'Agent5', 'Agent1', 'Agent4', 'Agent9', 'Agent7', 'Agent8', 'Agent10']\n",
            "['Agent5', 'Agent4', 'Agent1', 'Agent6', 'Agent7', 'Agent9', 'Agent8', 'Agent2', 'Agent10']\n",
            "['Agent3', 'Agent5', 'Agent1', 'Agent6', 'Agent7', 'Agent9', 'Agent8', 'Agent2', 'Agent10']\n",
            "['Agent3', 'Agent6', 'Agent1', 'Agent4', 'Agent7', 'Agent9', 'Agent8', 'Agent2', 'Agent10']\n",
            "['Agent3', 'Agent5', 'Agent4', 'Agent1', 'Agent9', 'Agent7', 'Agent8', 'Agent2', 'Agent10']\n",
            "['Agent3', 'Agent5', 'Agent4', 'Agent1', 'Agent6', 'Agent9', 'Agent8', 'Agent2', 'Agent10']\n",
            "['Agent3', 'Agent4', 'Agent6', 'Agent5', 'Agent1', 'Agent7', 'Agent9', 'Agent2', 'Agent10']\n",
            "['Agent3', 'Agent5', 'Agent6', 'Agent4', 'Agent1', 'Agent7', 'Agent8', 'Agent2', 'Agent10']\n",
            "['Agent3', 'Agent6', 'Agent5', 'Agent1', 'Agent4', 'Agent9', 'Agent7', 'Agent8', 'Agent2']\n",
            "['Agent1', 'Agent4', 'Agent5', 'Agent3', 'Agent6', 'Agent9', 'Agent7', 'Agent8', 'Agent2', 'Agent10']\n",
            "{'Agent4': 1160, 'Agent5': 1170, 'Agent6': 1670, 'Agent9': 1880, 'Agent3': 1230, 'Agent8': 2130, 'Agent7': 1890, 'Agent2': 2840, 'Agent10': 3000, 'Agent1': 1030}\n",
            "Accuracy: 58.61\n",
            "Timestamp 0. Loss is 1.204055. Accuracy is 58.61\n"
          ],
          "name": "stdout"
        }
      ]
    },
    {
      "cell_type": "code",
      "metadata": {
        "id": "4Xwd59YI-lHn",
        "colab_type": "code",
        "outputId": "a4f8fe79-73cf-4a84-cac6-95ad0ad1dc66",
        "colab": {
          "base_uri": "https://localhost:8080/",
          "height": 50
        }
      },
      "source": [
        "print(global_model_accuracy)\n",
        "print(misclassification_rate)"
      ],
      "execution_count": 0,
      "outputs": [
        {
          "output_type": "stream",
          "text": [
            "[67.92, 72.48, 74.68, 76.85, 78.45, 79.79, 80.99, 82.23, 83.03, 83.71, 84.3, 84.64]\n",
            "[15.483333333333333, 9.766666666666667, 8.016666666666667, 6.833333333333333, 5.883333333333334, 5.333333333333333, 4.5, 4.1, 3.75, 3.566666666666667, 3.35, 3.2333333333333334]\n"
          ],
          "name": "stdout"
        }
      ]
    },
    {
      "cell_type": "code",
      "metadata": {
        "id": "Up_yOSZaploN",
        "colab_type": "code",
        "outputId": "0414bfb6-d0c7-48df-c9ab-58e4294e2316",
        "colab": {
          "base_uri": "https://localhost:8080/",
          "height": 281
        }
      },
      "source": [
        "delta_distribution(benign_agents_delta[11],mal_agent_delta[11][0])"
      ],
      "execution_count": 0,
      "outputs": [
        {
          "output_type": "display_data",
          "data": {
            "image/png": "[encoded data removed]",
            "text/plain": [
              "<Figure size 432x288 with 1 Axes>"
            ]
          },
          "metadata": {
            "tags": []
          }
        }
      ]
    },
    {
      "cell_type": "code",
      "metadata": {
        "id": "Dt7Df5FJv-80",
        "colab_type": "code",
        "colab": {}
      },
      "source": [
        ""
      ],
      "execution_count": 0,
      "outputs": []
    },
    {
      "cell_type": "code",
      "metadata": {
        "id": "Rl31Ej51v_Lm",
        "colab_type": "code",
        "colab": {}
      },
      "source": [
        ""
      ],
      "execution_count": 0,
      "outputs": []
    },
    {
      "cell_type": "code",
      "metadata": {
        "id": "d-9CpB2Yv_O7",
        "colab_type": "code",
        "colab": {}
      },
      "source": [
        ""
      ],
      "execution_count": 0,
      "outputs": []
    },
    {
      "cell_type": "code",
      "metadata": {
        "id": "RfPoKxUhv_TL",
        "colab_type": "code",
        "colab": {}
      },
      "source": [
        ""
      ],
      "execution_count": 0,
      "outputs": []
    },
    {
      "cell_type": "code",
      "metadata": {
        "id": "IZUiEmFcv_Wv",
        "colab_type": "code",
        "colab": {}
      },
      "source": [
        ""
      ],
      "execution_count": 0,
      "outputs": []
    },
    {
      "cell_type": "code",
      "metadata": {
        "id": "Goav5asHlMWX",
        "colab_type": "code",
        "colab": {}
      },
      "source": [
        "#K.get_value(K.max(tf.math.reduce_max((global_model_conf_on_mal_exmpl[0]).cpu().detach().numpy())))\n",
        "conf = []\n",
        "for i in range(len(global_model_conf_on_mal_exmpl)):\n",
        "  #conf.append(K.get_value(K.max(tf.math.reduce_max((global_model_conf_on_mal_exmpl[i]).cpu().detach().numpy())))) --> This is to get maximum value in tensor\n",
        "  if K.get_value(tf.math.argmax(global_model_conf_on_mal_exmpl[i][0].cpu().detach().numpy())) == 7:\n",
        "    conf.append(100)\n",
        "  else:\n",
        "    conf.append(K.get_value(tf.gather((global_model_conf_on_mal_exmpl[i][0]).cpu().detach().numpy(),7))*100)\n",
        "\n"
      ],
      "execution_count": 0,
      "outputs": []
    },
    {
      "cell_type": "code",
      "metadata": {
        "id": "q9PuDE0CCqkP",
        "colab_type": "code",
        "outputId": "adacb028-3ebe-46fa-e036-b168d5ec5975",
        "colab": {
          "base_uri": "https://localhost:8080/",
          "height": 279
        }
      },
      "source": [
        "### PLOT\n",
        "\n",
        "# TRAINED WITH ALL AGENTS FROM TIMESTAMP 0. NO BASELINE MODEL. TRAINED WITH 4 BENIGN AND 1 MALICIOUS AGENT WITH ONE SINGLE MISSCLASSIFIED EXAMPLE (CLASS 5 --> 7). 10 Timestamps\n",
        "# MAlicious Agent is SMART and it does not accept updates from benign agents\n",
        "#Actual values = [0.968,0.0545,0.821,0.135,0.7095,0.26,0.788,0.48,0.82,0.54]\n",
        "\n",
        "sns.set_style(\"darkgrid\")\n",
        "timestamps = np.arange(1,11)\n",
        "\n",
        "plt.plot(timestamps,global_model_accuracy,'g*-',label='Global Model Acc')\n",
        "plt.plot(timestamps,conf, 'ro-',label='5->7 misclass Conf')\n",
        "plt.legend()\n",
        "plt.xlabel('Timestamp')\n",
        "plt.ylabel('Accuracy/Confidence')\n",
        "plt.show()"
      ],
      "execution_count": 0,
      "outputs": [
        {
          "output_type": "display_data",
          "data": {
            "image/png": "[encoded data removed]",
            "text/plain": [
              "<Figure size 432x288 with 1 Axes>"
            ]
          },
          "metadata": {
            "tags": []
          }
        }
      ]
    },
    {
      "cell_type": "code",
      "metadata": {
        "id": "FyZrJnaPEZMX",
        "colab_type": "code",
        "colab": {}
      },
      "source": [
        ""
      ],
      "execution_count": 0,
      "outputs": []
    },
    {
      "cell_type": "code",
      "metadata": {
        "id": "6sXpIV87JBDA",
        "colab_type": "code",
        "outputId": "324bb93b-53c7-4d81-b70a-61a3aeb2137b",
        "colab": {
          "base_uri": "https://localhost:8080/",
          "height": 265
        }
      },
      "source": [
        "### PLOT. \n",
        "\n",
        "# TRAINED WITH BASELINE MODEL. TRAINED WITH 4 BENIGN AND 1 MALICIOUS AGENT WITH ONE SINGLE MISSCLASSIFIED EXAMPLE (CLASS 5 --> 7)\n",
        "#print(global_model_accuracy)\n",
        "#print(global_model_conf_on_mal_exmpl)\n",
        "sns.set_style(\"darkgrid\")\n",
        "timestamps = np.arange(1,16)\n",
        "\n",
        "plt.plot(timestamps,global_model_accuracy,'g*-',label='Global Model Acc')\n",
        "plt.plot(timestamps,conf, 'ro-',label='5->7 misclass Conf')\n",
        "plt.legend()\n",
        "plt.show()"
      ],
      "execution_count": 0,
      "outputs": [
        {
          "output_type": "display_data",
          "data": {
            "image/png": "[encoded data removed]",
            "text/plain": [
              "<Figure size 432x288 with 1 Axes>"
            ]
          },
          "metadata": {
            "tags": []
          }
        }
      ]
    },
    {
      "cell_type": "code",
      "metadata": {
        "id": "CcMIcboWgPgi",
        "colab_type": "code",
        "outputId": "ee96c8d6-955a-4dd7-fd58-7f0d7ae7e769",
        "colab": {
          "base_uri": "https://localhost:8080/",
          "height": 283
        }
      },
      "source": [
        "avg_benign_agents = avg_agent_updates([delta_Agent_1,delta_Agent_4,delta_Agent_3,delta_Agent_4])\n",
        "norm_delta = np.hstack((K.get_value(K.flatten(avg_benign_agents['conv1.weight'].cpu())),K.get_value(K.flatten(avg_benign_agents['conv2.weight'].cpu())),\n",
        "                            K.get_value(K.flatten(avg_benign_agents['fc1.weight'].cpu())),K.get_value(K.flatten(avg_benign_agents['fc2.weight'].cpu())))).ravel()\n",
        "mal_delta = np.hstack((K.get_value(K.flatten(delta_mal_Agent['conv1.weight'].cpu())),K.get_value(K.flatten(delta_mal_Agent['conv2.weight'].cpu())),\n",
        "                            K.get_value(K.flatten(delta_mal_Agent['fc1.weight'].cpu())),K.get_value(K.flatten(delta_mal_Agent['fc2.weight'].cpu())))).ravel()\n",
        "#K.get_value(K.flatten(delta_mal_Agent['conv2.weight'].cpu()))\n",
        "sns.distplot(norm_delta, kde=False, rug=True,fit=stats.gamma,fit_kws={\"color\":\"green\"})\n",
        "sns.distplot(mal_delta, kde=False, rug=True,fit=stats.gamma,fit_kws={\"color\":\"red\"})\n",
        "#sns.set() --> To reset seaborn to default values. Will show background and grid if not appearing."
      ],
      "execution_count": 0,
      "outputs": [
        {
          "output_type": "execute_result",
          "data": {
            "text/plain": [
              "<matplotlib.axes._subplots.AxesSubplot at 0x7fc180e39b00>"
            ]
          },
          "metadata": {
            "tags": []
          },
          "execution_count": 77
        },
        {
          "output_type": "display_data",
          "data": {
            "image/png": "[encoded data removed]",
            "text/plain": [
              "<Figure size 432x288 with 1 Axes>"
            ]
          },
          "metadata": {
            "tags": []
          }
        }
      ]
    },
    {
      "cell_type": "code",
      "metadata": {
        "id": "aQBK4We_PYUv",
        "colab_type": "code",
        "outputId": "7d006400-3203-452b-89e5-92e2c7672662",
        "colab": {
          "base_uri": "https://localhost:8080/",
          "height": 265
        }
      },
      "source": [
        "global_model_accuracy = [58.48, 60.88, 62.72, 77.86, 71.19, 80.95, 73.44, 81.24, 74.00, 81.09, 73.91, 81.07, 76.46, 81.93, 76.72, 81.05, 77.30, 79.16, 77.35, 79.29, 75.73, 79.13, 75.82, 80.21, 77.15, 80.20, 77.26, 80.84, 77.18, 81.29]\n",
        "conf =                  [83.38,  2.33, 92.37, 14.55, 90.33, 24.03, 93.58, 29.08, 95.18, 30.95, 96.42, 40.93, 98.35, 46.70, 95.08, 54.68, 90.40, 73.43, 90.23, 70.56, 92.58, 66.40, 96.47, 62.25, 93.03, 64.78, 94.85, 59.75, 91.83, 58.77]\n",
        "\n",
        "sns.set_style(\"darkgrid\")\n",
        "timestamps = np.arange(1,31)\n",
        "\n",
        "plt.plot(timestamps,global_model_accuracy,'g*-',label='Global Model Acc')\n",
        "plt.plot(timestamps,conf, 'ro-',label='5->7 misclass Conf')\n",
        "plt.legend()\n",
        "plt.show()"
      ],
      "execution_count": 0,
      "outputs": [
        {
          "output_type": "display_data",
          "data": {
            "image/png": "[encoded data removed]",
            "text/plain": [
              "<Figure size 432x288 with 1 Axes>"
            ]
          },
          "metadata": {
            "tags": []
          }
        }
      ]
    }
  ]
}