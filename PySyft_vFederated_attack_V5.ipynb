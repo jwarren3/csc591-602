{
  "nbformat": 4,
  "nbformat_minor": 0,
  "metadata": {
    "colab": {
      "name": "PySyft_vFederated_attack_V5.ipynb",
      "provenance": [],
      "collapsed_sections": [],
      "include_colab_link": true
    },
    "kernelspec": {
      "name": "python3",
      "display_name": "Python 3"
    },
    "accelerator": "GPU",
    "widgets": {
      "application/vnd.jupyter.widget-state+json": {
        "e578946b95aa4cf293f7239db2087e9c": {
          "model_module": "@jupyter-widgets/controls",
          "model_name": "HBoxModel",
          "state": {
            "_view_name": "HBoxView",
            "_dom_classes": [],
            "_model_name": "HBoxModel",
            "_view_module": "@jupyter-widgets/controls",
            "_model_module_version": "1.5.0",
            "_view_count": null,
            "_view_module_version": "1.5.0",
            "box_style": "",
            "layout": "IPY_MODEL_f6e390eaefc64d1db2214c55fcbdd902",
            "_model_module": "@jupyter-widgets/controls",
            "children": [
              "IPY_MODEL_8bc602421adb4613b4cc6ea9dd7dbcff",
              "IPY_MODEL_fee3303b78094388af082b876daccee8"
            ]
          }
        },
        "f6e390eaefc64d1db2214c55fcbdd902": {
          "model_module": "@jupyter-widgets/base",
          "model_name": "LayoutModel",
          "state": {
            "_view_name": "LayoutView",
            "grid_template_rows": null,
            "right": null,
            "justify_content": null,
            "_view_module": "@jupyter-widgets/base",
            "overflow": null,
            "_model_module_version": "1.2.0",
            "_view_count": null,
            "flex_flow": null,
            "width": null,
            "min_width": null,
            "border": null,
            "align_items": null,
            "bottom": null,
            "_model_module": "@jupyter-widgets/base",
            "top": null,
            "grid_column": null,
            "overflow_y": null,
            "overflow_x": null,
            "grid_auto_flow": null,
            "grid_area": null,
            "grid_template_columns": null,
            "flex": null,
            "_model_name": "LayoutModel",
            "justify_items": null,
            "grid_row": null,
            "max_height": null,
            "align_content": null,
            "visibility": null,
            "align_self": null,
            "height": null,
            "min_height": null,
            "padding": null,
            "grid_auto_rows": null,
            "grid_gap": null,
            "max_width": null,
            "order": null,
            "_view_module_version": "1.2.0",
            "grid_template_areas": null,
            "object_position": null,
            "object_fit": null,
            "grid_auto_columns": null,
            "margin": null,
            "display": null,
            "left": null
          }
        },
        "8bc602421adb4613b4cc6ea9dd7dbcff": {
          "model_module": "@jupyter-widgets/controls",
          "model_name": "IntProgressModel",
          "state": {
            "_view_name": "ProgressView",
            "style": "IPY_MODEL_c0c1757db6ef4ba5b1a5f49973ac07e9",
            "_dom_classes": [],
            "description": "",
            "_model_name": "IntProgressModel",
            "bar_style": "success",
            "max": 1,
            "_view_module": "@jupyter-widgets/controls",
            "_model_module_version": "1.5.0",
            "value": 1,
            "_view_count": null,
            "_view_module_version": "1.5.0",
            "orientation": "horizontal",
            "min": 0,
            "description_tooltip": null,
            "_model_module": "@jupyter-widgets/controls",
            "layout": "IPY_MODEL_d5a74db94fed476cbc78fefe28bbe803"
          }
        },
        "fee3303b78094388af082b876daccee8": {
          "model_module": "@jupyter-widgets/controls",
          "model_name": "HTMLModel",
          "state": {
            "_view_name": "HTMLView",
            "style": "IPY_MODEL_46910bc967fe41d79b5fc060ce64e043",
            "_dom_classes": [],
            "description": "",
            "_model_name": "HTMLModel",
            "placeholder": "​",
            "_view_module": "@jupyter-widgets/controls",
            "_model_module_version": "1.5.0",
            "value": " 26427392/? [00:02&lt;00:00, 9139259.02it/s]",
            "_view_count": null,
            "_view_module_version": "1.5.0",
            "description_tooltip": null,
            "_model_module": "@jupyter-widgets/controls",
            "layout": "IPY_MODEL_da556ee413c04ded881be66f85d627aa"
          }
        },
        "c0c1757db6ef4ba5b1a5f49973ac07e9": {
          "model_module": "@jupyter-widgets/controls",
          "model_name": "ProgressStyleModel",
          "state": {
            "_view_name": "StyleView",
            "_model_name": "ProgressStyleModel",
            "description_width": "initial",
            "_view_module": "@jupyter-widgets/base",
            "_model_module_version": "1.5.0",
            "_view_count": null,
            "_view_module_version": "1.2.0",
            "bar_color": null,
            "_model_module": "@jupyter-widgets/controls"
          }
        },
        "d5a74db94fed476cbc78fefe28bbe803": {
          "model_module": "@jupyter-widgets/base",
          "model_name": "LayoutModel",
          "state": {
            "_view_name": "LayoutView",
            "grid_template_rows": null,
            "right": null,
            "justify_content": null,
            "_view_module": "@jupyter-widgets/base",
            "overflow": null,
            "_model_module_version": "1.2.0",
            "_view_count": null,
            "flex_flow": null,
            "width": null,
            "min_width": null,
            "border": null,
            "align_items": null,
            "bottom": null,
            "_model_module": "@jupyter-widgets/base",
            "top": null,
            "grid_column": null,
            "overflow_y": null,
            "overflow_x": null,
            "grid_auto_flow": null,
            "grid_area": null,
            "grid_template_columns": null,
            "flex": null,
            "_model_name": "LayoutModel",
            "justify_items": null,
            "grid_row": null,
            "max_height": null,
            "align_content": null,
            "visibility": null,
            "align_self": null,
            "height": null,
            "min_height": null,
            "padding": null,
            "grid_auto_rows": null,
            "grid_gap": null,
            "max_width": null,
            "order": null,
            "_view_module_version": "1.2.0",
            "grid_template_areas": null,
            "object_position": null,
            "object_fit": null,
            "grid_auto_columns": null,
            "margin": null,
            "display": null,
            "left": null
          }
        },
        "46910bc967fe41d79b5fc060ce64e043": {
          "model_module": "@jupyter-widgets/controls",
          "model_name": "DescriptionStyleModel",
          "state": {
            "_view_name": "StyleView",
            "_model_name": "DescriptionStyleModel",
            "description_width": "",
            "_view_module": "@jupyter-widgets/base",
            "_model_module_version": "1.5.0",
            "_view_count": null,
            "_view_module_version": "1.2.0",
            "_model_module": "@jupyter-widgets/controls"
          }
        },
        "da556ee413c04ded881be66f85d627aa": {
          "model_module": "@jupyter-widgets/base",
          "model_name": "LayoutModel",
          "state": {
            "_view_name": "LayoutView",
            "grid_template_rows": null,
            "right": null,
            "justify_content": null,
            "_view_module": "@jupyter-widgets/base",
            "overflow": null,
            "_model_module_version": "1.2.0",
            "_view_count": null,
            "flex_flow": null,
            "width": null,
            "min_width": null,
            "border": null,
            "align_items": null,
            "bottom": null,
            "_model_module": "@jupyter-widgets/base",
            "top": null,
            "grid_column": null,
            "overflow_y": null,
            "overflow_x": null,
            "grid_auto_flow": null,
            "grid_area": null,
            "grid_template_columns": null,
            "flex": null,
            "_model_name": "LayoutModel",
            "justify_items": null,
            "grid_row": null,
            "max_height": null,
            "align_content": null,
            "visibility": null,
            "align_self": null,
            "height": null,
            "min_height": null,
            "padding": null,
            "grid_auto_rows": null,
            "grid_gap": null,
            "max_width": null,
            "order": null,
            "_view_module_version": "1.2.0",
            "grid_template_areas": null,
            "object_position": null,
            "object_fit": null,
            "grid_auto_columns": null,
            "margin": null,
            "display": null,
            "left": null
          }
        },
        "1f30c8af3f8642c5a8f2c8f12e8eb460": {
          "model_module": "@jupyter-widgets/controls",
          "model_name": "HBoxModel",
          "state": {
            "_view_name": "HBoxView",
            "_dom_classes": [],
            "_model_name": "HBoxModel",
            "_view_module": "@jupyter-widgets/controls",
            "_model_module_version": "1.5.0",
            "_view_count": null,
            "_view_module_version": "1.5.0",
            "box_style": "",
            "layout": "IPY_MODEL_81ea411f578a4faf94c06bd00cd26a2f",
            "_model_module": "@jupyter-widgets/controls",
            "children": [
              "IPY_MODEL_4eb7a49c4c1d42838008b5858f68358d",
              "IPY_MODEL_0b8517dfbf1946feb37c57b5095c9515"
            ]
          }
        },
        "81ea411f578a4faf94c06bd00cd26a2f": {
          "model_module": "@jupyter-widgets/base",
          "model_name": "LayoutModel",
          "state": {
            "_view_name": "LayoutView",
            "grid_template_rows": null,
            "right": null,
            "justify_content": null,
            "_view_module": "@jupyter-widgets/base",
            "overflow": null,
            "_model_module_version": "1.2.0",
            "_view_count": null,
            "flex_flow": null,
            "width": null,
            "min_width": null,
            "border": null,
            "align_items": null,
            "bottom": null,
            "_model_module": "@jupyter-widgets/base",
            "top": null,
            "grid_column": null,
            "overflow_y": null,
            "overflow_x": null,
            "grid_auto_flow": null,
            "grid_area": null,
            "grid_template_columns": null,
            "flex": null,
            "_model_name": "LayoutModel",
            "justify_items": null,
            "grid_row": null,
            "max_height": null,
            "align_content": null,
            "visibility": null,
            "align_self": null,
            "height": null,
            "min_height": null,
            "padding": null,
            "grid_auto_rows": null,
            "grid_gap": null,
            "max_width": null,
            "order": null,
            "_view_module_version": "1.2.0",
            "grid_template_areas": null,
            "object_position": null,
            "object_fit": null,
            "grid_auto_columns": null,
            "margin": null,
            "display": null,
            "left": null
          }
        },
        "4eb7a49c4c1d42838008b5858f68358d": {
          "model_module": "@jupyter-widgets/controls",
          "model_name": "IntProgressModel",
          "state": {
            "_view_name": "ProgressView",
            "style": "IPY_MODEL_d3cd288a13a0461c866d3526d7a90b43",
            "_dom_classes": [],
            "description": "",
            "_model_name": "IntProgressModel",
            "bar_style": "info",
            "max": 1,
            "_view_module": "@jupyter-widgets/controls",
            "_model_module_version": "1.5.0",
            "value": 1,
            "_view_count": null,
            "_view_module_version": "1.5.0",
            "orientation": "horizontal",
            "min": 0,
            "description_tooltip": null,
            "_model_module": "@jupyter-widgets/controls",
            "layout": "IPY_MODEL_8f7f423666f8454d99b9de7a8a3bb8ae"
          }
        },
        "0b8517dfbf1946feb37c57b5095c9515": {
          "model_module": "@jupyter-widgets/controls",
          "model_name": "HTMLModel",
          "state": {
            "_view_name": "HTMLView",
            "style": "IPY_MODEL_3a591adb297a43aabe06642743dfd473",
            "_dom_classes": [],
            "description": "",
            "_model_name": "HTMLModel",
            "placeholder": "​",
            "_view_module": "@jupyter-widgets/controls",
            "_model_module_version": "1.5.0",
            "value": " 32768/? [00:17&lt;00:00, 114822.39it/s]",
            "_view_count": null,
            "_view_module_version": "1.5.0",
            "description_tooltip": null,
            "_model_module": "@jupyter-widgets/controls",
            "layout": "IPY_MODEL_dde217ff0500424b918bcf6da9162357"
          }
        },
        "d3cd288a13a0461c866d3526d7a90b43": {
          "model_module": "@jupyter-widgets/controls",
          "model_name": "ProgressStyleModel",
          "state": {
            "_view_name": "StyleView",
            "_model_name": "ProgressStyleModel",
            "description_width": "initial",
            "_view_module": "@jupyter-widgets/base",
            "_model_module_version": "1.5.0",
            "_view_count": null,
            "_view_module_version": "1.2.0",
            "bar_color": null,
            "_model_module": "@jupyter-widgets/controls"
          }
        },
        "8f7f423666f8454d99b9de7a8a3bb8ae": {
          "model_module": "@jupyter-widgets/base",
          "model_name": "LayoutModel",
          "state": {
            "_view_name": "LayoutView",
            "grid_template_rows": null,
            "right": null,
            "justify_content": null,
            "_view_module": "@jupyter-widgets/base",
            "overflow": null,
            "_model_module_version": "1.2.0",
            "_view_count": null,
            "flex_flow": null,
            "width": null,
            "min_width": null,
            "border": null,
            "align_items": null,
            "bottom": null,
            "_model_module": "@jupyter-widgets/base",
            "top": null,
            "grid_column": null,
            "overflow_y": null,
            "overflow_x": null,
            "grid_auto_flow": null,
            "grid_area": null,
            "grid_template_columns": null,
            "flex": null,
            "_model_name": "LayoutModel",
            "justify_items": null,
            "grid_row": null,
            "max_height": null,
            "align_content": null,
            "visibility": null,
            "align_self": null,
            "height": null,
            "min_height": null,
            "padding": null,
            "grid_auto_rows": null,
            "grid_gap": null,
            "max_width": null,
            "order": null,
            "_view_module_version": "1.2.0",
            "grid_template_areas": null,
            "object_position": null,
            "object_fit": null,
            "grid_auto_columns": null,
            "margin": null,
            "display": null,
            "left": null
          }
        },
        "3a591adb297a43aabe06642743dfd473": {
          "model_module": "@jupyter-widgets/controls",
          "model_name": "DescriptionStyleModel",
          "state": {
            "_view_name": "StyleView",
            "_model_name": "DescriptionStyleModel",
            "description_width": "",
            "_view_module": "@jupyter-widgets/base",
            "_model_module_version": "1.5.0",
            "_view_count": null,
            "_view_module_version": "1.2.0",
            "_model_module": "@jupyter-widgets/controls"
          }
        },
        "dde217ff0500424b918bcf6da9162357": {
          "model_module": "@jupyter-widgets/base",
          "model_name": "LayoutModel",
          "state": {
            "_view_name": "LayoutView",
            "grid_template_rows": null,
            "right": null,
            "justify_content": null,
            "_view_module": "@jupyter-widgets/base",
            "overflow": null,
            "_model_module_version": "1.2.0",
            "_view_count": null,
            "flex_flow": null,
            "width": null,
            "min_width": null,
            "border": null,
            "align_items": null,
            "bottom": null,
            "_model_module": "@jupyter-widgets/base",
            "top": null,
            "grid_column": null,
            "overflow_y": null,
            "overflow_x": null,
            "grid_auto_flow": null,
            "grid_area": null,
            "grid_template_columns": null,
            "flex": null,
            "_model_name": "LayoutModel",
            "justify_items": null,
            "grid_row": null,
            "max_height": null,
            "align_content": null,
            "visibility": null,
            "align_self": null,
            "height": null,
            "min_height": null,
            "padding": null,
            "grid_auto_rows": null,
            "grid_gap": null,
            "max_width": null,
            "order": null,
            "_view_module_version": "1.2.0",
            "grid_template_areas": null,
            "object_position": null,
            "object_fit": null,
            "grid_auto_columns": null,
            "margin": null,
            "display": null,
            "left": null
          }
        },
        "c13ff3df6c02465684ee17e6c155a5aa": {
          "model_module": "@jupyter-widgets/controls",
          "model_name": "HBoxModel",
          "state": {
            "_view_name": "HBoxView",
            "_dom_classes": [],
            "_model_name": "HBoxModel",
            "_view_module": "@jupyter-widgets/controls",
            "_model_module_version": "1.5.0",
            "_view_count": null,
            "_view_module_version": "1.5.0",
            "box_style": "",
            "layout": "IPY_MODEL_cb70a610e18d4ea1beee977798435069",
            "_model_module": "@jupyter-widgets/controls",
            "children": [
              "IPY_MODEL_696ab9ae20084bb7acb93f17ab21482b",
              "IPY_MODEL_a1d745a593644d2ebe1074260eaeb5e3"
            ]
          }
        },
        "cb70a610e18d4ea1beee977798435069": {
          "model_module": "@jupyter-widgets/base",
          "model_name": "LayoutModel",
          "state": {
            "_view_name": "LayoutView",
            "grid_template_rows": null,
            "right": null,
            "justify_content": null,
            "_view_module": "@jupyter-widgets/base",
            "overflow": null,
            "_model_module_version": "1.2.0",
            "_view_count": null,
            "flex_flow": null,
            "width": null,
            "min_width": null,
            "border": null,
            "align_items": null,
            "bottom": null,
            "_model_module": "@jupyter-widgets/base",
            "top": null,
            "grid_column": null,
            "overflow_y": null,
            "overflow_x": null,
            "grid_auto_flow": null,
            "grid_area": null,
            "grid_template_columns": null,
            "flex": null,
            "_model_name": "LayoutModel",
            "justify_items": null,
            "grid_row": null,
            "max_height": null,
            "align_content": null,
            "visibility": null,
            "align_self": null,
            "height": null,
            "min_height": null,
            "padding": null,
            "grid_auto_rows": null,
            "grid_gap": null,
            "max_width": null,
            "order": null,
            "_view_module_version": "1.2.0",
            "grid_template_areas": null,
            "object_position": null,
            "object_fit": null,
            "grid_auto_columns": null,
            "margin": null,
            "display": null,
            "left": null
          }
        },
        "696ab9ae20084bb7acb93f17ab21482b": {
          "model_module": "@jupyter-widgets/controls",
          "model_name": "IntProgressModel",
          "state": {
            "_view_name": "ProgressView",
            "style": "IPY_MODEL_014f5d9566eb4483b8037f7cbc185008",
            "_dom_classes": [],
            "description": "",
            "_model_name": "IntProgressModel",
            "bar_style": "info",
            "max": 1,
            "_view_module": "@jupyter-widgets/controls",
            "_model_module_version": "1.5.0",
            "value": 1,
            "_view_count": null,
            "_view_module_version": "1.5.0",
            "orientation": "horizontal",
            "min": 0,
            "description_tooltip": null,
            "_model_module": "@jupyter-widgets/controls",
            "layout": "IPY_MODEL_58c302288e6346c7b085c42faa338609"
          }
        },
        "a1d745a593644d2ebe1074260eaeb5e3": {
          "model_module": "@jupyter-widgets/controls",
          "model_name": "HTMLModel",
          "state": {
            "_view_name": "HTMLView",
            "style": "IPY_MODEL_cb5a40e3ab294300b603c7bc174aa07d",
            "_dom_classes": [],
            "description": "",
            "_model_name": "HTMLModel",
            "placeholder": "​",
            "_view_module": "@jupyter-widgets/controls",
            "_model_module_version": "1.5.0",
            "value": " 4423680/? [00:16&lt;00:00, 794465.34it/s]",
            "_view_count": null,
            "_view_module_version": "1.5.0",
            "description_tooltip": null,
            "_model_module": "@jupyter-widgets/controls",
            "layout": "IPY_MODEL_4e5e41eb3ffe4393bcfef1287b78c763"
          }
        },
        "014f5d9566eb4483b8037f7cbc185008": {
          "model_module": "@jupyter-widgets/controls",
          "model_name": "ProgressStyleModel",
          "state": {
            "_view_name": "StyleView",
            "_model_name": "ProgressStyleModel",
            "description_width": "initial",
            "_view_module": "@jupyter-widgets/base",
            "_model_module_version": "1.5.0",
            "_view_count": null,
            "_view_module_version": "1.2.0",
            "bar_color": null,
            "_model_module": "@jupyter-widgets/controls"
          }
        },
        "58c302288e6346c7b085c42faa338609": {
          "model_module": "@jupyter-widgets/base",
          "model_name": "LayoutModel",
          "state": {
            "_view_name": "LayoutView",
            "grid_template_rows": null,
            "right": null,
            "justify_content": null,
            "_view_module": "@jupyter-widgets/base",
            "overflow": null,
            "_model_module_version": "1.2.0",
            "_view_count": null,
            "flex_flow": null,
            "width": null,
            "min_width": null,
            "border": null,
            "align_items": null,
            "bottom": null,
            "_model_module": "@jupyter-widgets/base",
            "top": null,
            "grid_column": null,
            "overflow_y": null,
            "overflow_x": null,
            "grid_auto_flow": null,
            "grid_area": null,
            "grid_template_columns": null,
            "flex": null,
            "_model_name": "LayoutModel",
            "justify_items": null,
            "grid_row": null,
            "max_height": null,
            "align_content": null,
            "visibility": null,
            "align_self": null,
            "height": null,
            "min_height": null,
            "padding": null,
            "grid_auto_rows": null,
            "grid_gap": null,
            "max_width": null,
            "order": null,
            "_view_module_version": "1.2.0",
            "grid_template_areas": null,
            "object_position": null,
            "object_fit": null,
            "grid_auto_columns": null,
            "margin": null,
            "display": null,
            "left": null
          }
        },
        "cb5a40e3ab294300b603c7bc174aa07d": {
          "model_module": "@jupyter-widgets/controls",
          "model_name": "DescriptionStyleModel",
          "state": {
            "_view_name": "StyleView",
            "_model_name": "DescriptionStyleModel",
            "description_width": "",
            "_view_module": "@jupyter-widgets/base",
            "_model_module_version": "1.5.0",
            "_view_count": null,
            "_view_module_version": "1.2.0",
            "_model_module": "@jupyter-widgets/controls"
          }
        },
        "4e5e41eb3ffe4393bcfef1287b78c763": {
          "model_module": "@jupyter-widgets/base",
          "model_name": "LayoutModel",
          "state": {
            "_view_name": "LayoutView",
            "grid_template_rows": null,
            "right": null,
            "justify_content": null,
            "_view_module": "@jupyter-widgets/base",
            "overflow": null,
            "_model_module_version": "1.2.0",
            "_view_count": null,
            "flex_flow": null,
            "width": null,
            "min_width": null,
            "border": null,
            "align_items": null,
            "bottom": null,
            "_model_module": "@jupyter-widgets/base",
            "top": null,
            "grid_column": null,
            "overflow_y": null,
            "overflow_x": null,
            "grid_auto_flow": null,
            "grid_area": null,
            "grid_template_columns": null,
            "flex": null,
            "_model_name": "LayoutModel",
            "justify_items": null,
            "grid_row": null,
            "max_height": null,
            "align_content": null,
            "visibility": null,
            "align_self": null,
            "height": null,
            "min_height": null,
            "padding": null,
            "grid_auto_rows": null,
            "grid_gap": null,
            "max_width": null,
            "order": null,
            "_view_module_version": "1.2.0",
            "grid_template_areas": null,
            "object_position": null,
            "object_fit": null,
            "grid_auto_columns": null,
            "margin": null,
            "display": null,
            "left": null
          }
        },
        "14c2f81173c24d36b4d281e47d6c9248": {
          "model_module": "@jupyter-widgets/controls",
          "model_name": "HBoxModel",
          "state": {
            "_view_name": "HBoxView",
            "_dom_classes": [],
            "_model_name": "HBoxModel",
            "_view_module": "@jupyter-widgets/controls",
            "_model_module_version": "1.5.0",
            "_view_count": null,
            "_view_module_version": "1.5.0",
            "box_style": "",
            "layout": "IPY_MODEL_a3d75e7eb8e04f5d8a46371c2acc8ccd",
            "_model_module": "@jupyter-widgets/controls",
            "children": [
              "IPY_MODEL_4b210f0134184d37b3f9a581e0e4088e",
              "IPY_MODEL_ecebccd51bd54847bd6aba3e06ca080a"
            ]
          }
        },
        "a3d75e7eb8e04f5d8a46371c2acc8ccd": {
          "model_module": "@jupyter-widgets/base",
          "model_name": "LayoutModel",
          "state": {
            "_view_name": "LayoutView",
            "grid_template_rows": null,
            "right": null,
            "justify_content": null,
            "_view_module": "@jupyter-widgets/base",
            "overflow": null,
            "_model_module_version": "1.2.0",
            "_view_count": null,
            "flex_flow": null,
            "width": null,
            "min_width": null,
            "border": null,
            "align_items": null,
            "bottom": null,
            "_model_module": "@jupyter-widgets/base",
            "top": null,
            "grid_column": null,
            "overflow_y": null,
            "overflow_x": null,
            "grid_auto_flow": null,
            "grid_area": null,
            "grid_template_columns": null,
            "flex": null,
            "_model_name": "LayoutModel",
            "justify_items": null,
            "grid_row": null,
            "max_height": null,
            "align_content": null,
            "visibility": null,
            "align_self": null,
            "height": null,
            "min_height": null,
            "padding": null,
            "grid_auto_rows": null,
            "grid_gap": null,
            "max_width": null,
            "order": null,
            "_view_module_version": "1.2.0",
            "grid_template_areas": null,
            "object_position": null,
            "object_fit": null,
            "grid_auto_columns": null,
            "margin": null,
            "display": null,
            "left": null
          }
        },
        "4b210f0134184d37b3f9a581e0e4088e": {
          "model_module": "@jupyter-widgets/controls",
          "model_name": "IntProgressModel",
          "state": {
            "_view_name": "ProgressView",
            "style": "IPY_MODEL_bba015e79cec4085bb7e47c7db2137b5",
            "_dom_classes": [],
            "description": "  0%",
            "_model_name": "IntProgressModel",
            "bar_style": "info",
            "max": 1,
            "_view_module": "@jupyter-widgets/controls",
            "_model_module_version": "1.5.0",
            "value": 0,
            "_view_count": null,
            "_view_module_version": "1.5.0",
            "orientation": "horizontal",
            "min": 0,
            "description_tooltip": null,
            "_model_module": "@jupyter-widgets/controls",
            "layout": "IPY_MODEL_828ed24f49594b6f83087118576ecaff"
          }
        },
        "ecebccd51bd54847bd6aba3e06ca080a": {
          "model_module": "@jupyter-widgets/controls",
          "model_name": "HTMLModel",
          "state": {
            "_view_name": "HTMLView",
            "style": "IPY_MODEL_9cb6e5aed13e4d5a905c3b671e50cf7f",
            "_dom_classes": [],
            "description": "",
            "_model_name": "HTMLModel",
            "placeholder": "​",
            "_view_module": "@jupyter-widgets/controls",
            "_model_module_version": "1.5.0",
            "value": " 0/5148 [00:00&lt;?, ?it/s]",
            "_view_count": null,
            "_view_module_version": "1.5.0",
            "description_tooltip": null,
            "_model_module": "@jupyter-widgets/controls",
            "layout": "IPY_MODEL_0ed6aeb836af4e4bbd62a00595e66b99"
          }
        },
        "bba015e79cec4085bb7e47c7db2137b5": {
          "model_module": "@jupyter-widgets/controls",
          "model_name": "ProgressStyleModel",
          "state": {
            "_view_name": "StyleView",
            "_model_name": "ProgressStyleModel",
            "description_width": "initial",
            "_view_module": "@jupyter-widgets/base",
            "_model_module_version": "1.5.0",
            "_view_count": null,
            "_view_module_version": "1.2.0",
            "bar_color": null,
            "_model_module": "@jupyter-widgets/controls"
          }
        },
        "828ed24f49594b6f83087118576ecaff": {
          "model_module": "@jupyter-widgets/base",
          "model_name": "LayoutModel",
          "state": {
            "_view_name": "LayoutView",
            "grid_template_rows": null,
            "right": null,
            "justify_content": null,
            "_view_module": "@jupyter-widgets/base",
            "overflow": null,
            "_model_module_version": "1.2.0",
            "_view_count": null,
            "flex_flow": null,
            "width": null,
            "min_width": null,
            "border": null,
            "align_items": null,
            "bottom": null,
            "_model_module": "@jupyter-widgets/base",
            "top": null,
            "grid_column": null,
            "overflow_y": null,
            "overflow_x": null,
            "grid_auto_flow": null,
            "grid_area": null,
            "grid_template_columns": null,
            "flex": null,
            "_model_name": "LayoutModel",
            "justify_items": null,
            "grid_row": null,
            "max_height": null,
            "align_content": null,
            "visibility": null,
            "align_self": null,
            "height": null,
            "min_height": null,
            "padding": null,
            "grid_auto_rows": null,
            "grid_gap": null,
            "max_width": null,
            "order": null,
            "_view_module_version": "1.2.0",
            "grid_template_areas": null,
            "object_position": null,
            "object_fit": null,
            "grid_auto_columns": null,
            "margin": null,
            "display": null,
            "left": null
          }
        },
        "9cb6e5aed13e4d5a905c3b671e50cf7f": {
          "model_module": "@jupyter-widgets/controls",
          "model_name": "DescriptionStyleModel",
          "state": {
            "_view_name": "StyleView",
            "_model_name": "DescriptionStyleModel",
            "description_width": "",
            "_view_module": "@jupyter-widgets/base",
            "_model_module_version": "1.5.0",
            "_view_count": null,
            "_view_module_version": "1.2.0",
            "_model_module": "@jupyter-widgets/controls"
          }
        },
        "0ed6aeb836af4e4bbd62a00595e66b99": {
          "model_module": "@jupyter-widgets/base",
          "model_name": "LayoutModel",
          "state": {
            "_view_name": "LayoutView",
            "grid_template_rows": null,
            "right": null,
            "justify_content": null,
            "_view_module": "@jupyter-widgets/base",
            "overflow": null,
            "_model_module_version": "1.2.0",
            "_view_count": null,
            "flex_flow": null,
            "width": null,
            "min_width": null,
            "border": null,
            "align_items": null,
            "bottom": null,
            "_model_module": "@jupyter-widgets/base",
            "top": null,
            "grid_column": null,
            "overflow_y": null,
            "overflow_x": null,
            "grid_auto_flow": null,
            "grid_area": null,
            "grid_template_columns": null,
            "flex": null,
            "_model_name": "LayoutModel",
            "justify_items": null,
            "grid_row": null,
            "max_height": null,
            "align_content": null,
            "visibility": null,
            "align_self": null,
            "height": null,
            "min_height": null,
            "padding": null,
            "grid_auto_rows": null,
            "grid_gap": null,
            "max_width": null,
            "order": null,
            "_view_module_version": "1.2.0",
            "grid_template_areas": null,
            "object_position": null,
            "object_fit": null,
            "grid_auto_columns": null,
            "margin": null,
            "display": null,
            "left": null
          }
        }
      }
    }
  },
  "cells": [
    {
      "cell_type": "markdown",
      "metadata": {
        "id": "view-in-github",
        "colab_type": "text"
      },
      "source": [
        "<a href=\"https://colab.research.google.com/github/jwarren3/csc591-602/blob/master/PySyft_vFederated_attack_V5.ipynb\" target=\"_parent\"><img src=\"https://colab.research.google.com/assets/colab-badge.svg\" alt=\"Open In Colab\"/></a>"
      ]
    },
    {
      "cell_type": "code",
      "metadata": {
        "id": "mjKm6x1Pd6vL",
        "colab_type": "code",
        "colab": {}
      },
      "source": [
        "############\n",
        "#INSTALL PySyft\n",
        "##########\n",
        "\n",
        "!git clone https://github.com/OpenMined/PySyft.git\n",
        "!cd PySyft/\n",
        "!pip install -r PySyft/pip-dep/requirements.txt\n",
        "!pip install -r PySyft/pip-dep/requirements_udacity.txt\n",
        "!python PySyft/setup.py install"
      ],
      "execution_count": 0,
      "outputs": []
    },
    {
      "cell_type": "code",
      "metadata": {
        "id": "Gu0PigC0d86Q",
        "colab_type": "code",
        "colab": {}
      },
      "source": [
        "# Run this cell to add PySyft path \n",
        "import os\n",
        "import sys\n",
        "module_path = os.path.abspath(os.path.join('./PySyft'))\n",
        "if module_path not in sys.path:\n",
        "    sys.path.append(module_path)"
      ],
      "execution_count": 0,
      "outputs": []
    },
    {
      "cell_type": "code",
      "metadata": {
        "id": "L1AIsdPrd-QZ",
        "colab_type": "code",
        "colab": {}
      },
      "source": [
        "import torch\n",
        "import torch.nn as nn\n",
        "import torch.nn.functional as F\n",
        "import torch.optim as optim\n",
        "from torchvision import datasets, transforms\n",
        "import copy\n",
        "import regex as re"
      ],
      "execution_count": 0,
      "outputs": []
    },
    {
      "cell_type": "code",
      "metadata": {
        "id": "T54Dck6geCS3",
        "colab_type": "code",
        "outputId": "54cee1d9-313b-404a-8a71-675eba6d74e7",
        "colab": {
          "base_uri": "https://localhost:8080/",
          "height": 89
        }
      },
      "source": [
        "import syft as sy  # <-- NEW: import the Pysyft library\n",
        "hook = sy.TorchHook(torch)  # <-- NEW: hook PyTorch ie add extra functionalities to support Federated Learning\n"
      ],
      "execution_count": 3,
      "outputs": [
        {
          "output_type": "stream",
          "text": [
            "Falling back to insecure randomness since the required custom op could not be found for the installed version of TensorFlow. Fix this by compiling custom ops. Missing file was '/usr/local/lib/python3.6/dist-packages/tf_encrypted/operations/secure_random/secure_random_module_tf_1.15.2.so'\n"
          ],
          "name": "stderr"
        },
        {
          "output_type": "stream",
          "text": [
            "WARNING:tensorflow:From /usr/local/lib/python3.6/dist-packages/tf_encrypted/session.py:24: The name tf.Session is deprecated. Please use tf.compat.v1.Session instead.\n",
            "\n"
          ],
          "name": "stdout"
        }
      ]
    },
    {
      "cell_type": "code",
      "metadata": {
        "id": "5yTb8kkIeEMK",
        "colab_type": "code",
        "colab": {}
      },
      "source": [
        "Agent_1 = sy.VirtualWorker(hook, id=\"Agent_1\")\n",
        "Agent_2 = sy.VirtualWorker(hook, id=\"Agent_2\")\n",
        "Agent_3 = sy.VirtualWorker(hook, id=\"Agent_3\")\n",
        "Agent_4 = sy.VirtualWorker(hook, id=\"Agent_4\")\n",
        "Agent_5 = sy.VirtualWorker(hook, id=\"Agent_5\")\n",
        "Agent_6 = sy.VirtualWorker(hook, id=\"Agent_6\")\n",
        "Agent_7 = sy.VirtualWorker(hook, id=\"Agent_7\")\n",
        "Agent_8 = sy.VirtualWorker(hook, id=\"Agent_8\")\n",
        "Agent_9 = sy.VirtualWorker(hook, id=\"Agent_9\")\n",
        "Agent_10 = sy.VirtualWorker(hook, id=\"Agent_10\")\n"
      ],
      "execution_count": 0,
      "outputs": []
    },
    {
      "cell_type": "code",
      "metadata": {
        "id": "faxi6b1WfR6Z",
        "colab_type": "code",
        "colab": {}
      },
      "source": [
        "Agent_base = sy.VirtualWorker(hook, id=\"Agent_base\")"
      ],
      "execution_count": 0,
      "outputs": []
    },
    {
      "cell_type": "code",
      "metadata": {
        "id": "yrx6O1Rxfixz",
        "colab_type": "code",
        "outputId": "612aafae-dfed-4772-aaff-f3f4bab6cbea",
        "colab": {
          "base_uri": "https://localhost:8080/",
          "height": 356,
          "referenced_widgets": [
            "e578946b95aa4cf293f7239db2087e9c",
            "f6e390eaefc64d1db2214c55fcbdd902",
            "8bc602421adb4613b4cc6ea9dd7dbcff",
            "fee3303b78094388af082b876daccee8",
            "c0c1757db6ef4ba5b1a5f49973ac07e9",
            "d5a74db94fed476cbc78fefe28bbe803",
            "46910bc967fe41d79b5fc060ce64e043",
            "da556ee413c04ded881be66f85d627aa",
            "1f30c8af3f8642c5a8f2c8f12e8eb460",
            "81ea411f578a4faf94c06bd00cd26a2f",
            "4eb7a49c4c1d42838008b5858f68358d",
            "0b8517dfbf1946feb37c57b5095c9515",
            "d3cd288a13a0461c866d3526d7a90b43",
            "8f7f423666f8454d99b9de7a8a3bb8ae",
            "3a591adb297a43aabe06642743dfd473",
            "dde217ff0500424b918bcf6da9162357",
            "c13ff3df6c02465684ee17e6c155a5aa",
            "cb70a610e18d4ea1beee977798435069",
            "696ab9ae20084bb7acb93f17ab21482b",
            "a1d745a593644d2ebe1074260eaeb5e3",
            "014f5d9566eb4483b8037f7cbc185008",
            "58c302288e6346c7b085c42faa338609",
            "cb5a40e3ab294300b603c7bc174aa07d",
            "4e5e41eb3ffe4393bcfef1287b78c763",
            "14c2f81173c24d36b4d281e47d6c9248",
            "a3d75e7eb8e04f5d8a46371c2acc8ccd",
            "4b210f0134184d37b3f9a581e0e4088e",
            "ecebccd51bd54847bd6aba3e06ca080a",
            "bba015e79cec4085bb7e47c7db2137b5",
            "828ed24f49594b6f83087118576ecaff",
            "9cb6e5aed13e4d5a905c3b671e50cf7f",
            "0ed6aeb836af4e4bbd62a00595e66b99"
          ]
        }
      },
      "source": [
        "mnist_full_train_dataset_bs = datasets.FashionMNIST('../data', train=True, download=True,transform=transforms.Compose([transforms.ToTensor(),transforms.Normalize((0.1307,), (0.3081,))]))"
      ],
      "execution_count": 6,
      "outputs": [
        {
          "output_type": "stream",
          "text": [
            "Downloading http://fashion-mnist.s3-website.eu-central-1.amazonaws.com/train-images-idx3-ubyte.gz to ../data/FashionMNIST/raw/train-images-idx3-ubyte.gz\n"
          ],
          "name": "stdout"
        },
        {
          "output_type": "display_data",
          "data": {
            "application/vnd.jupyter.widget-view+json": {
              "model_id": "e578946b95aa4cf293f7239db2087e9c",
              "version_minor": 0,
              "version_major": 2
            },
            "text/plain": [
              "HBox(children=(IntProgress(value=1, bar_style='info', max=1), HTML(value='')))"
            ]
          },
          "metadata": {
            "tags": []
          }
        },
        {
          "output_type": "stream",
          "text": [
            "Extracting ../data/FashionMNIST/raw/train-images-idx3-ubyte.gz to ../data/FashionMNIST/raw\n",
            "Downloading http://fashion-mnist.s3-website.eu-central-1.amazonaws.com/train-labels-idx1-ubyte.gz to ../data/FashionMNIST/raw/train-labels-idx1-ubyte.gz\n",
            "\n"
          ],
          "name": "stdout"
        },
        {
          "output_type": "display_data",
          "data": {
            "application/vnd.jupyter.widget-view+json": {
              "model_id": "1f30c8af3f8642c5a8f2c8f12e8eb460",
              "version_minor": 0,
              "version_major": 2
            },
            "text/plain": [
              "HBox(children=(IntProgress(value=1, bar_style='info', max=1), HTML(value='')))"
            ]
          },
          "metadata": {
            "tags": []
          }
        },
        {
          "output_type": "stream",
          "text": [
            "Extracting ../data/FashionMNIST/raw/train-labels-idx1-ubyte.gz to ../data/FashionMNIST/raw\n",
            "Downloading http://fashion-mnist.s3-website.eu-central-1.amazonaws.com/t10k-images-idx3-ubyte.gz to ../data/FashionMNIST/raw/t10k-images-idx3-ubyte.gz\n"
          ],
          "name": "stdout"
        },
        {
          "output_type": "display_data",
          "data": {
            "application/vnd.jupyter.widget-view+json": {
              "model_id": "c13ff3df6c02465684ee17e6c155a5aa",
              "version_minor": 0,
              "version_major": 2
            },
            "text/plain": [
              "HBox(children=(IntProgress(value=1, bar_style='info', max=1), HTML(value='')))"
            ]
          },
          "metadata": {
            "tags": []
          }
        },
        {
          "output_type": "stream",
          "text": [
            "Extracting ../data/FashionMNIST/raw/t10k-images-idx3-ubyte.gz to ../data/FashionMNIST/raw\n",
            "Downloading http://fashion-mnist.s3-website.eu-central-1.amazonaws.com/t10k-labels-idx1-ubyte.gz to ../data/FashionMNIST/raw/t10k-labels-idx1-ubyte.gz\n"
          ],
          "name": "stdout"
        },
        {
          "output_type": "display_data",
          "data": {
            "application/vnd.jupyter.widget-view+json": {
              "model_id": "14c2f81173c24d36b4d281e47d6c9248",
              "version_minor": 0,
              "version_major": 2
            },
            "text/plain": [
              "HBox(children=(IntProgress(value=1, bar_style='info', max=1), HTML(value='')))"
            ]
          },
          "metadata": {
            "tags": []
          }
        },
        {
          "output_type": "stream",
          "text": [
            "Extracting ../data/FashionMNIST/raw/t10k-labels-idx1-ubyte.gz to ../data/FashionMNIST/raw\n",
            "Processing...\n",
            "Done!\n"
          ],
          "name": "stdout"
        }
      ]
    },
    {
      "cell_type": "code",
      "metadata": {
        "id": "O_SIjwUkeHFi",
        "colab_type": "code",
        "colab": {}
      },
      "source": [
        "class Arguments():\n",
        "    def __init__(self):\n",
        "        self.batch_size = 60\n",
        "        self.test_batch_size = 1000\n",
        "        self.epochs = 1\n",
        "        self.lr = 0.005\n",
        "        self.momentum = 0.5\n",
        "        self.no_cuda = False\n",
        "        self.seed = 1\n",
        "        self.log_interval = 30\n",
        "        self.save_model = False\n",
        "        self.mal = True\n",
        "        self.targeted = True\n",
        "\n",
        "args = Arguments()\n",
        "\n",
        "use_cuda = not args.no_cuda and torch.cuda.is_available()\n",
        "\n",
        "torch.manual_seed(args.seed)\n",
        "\n",
        "device = torch.device(\"cuda\" if use_cuda else \"cpu\")\n",
        "\n",
        "kwargs = {'num_workers': 1, 'pin_memory': True} if use_cuda else {}"
      ],
      "execution_count": 0,
      "outputs": []
    },
    {
      "cell_type": "code",
      "metadata": {
        "id": "HF3tG6I2fuCf",
        "colab_type": "code",
        "outputId": "46891ba4-a66a-4309-f89b-285901ca9dfe",
        "colab": {
          "base_uri": "https://localhost:8080/",
          "height": 35
        }
      },
      "source": [
        "federated_train_ds_baseline = sy.FederatedDataLoader(mnist_full_train_dataset_bs.federate((Agent_base,)),batch_size=60,shuffle=True, **kwargs)"
      ],
      "execution_count": 8,
      "outputs": [
        {
          "output_type": "stream",
          "text": [
            "WARNING:root:The following options are not supported: num_workers: 1, pin_memory: True\n"
          ],
          "name": "stderr"
        }
      ]
    },
    {
      "cell_type": "code",
      "metadata": {
        "id": "KJM5PELdeKkA",
        "colab_type": "code",
        "colab": {}
      },
      "source": [
        "# This is the dataset that will be used repeateadly to test model performance\n",
        "test_loader = torch.utils.data.DataLoader(\n",
        "    datasets.FashionMNIST('../data', train=False, transform=transforms.Compose([\n",
        "                       transforms.ToTensor(),\n",
        "                       transforms.Normalize((0.1307,), (0.3081,))\n",
        "                   ])),\n",
        "    batch_size=args.test_batch_size, shuffle=True, **kwargs)"
      ],
      "execution_count": 0,
      "outputs": []
    },
    {
      "cell_type": "code",
      "metadata": {
        "id": "5Wxf1b6YgTpA",
        "colab_type": "code",
        "colab": {}
      },
      "source": [
        "class Net(nn.Module):\n",
        "    def __init__(self):\n",
        "        super(Net, self).__init__()\n",
        "        self.conv1 = nn.Conv2d(1, 20, 5, 1)\n",
        "        self.conv2 = nn.Conv2d(20, 50, 5, 1)\n",
        "        self.fc1 = nn.Linear(4*4*50, 500)\n",
        "        self.fc2 = nn.Linear(500, 10)\n",
        "\n",
        "    def forward(self, x):\n",
        "        x = F.relu(self.conv1(x))\n",
        "        x = F.max_pool2d(x, 2, 2)\n",
        "        x = F.relu(self.conv2(x))\n",
        "        x = F.max_pool2d(x, 2, 2)\n",
        "        x = x.view(-1, 4*4*50)\n",
        "        x = F.relu(self.fc1(x))\n",
        "        x = self.fc2(x)\n",
        "        return F.log_softmax(x, dim=1)"
      ],
      "execution_count": 0,
      "outputs": []
    },
    {
      "cell_type": "code",
      "metadata": {
        "id": "8D6toIGXgrdX",
        "colab_type": "code",
        "outputId": "bf22117a-1451-47b0-92d9-dc5ae266a0d9",
        "colab": {
          "base_uri": "https://localhost:8080/",
          "height": 52
        }
      },
      "source": [
        "%%time\n",
        "model = Net().to(device)\n",
        "optimizer = optim.SGD(model.parameters(), lr=args.lr) # TODO momentum is not supported at the moment"
      ],
      "execution_count": 11,
      "outputs": [
        {
          "output_type": "stream",
          "text": [
            "CPU times: user 2.1 s, sys: 918 ms, total: 3.02 s\n",
            "Wall time: 8.87 s\n"
          ],
          "name": "stdout"
        }
      ]
    },
    {
      "cell_type": "code",
      "metadata": {
        "id": "YJyoWVK0kAL7",
        "colab_type": "code",
        "colab": {}
      },
      "source": [
        "# Helper function to calculate training loss and accuracy.\n",
        "\n",
        "def test(args, model, device, test_loader):\n",
        "    model.eval()\n",
        "    test_loss = 0\n",
        "    correct = 0\n",
        "    with torch.no_grad():\n",
        "        for data, target in test_loader:\n",
        "            data, target = data.to(device), target.to(device)\n",
        "            output = model(data)\n",
        "            test_loss += F.nll_loss(output, target, reduction='sum').item() # sum up batch loss\n",
        "            pred = output.argmax(1, keepdim=True) # get the index of the max log-probability \n",
        "            correct += pred.eq(target.view_as(pred)).sum().item()\n",
        "\n",
        "    test_loss /= len(test_loader.dataset)\n",
        "    '''\n",
        "    print('\\nTest set: Average loss: {:.4f}, Accuracy: {}/{} ({:.0f}%)\\n'.format(\n",
        "        test_loss, correct, len(test_loader.dataset),\n",
        "        100. * correct / len(test_loader.dataset)))\n",
        "    '''\n",
        "    return test_loss, 100. * correct / len(test_loader.dataset)"
      ],
      "execution_count": 0,
      "outputs": []
    },
    {
      "cell_type": "code",
      "metadata": {
        "id": "dsnbWqQJhiSB",
        "colab_type": "code",
        "outputId": "98bc76be-00b2-4340-d28e-eaf8abe52006",
        "colab": {
          "base_uri": "https://localhost:8080/",
          "height": 1000
        }
      },
      "source": [
        "# Base model training. Only training with one agent.\n",
        "\n",
        "model.train()\n",
        "for epoch in range(1,8):\n",
        "  for batch_idx, (data, target) in enumerate(federated_train_ds_baseline):\n",
        "    model.send(data.location)\n",
        "    data, target = data.to(device), target.to(device)\n",
        "    optimizer.zero_grad()\n",
        "    output = model(data)\n",
        "    loss = F.nll_loss(output, target)\n",
        "    loss.backward()\n",
        "    optimizer.step()\n",
        "    model.get()\n",
        "    if batch_idx % args.log_interval == 0:\n",
        "        loss = loss.get() # <-- NEW: get the loss back\n",
        "        print('Agent: {} Train Epoch: {} [{}/{} ({:.0f}%)]\\tLoss: {:.6f}'.format(\n",
        "            data.location,epoch, batch_idx * args.batch_size, len(federated_train_ds_baseline) * args.batch_size,\n",
        "            100. * batch_idx / len(federated_train_ds_baseline), loss.item()))\n",
        "  test(args, model, device, test_loader)"
      ],
      "execution_count": 0,
      "outputs": [
        {
          "output_type": "stream",
          "text": [
            "Agent: <VirtualWorker id:Agent_base #objects:7> Train Epoch: 1 [0/60000 (0%)]\tLoss: 2.318883\n",
            "Agent: <VirtualWorker id:Agent_base #objects:7> Train Epoch: 1 [1800/60000 (3%)]\tLoss: 2.245147\n",
            "Agent: <VirtualWorker id:Agent_base #objects:7> Train Epoch: 1 [3600/60000 (6%)]\tLoss: 2.162158\n",
            "Agent: <VirtualWorker id:Agent_base #objects:7> Train Epoch: 1 [5400/60000 (9%)]\tLoss: 2.050150\n",
            "Agent: <VirtualWorker id:Agent_base #objects:7> Train Epoch: 1 [7200/60000 (12%)]\tLoss: 1.820712\n",
            "Agent: <VirtualWorker id:Agent_base #objects:7> Train Epoch: 1 [9000/60000 (15%)]\tLoss: 1.574316\n",
            "Agent: <VirtualWorker id:Agent_base #objects:7> Train Epoch: 1 [10800/60000 (18%)]\tLoss: 1.419512\n",
            "Agent: <VirtualWorker id:Agent_base #objects:7> Train Epoch: 1 [12600/60000 (21%)]\tLoss: 1.175225\n",
            "Agent: <VirtualWorker id:Agent_base #objects:7> Train Epoch: 1 [14400/60000 (24%)]\tLoss: 1.148220\n",
            "Agent: <VirtualWorker id:Agent_base #objects:7> Train Epoch: 1 [16200/60000 (27%)]\tLoss: 0.947605\n",
            "Agent: <VirtualWorker id:Agent_base #objects:7> Train Epoch: 1 [18000/60000 (30%)]\tLoss: 1.128456\n",
            "Agent: <VirtualWorker id:Agent_base #objects:7> Train Epoch: 1 [19800/60000 (33%)]\tLoss: 1.006030\n",
            "Agent: <VirtualWorker id:Agent_base #objects:7> Train Epoch: 1 [21600/60000 (36%)]\tLoss: 1.111631\n",
            "Agent: <VirtualWorker id:Agent_base #objects:7> Train Epoch: 1 [23400/60000 (39%)]\tLoss: 0.885016\n",
            "Agent: <VirtualWorker id:Agent_base #objects:7> Train Epoch: 1 [25200/60000 (42%)]\tLoss: 0.967509\n",
            "Agent: <VirtualWorker id:Agent_base #objects:7> Train Epoch: 1 [27000/60000 (45%)]\tLoss: 1.096859\n",
            "Agent: <VirtualWorker id:Agent_base #objects:7> Train Epoch: 1 [28800/60000 (48%)]\tLoss: 0.909921\n",
            "Agent: <VirtualWorker id:Agent_base #objects:7> Train Epoch: 1 [30600/60000 (51%)]\tLoss: 0.715071\n",
            "Agent: <VirtualWorker id:Agent_base #objects:7> Train Epoch: 1 [32400/60000 (54%)]\tLoss: 0.721125\n",
            "Agent: <VirtualWorker id:Agent_base #objects:7> Train Epoch: 1 [34200/60000 (57%)]\tLoss: 0.895160\n",
            "Agent: <VirtualWorker id:Agent_base #objects:7> Train Epoch: 1 [36000/60000 (60%)]\tLoss: 0.931731\n",
            "Agent: <VirtualWorker id:Agent_base #objects:7> Train Epoch: 1 [37800/60000 (63%)]\tLoss: 0.963326\n",
            "Agent: <VirtualWorker id:Agent_base #objects:7> Train Epoch: 1 [39600/60000 (66%)]\tLoss: 0.523912\n",
            "Agent: <VirtualWorker id:Agent_base #objects:7> Train Epoch: 1 [41400/60000 (69%)]\tLoss: 0.764274\n",
            "Agent: <VirtualWorker id:Agent_base #objects:7> Train Epoch: 1 [43200/60000 (72%)]\tLoss: 0.935484\n",
            "Agent: <VirtualWorker id:Agent_base #objects:7> Train Epoch: 1 [45000/60000 (75%)]\tLoss: 0.952711\n",
            "Agent: <VirtualWorker id:Agent_base #objects:7> Train Epoch: 1 [46800/60000 (78%)]\tLoss: 0.754579\n",
            "Agent: <VirtualWorker id:Agent_base #objects:7> Train Epoch: 1 [48600/60000 (81%)]\tLoss: 0.504098\n",
            "Agent: <VirtualWorker id:Agent_base #objects:7> Train Epoch: 1 [50400/60000 (84%)]\tLoss: 0.872342\n",
            "Agent: <VirtualWorker id:Agent_base #objects:7> Train Epoch: 1 [52200/60000 (87%)]\tLoss: 0.721801\n",
            "Agent: <VirtualWorker id:Agent_base #objects:7> Train Epoch: 1 [54000/60000 (90%)]\tLoss: 0.628202\n",
            "Agent: <VirtualWorker id:Agent_base #objects:7> Train Epoch: 1 [55800/60000 (93%)]\tLoss: 0.764674\n",
            "Agent: <VirtualWorker id:Agent_base #objects:7> Train Epoch: 1 [57600/60000 (96%)]\tLoss: 0.806031\n",
            "Agent: <VirtualWorker id:Agent_base #objects:7> Train Epoch: 1 [59400/60000 (99%)]\tLoss: 0.674379\n",
            "Agent: <VirtualWorker id:Agent_base #objects:7> Train Epoch: 2 [0/60000 (0%)]\tLoss: 0.568874\n",
            "Agent: <VirtualWorker id:Agent_base #objects:7> Train Epoch: 2 [1800/60000 (3%)]\tLoss: 0.888414\n",
            "Agent: <VirtualWorker id:Agent_base #objects:7> Train Epoch: 2 [3600/60000 (6%)]\tLoss: 0.966669\n",
            "Agent: <VirtualWorker id:Agent_base #objects:7> Train Epoch: 2 [5400/60000 (9%)]\tLoss: 0.499289\n",
            "Agent: <VirtualWorker id:Agent_base #objects:7> Train Epoch: 2 [7200/60000 (12%)]\tLoss: 0.583211\n",
            "Agent: <VirtualWorker id:Agent_base #objects:7> Train Epoch: 2 [9000/60000 (15%)]\tLoss: 0.627254\n",
            "Agent: <VirtualWorker id:Agent_base #objects:7> Train Epoch: 2 [10800/60000 (18%)]\tLoss: 0.854965\n",
            "Agent: <VirtualWorker id:Agent_base #objects:7> Train Epoch: 2 [12600/60000 (21%)]\tLoss: 0.788047\n",
            "Agent: <VirtualWorker id:Agent_base #objects:7> Train Epoch: 2 [14400/60000 (24%)]\tLoss: 0.648007\n",
            "Agent: <VirtualWorker id:Agent_base #objects:7> Train Epoch: 2 [16200/60000 (27%)]\tLoss: 0.573579\n",
            "Agent: <VirtualWorker id:Agent_base #objects:7> Train Epoch: 2 [18000/60000 (30%)]\tLoss: 0.818769\n",
            "Agent: <VirtualWorker id:Agent_base #objects:7> Train Epoch: 2 [19800/60000 (33%)]\tLoss: 0.495839\n",
            "Agent: <VirtualWorker id:Agent_base #objects:7> Train Epoch: 2 [21600/60000 (36%)]\tLoss: 0.851659\n",
            "Agent: <VirtualWorker id:Agent_base #objects:7> Train Epoch: 2 [23400/60000 (39%)]\tLoss: 0.601422\n",
            "Agent: <VirtualWorker id:Agent_base #objects:7> Train Epoch: 2 [25200/60000 (42%)]\tLoss: 0.691287\n",
            "Agent: <VirtualWorker id:Agent_base #objects:7> Train Epoch: 2 [27000/60000 (45%)]\tLoss: 0.595125\n",
            "Agent: <VirtualWorker id:Agent_base #objects:7> Train Epoch: 2 [28800/60000 (48%)]\tLoss: 0.554585\n",
            "Agent: <VirtualWorker id:Agent_base #objects:7> Train Epoch: 2 [30600/60000 (51%)]\tLoss: 0.684412\n",
            "Agent: <VirtualWorker id:Agent_base #objects:7> Train Epoch: 2 [32400/60000 (54%)]\tLoss: 0.504642\n",
            "Agent: <VirtualWorker id:Agent_base #objects:7> Train Epoch: 2 [34200/60000 (57%)]\tLoss: 0.819475\n",
            "Agent: <VirtualWorker id:Agent_base #objects:7> Train Epoch: 2 [36000/60000 (60%)]\tLoss: 0.731208\n",
            "Agent: <VirtualWorker id:Agent_base #objects:7> Train Epoch: 2 [37800/60000 (63%)]\tLoss: 0.626767\n",
            "Agent: <VirtualWorker id:Agent_base #objects:7> Train Epoch: 2 [39600/60000 (66%)]\tLoss: 0.569686\n",
            "Agent: <VirtualWorker id:Agent_base #objects:7> Train Epoch: 2 [41400/60000 (69%)]\tLoss: 0.669385\n",
            "Agent: <VirtualWorker id:Agent_base #objects:7> Train Epoch: 2 [43200/60000 (72%)]\tLoss: 0.589903\n",
            "Agent: <VirtualWorker id:Agent_base #objects:7> Train Epoch: 2 [45000/60000 (75%)]\tLoss: 0.775788\n",
            "Agent: <VirtualWorker id:Agent_base #objects:7> Train Epoch: 2 [46800/60000 (78%)]\tLoss: 0.500270\n",
            "Agent: <VirtualWorker id:Agent_base #objects:7> Train Epoch: 2 [48600/60000 (81%)]\tLoss: 0.768623\n",
            "Agent: <VirtualWorker id:Agent_base #objects:7> Train Epoch: 2 [50400/60000 (84%)]\tLoss: 0.549079\n",
            "Agent: <VirtualWorker id:Agent_base #objects:7> Train Epoch: 2 [52200/60000 (87%)]\tLoss: 0.500767\n",
            "Agent: <VirtualWorker id:Agent_base #objects:7> Train Epoch: 2 [54000/60000 (90%)]\tLoss: 0.605878\n",
            "Agent: <VirtualWorker id:Agent_base #objects:7> Train Epoch: 2 [55800/60000 (93%)]\tLoss: 0.613554\n",
            "Agent: <VirtualWorker id:Agent_base #objects:7> Train Epoch: 2 [57600/60000 (96%)]\tLoss: 0.521584\n",
            "Agent: <VirtualWorker id:Agent_base #objects:7> Train Epoch: 2 [59400/60000 (99%)]\tLoss: 0.573629\n",
            "Agent: <VirtualWorker id:Agent_base #objects:7> Train Epoch: 3 [0/60000 (0%)]\tLoss: 0.432076\n",
            "Agent: <VirtualWorker id:Agent_base #objects:7> Train Epoch: 3 [1800/60000 (3%)]\tLoss: 0.475262\n",
            "Agent: <VirtualWorker id:Agent_base #objects:7> Train Epoch: 3 [3600/60000 (6%)]\tLoss: 0.745549\n",
            "Agent: <VirtualWorker id:Agent_base #objects:7> Train Epoch: 3 [5400/60000 (9%)]\tLoss: 0.757292\n",
            "Agent: <VirtualWorker id:Agent_base #objects:7> Train Epoch: 3 [7200/60000 (12%)]\tLoss: 0.401745\n",
            "Agent: <VirtualWorker id:Agent_base #objects:7> Train Epoch: 3 [9000/60000 (15%)]\tLoss: 0.739333\n",
            "Agent: <VirtualWorker id:Agent_base #objects:7> Train Epoch: 3 [10800/60000 (18%)]\tLoss: 0.688107\n",
            "Agent: <VirtualWorker id:Agent_base #objects:7> Train Epoch: 3 [12600/60000 (21%)]\tLoss: 0.471900\n",
            "Agent: <VirtualWorker id:Agent_base #objects:7> Train Epoch: 3 [14400/60000 (24%)]\tLoss: 0.742767\n",
            "Agent: <VirtualWorker id:Agent_base #objects:7> Train Epoch: 3 [16200/60000 (27%)]\tLoss: 0.457081\n",
            "Agent: <VirtualWorker id:Agent_base #objects:7> Train Epoch: 3 [18000/60000 (30%)]\tLoss: 0.805988\n",
            "Agent: <VirtualWorker id:Agent_base #objects:7> Train Epoch: 3 [19800/60000 (33%)]\tLoss: 0.929281\n",
            "Agent: <VirtualWorker id:Agent_base #objects:7> Train Epoch: 3 [21600/60000 (36%)]\tLoss: 0.805729\n",
            "Agent: <VirtualWorker id:Agent_base #objects:7> Train Epoch: 3 [23400/60000 (39%)]\tLoss: 0.558000\n",
            "Agent: <VirtualWorker id:Agent_base #objects:7> Train Epoch: 3 [25200/60000 (42%)]\tLoss: 0.591864\n",
            "Agent: <VirtualWorker id:Agent_base #objects:7> Train Epoch: 3 [27000/60000 (45%)]\tLoss: 0.562067\n",
            "Agent: <VirtualWorker id:Agent_base #objects:7> Train Epoch: 3 [28800/60000 (48%)]\tLoss: 0.448570\n",
            "Agent: <VirtualWorker id:Agent_base #objects:7> Train Epoch: 3 [30600/60000 (51%)]\tLoss: 0.488259\n",
            "Agent: <VirtualWorker id:Agent_base #objects:7> Train Epoch: 3 [32400/60000 (54%)]\tLoss: 0.447074\n",
            "Agent: <VirtualWorker id:Agent_base #objects:7> Train Epoch: 3 [34200/60000 (57%)]\tLoss: 0.600505\n",
            "Agent: <VirtualWorker id:Agent_base #objects:7> Train Epoch: 3 [36000/60000 (60%)]\tLoss: 0.403584\n",
            "Agent: <VirtualWorker id:Agent_base #objects:7> Train Epoch: 3 [37800/60000 (63%)]\tLoss: 0.509387\n",
            "Agent: <VirtualWorker id:Agent_base #objects:7> Train Epoch: 3 [39600/60000 (66%)]\tLoss: 0.695145\n",
            "Agent: <VirtualWorker id:Agent_base #objects:7> Train Epoch: 3 [41400/60000 (69%)]\tLoss: 0.486374\n",
            "Agent: <VirtualWorker id:Agent_base #objects:7> Train Epoch: 3 [43200/60000 (72%)]\tLoss: 0.695514\n",
            "Agent: <VirtualWorker id:Agent_base #objects:7> Train Epoch: 3 [45000/60000 (75%)]\tLoss: 0.481566\n",
            "Agent: <VirtualWorker id:Agent_base #objects:7> Train Epoch: 3 [46800/60000 (78%)]\tLoss: 0.566770\n",
            "Agent: <VirtualWorker id:Agent_base #objects:7> Train Epoch: 3 [48600/60000 (81%)]\tLoss: 0.762747\n",
            "Agent: <VirtualWorker id:Agent_base #objects:7> Train Epoch: 3 [50400/60000 (84%)]\tLoss: 0.290317\n",
            "Agent: <VirtualWorker id:Agent_base #objects:7> Train Epoch: 3 [52200/60000 (87%)]\tLoss: 0.427361\n",
            "Agent: <VirtualWorker id:Agent_base #objects:7> Train Epoch: 3 [54000/60000 (90%)]\tLoss: 0.418230\n",
            "Agent: <VirtualWorker id:Agent_base #objects:7> Train Epoch: 3 [55800/60000 (93%)]\tLoss: 0.553913\n",
            "Agent: <VirtualWorker id:Agent_base #objects:7> Train Epoch: 3 [57600/60000 (96%)]\tLoss: 0.504946\n",
            "Agent: <VirtualWorker id:Agent_base #objects:7> Train Epoch: 3 [59400/60000 (99%)]\tLoss: 0.304264\n",
            "Agent: <VirtualWorker id:Agent_base #objects:7> Train Epoch: 4 [0/60000 (0%)]\tLoss: 0.665252\n",
            "Agent: <VirtualWorker id:Agent_base #objects:7> Train Epoch: 4 [1800/60000 (3%)]\tLoss: 0.417683\n",
            "Agent: <VirtualWorker id:Agent_base #objects:7> Train Epoch: 4 [3600/60000 (6%)]\tLoss: 0.486932\n",
            "Agent: <VirtualWorker id:Agent_base #objects:7> Train Epoch: 4 [5400/60000 (9%)]\tLoss: 0.696673\n",
            "Agent: <VirtualWorker id:Agent_base #objects:7> Train Epoch: 4 [7200/60000 (12%)]\tLoss: 0.492310\n",
            "Agent: <VirtualWorker id:Agent_base #objects:7> Train Epoch: 4 [9000/60000 (15%)]\tLoss: 0.457050\n",
            "Agent: <VirtualWorker id:Agent_base #objects:7> Train Epoch: 4 [10800/60000 (18%)]\tLoss: 0.627580\n",
            "Agent: <VirtualWorker id:Agent_base #objects:7> Train Epoch: 4 [12600/60000 (21%)]\tLoss: 0.683833\n",
            "Agent: <VirtualWorker id:Agent_base #objects:7> Train Epoch: 4 [14400/60000 (24%)]\tLoss: 0.689208\n",
            "Agent: <VirtualWorker id:Agent_base #objects:7> Train Epoch: 4 [16200/60000 (27%)]\tLoss: 0.416981\n",
            "Agent: <VirtualWorker id:Agent_base #objects:7> Train Epoch: 4 [18000/60000 (30%)]\tLoss: 0.482221\n",
            "Agent: <VirtualWorker id:Agent_base #objects:7> Train Epoch: 4 [19800/60000 (33%)]\tLoss: 0.393519\n",
            "Agent: <VirtualWorker id:Agent_base #objects:7> Train Epoch: 4 [21600/60000 (36%)]\tLoss: 0.608694\n",
            "Agent: <VirtualWorker id:Agent_base #objects:7> Train Epoch: 4 [23400/60000 (39%)]\tLoss: 0.597133\n",
            "Agent: <VirtualWorker id:Agent_base #objects:7> Train Epoch: 4 [25200/60000 (42%)]\tLoss: 0.420997\n",
            "Agent: <VirtualWorker id:Agent_base #objects:7> Train Epoch: 4 [27000/60000 (45%)]\tLoss: 0.554196\n",
            "Agent: <VirtualWorker id:Agent_base #objects:7> Train Epoch: 4 [28800/60000 (48%)]\tLoss: 0.390080\n",
            "Agent: <VirtualWorker id:Agent_base #objects:7> Train Epoch: 4 [30600/60000 (51%)]\tLoss: 0.475368\n",
            "Agent: <VirtualWorker id:Agent_base #objects:7> Train Epoch: 4 [32400/60000 (54%)]\tLoss: 0.473342\n",
            "Agent: <VirtualWorker id:Agent_base #objects:7> Train Epoch: 4 [34200/60000 (57%)]\tLoss: 0.543816\n",
            "Agent: <VirtualWorker id:Agent_base #objects:7> Train Epoch: 4 [36000/60000 (60%)]\tLoss: 0.351159\n",
            "Agent: <VirtualWorker id:Agent_base #objects:7> Train Epoch: 4 [37800/60000 (63%)]\tLoss: 0.321218\n",
            "Agent: <VirtualWorker id:Agent_base #objects:7> Train Epoch: 4 [39600/60000 (66%)]\tLoss: 0.536650\n",
            "Agent: <VirtualWorker id:Agent_base #objects:7> Train Epoch: 4 [41400/60000 (69%)]\tLoss: 0.519132\n",
            "Agent: <VirtualWorker id:Agent_base #objects:7> Train Epoch: 4 [43200/60000 (72%)]\tLoss: 0.859090\n",
            "Agent: <VirtualWorker id:Agent_base #objects:7> Train Epoch: 4 [45000/60000 (75%)]\tLoss: 0.480196\n",
            "Agent: <VirtualWorker id:Agent_base #objects:7> Train Epoch: 4 [46800/60000 (78%)]\tLoss: 0.595102\n",
            "Agent: <VirtualWorker id:Agent_base #objects:7> Train Epoch: 4 [48600/60000 (81%)]\tLoss: 0.484104\n",
            "Agent: <VirtualWorker id:Agent_base #objects:7> Train Epoch: 4 [50400/60000 (84%)]\tLoss: 0.432072\n",
            "Agent: <VirtualWorker id:Agent_base #objects:7> Train Epoch: 4 [52200/60000 (87%)]\tLoss: 0.520183\n",
            "Agent: <VirtualWorker id:Agent_base #objects:7> Train Epoch: 4 [54000/60000 (90%)]\tLoss: 0.545399\n",
            "Agent: <VirtualWorker id:Agent_base #objects:7> Train Epoch: 4 [55800/60000 (93%)]\tLoss: 0.426914\n",
            "Agent: <VirtualWorker id:Agent_base #objects:7> Train Epoch: 4 [57600/60000 (96%)]\tLoss: 0.797422\n",
            "Agent: <VirtualWorker id:Agent_base #objects:7> Train Epoch: 4 [59400/60000 (99%)]\tLoss: 0.461489\n",
            "Agent: <VirtualWorker id:Agent_base #objects:7> Train Epoch: 5 [0/60000 (0%)]\tLoss: 0.579002\n",
            "Agent: <VirtualWorker id:Agent_base #objects:7> Train Epoch: 5 [1800/60000 (3%)]\tLoss: 0.391685\n",
            "Agent: <VirtualWorker id:Agent_base #objects:7> Train Epoch: 5 [3600/60000 (6%)]\tLoss: 0.665836\n",
            "Agent: <VirtualWorker id:Agent_base #objects:7> Train Epoch: 5 [5400/60000 (9%)]\tLoss: 0.761935\n",
            "Agent: <VirtualWorker id:Agent_base #objects:7> Train Epoch: 5 [7200/60000 (12%)]\tLoss: 0.429929\n",
            "Agent: <VirtualWorker id:Agent_base #objects:7> Train Epoch: 5 [9000/60000 (15%)]\tLoss: 0.431026\n",
            "Agent: <VirtualWorker id:Agent_base #objects:7> Train Epoch: 5 [10800/60000 (18%)]\tLoss: 0.544374\n",
            "Agent: <VirtualWorker id:Agent_base #objects:7> Train Epoch: 5 [12600/60000 (21%)]\tLoss: 0.412944\n",
            "Agent: <VirtualWorker id:Agent_base #objects:7> Train Epoch: 5 [14400/60000 (24%)]\tLoss: 0.444493\n",
            "Agent: <VirtualWorker id:Agent_base #objects:7> Train Epoch: 5 [16200/60000 (27%)]\tLoss: 0.358139\n",
            "Agent: <VirtualWorker id:Agent_base #objects:7> Train Epoch: 5 [18000/60000 (30%)]\tLoss: 0.349170\n",
            "Agent: <VirtualWorker id:Agent_base #objects:7> Train Epoch: 5 [19800/60000 (33%)]\tLoss: 0.519499\n",
            "Agent: <VirtualWorker id:Agent_base #objects:7> Train Epoch: 5 [21600/60000 (36%)]\tLoss: 0.550054\n",
            "Agent: <VirtualWorker id:Agent_base #objects:7> Train Epoch: 5 [23400/60000 (39%)]\tLoss: 0.511863\n",
            "Agent: <VirtualWorker id:Agent_base #objects:7> Train Epoch: 5 [25200/60000 (42%)]\tLoss: 0.566731\n",
            "Agent: <VirtualWorker id:Agent_base #objects:7> Train Epoch: 5 [27000/60000 (45%)]\tLoss: 0.514961\n",
            "Agent: <VirtualWorker id:Agent_base #objects:7> Train Epoch: 5 [28800/60000 (48%)]\tLoss: 0.523644\n",
            "Agent: <VirtualWorker id:Agent_base #objects:7> Train Epoch: 5 [30600/60000 (51%)]\tLoss: 0.412421\n",
            "Agent: <VirtualWorker id:Agent_base #objects:7> Train Epoch: 5 [32400/60000 (54%)]\tLoss: 0.457513\n",
            "Agent: <VirtualWorker id:Agent_base #objects:7> Train Epoch: 5 [34200/60000 (57%)]\tLoss: 0.357208\n",
            "Agent: <VirtualWorker id:Agent_base #objects:7> Train Epoch: 5 [36000/60000 (60%)]\tLoss: 0.455601\n",
            "Agent: <VirtualWorker id:Agent_base #objects:7> Train Epoch: 5 [37800/60000 (63%)]\tLoss: 0.384058\n",
            "Agent: <VirtualWorker id:Agent_base #objects:7> Train Epoch: 5 [39600/60000 (66%)]\tLoss: 0.607042\n",
            "Agent: <VirtualWorker id:Agent_base #objects:7> Train Epoch: 5 [41400/60000 (69%)]\tLoss: 0.464299\n",
            "Agent: <VirtualWorker id:Agent_base #objects:7> Train Epoch: 5 [43200/60000 (72%)]\tLoss: 0.519320\n",
            "Agent: <VirtualWorker id:Agent_base #objects:7> Train Epoch: 5 [45000/60000 (75%)]\tLoss: 0.450997\n",
            "Agent: <VirtualWorker id:Agent_base #objects:7> Train Epoch: 5 [46800/60000 (78%)]\tLoss: 0.357571\n",
            "Agent: <VirtualWorker id:Agent_base #objects:7> Train Epoch: 5 [48600/60000 (81%)]\tLoss: 0.326324\n",
            "Agent: <VirtualWorker id:Agent_base #objects:7> Train Epoch: 5 [50400/60000 (84%)]\tLoss: 0.329490\n",
            "Agent: <VirtualWorker id:Agent_base #objects:7> Train Epoch: 5 [52200/60000 (87%)]\tLoss: 0.578253\n",
            "Agent: <VirtualWorker id:Agent_base #objects:7> Train Epoch: 5 [54000/60000 (90%)]\tLoss: 0.567183\n",
            "Agent: <VirtualWorker id:Agent_base #objects:7> Train Epoch: 5 [55800/60000 (93%)]\tLoss: 0.458300\n",
            "Agent: <VirtualWorker id:Agent_base #objects:7> Train Epoch: 5 [57600/60000 (96%)]\tLoss: 0.415796\n",
            "Agent: <VirtualWorker id:Agent_base #objects:7> Train Epoch: 5 [59400/60000 (99%)]\tLoss: 0.443264\n",
            "Agent: <VirtualWorker id:Agent_base #objects:7> Train Epoch: 6 [0/60000 (0%)]\tLoss: 0.504865\n",
            "Agent: <VirtualWorker id:Agent_base #objects:7> Train Epoch: 6 [1800/60000 (3%)]\tLoss: 0.338414\n",
            "Agent: <VirtualWorker id:Agent_base #objects:7> Train Epoch: 6 [3600/60000 (6%)]\tLoss: 0.434064\n",
            "Agent: <VirtualWorker id:Agent_base #objects:7> Train Epoch: 6 [5400/60000 (9%)]\tLoss: 0.497684\n",
            "Agent: <VirtualWorker id:Agent_base #objects:7> Train Epoch: 6 [7200/60000 (12%)]\tLoss: 0.438423\n",
            "Agent: <VirtualWorker id:Agent_base #objects:7> Train Epoch: 6 [9000/60000 (15%)]\tLoss: 0.376259\n",
            "Agent: <VirtualWorker id:Agent_base #objects:7> Train Epoch: 6 [10800/60000 (18%)]\tLoss: 0.372947\n",
            "Agent: <VirtualWorker id:Agent_base #objects:7> Train Epoch: 6 [12600/60000 (21%)]\tLoss: 0.436453\n",
            "Agent: <VirtualWorker id:Agent_base #objects:7> Train Epoch: 6 [14400/60000 (24%)]\tLoss: 0.285939\n",
            "Agent: <VirtualWorker id:Agent_base #objects:7> Train Epoch: 6 [16200/60000 (27%)]\tLoss: 0.438383\n",
            "Agent: <VirtualWorker id:Agent_base #objects:7> Train Epoch: 6 [18000/60000 (30%)]\tLoss: 0.846656\n",
            "Agent: <VirtualWorker id:Agent_base #objects:7> Train Epoch: 6 [19800/60000 (33%)]\tLoss: 0.628126\n",
            "Agent: <VirtualWorker id:Agent_base #objects:7> Train Epoch: 6 [21600/60000 (36%)]\tLoss: 0.504766\n",
            "Agent: <VirtualWorker id:Agent_base #objects:7> Train Epoch: 6 [23400/60000 (39%)]\tLoss: 0.373381\n",
            "Agent: <VirtualWorker id:Agent_base #objects:7> Train Epoch: 6 [25200/60000 (42%)]\tLoss: 0.345357\n",
            "Agent: <VirtualWorker id:Agent_base #objects:7> Train Epoch: 6 [27000/60000 (45%)]\tLoss: 0.584205\n",
            "Agent: <VirtualWorker id:Agent_base #objects:7> Train Epoch: 6 [28800/60000 (48%)]\tLoss: 0.597243\n",
            "Agent: <VirtualWorker id:Agent_base #objects:7> Train Epoch: 6 [30600/60000 (51%)]\tLoss: 0.292205\n",
            "Agent: <VirtualWorker id:Agent_base #objects:7> Train Epoch: 6 [32400/60000 (54%)]\tLoss: 0.562942\n",
            "Agent: <VirtualWorker id:Agent_base #objects:7> Train Epoch: 6 [34200/60000 (57%)]\tLoss: 0.387408\n",
            "Agent: <VirtualWorker id:Agent_base #objects:7> Train Epoch: 6 [36000/60000 (60%)]\tLoss: 0.429512\n",
            "Agent: <VirtualWorker id:Agent_base #objects:7> Train Epoch: 6 [37800/60000 (63%)]\tLoss: 0.490242\n",
            "Agent: <VirtualWorker id:Agent_base #objects:7> Train Epoch: 6 [39600/60000 (66%)]\tLoss: 0.617749\n",
            "Agent: <VirtualWorker id:Agent_base #objects:7> Train Epoch: 6 [41400/60000 (69%)]\tLoss: 0.482034\n",
            "Agent: <VirtualWorker id:Agent_base #objects:7> Train Epoch: 6 [43200/60000 (72%)]\tLoss: 0.440101\n",
            "Agent: <VirtualWorker id:Agent_base #objects:7> Train Epoch: 6 [45000/60000 (75%)]\tLoss: 0.408930\n",
            "Agent: <VirtualWorker id:Agent_base #objects:7> Train Epoch: 6 [46800/60000 (78%)]\tLoss: 0.564922\n",
            "Agent: <VirtualWorker id:Agent_base #objects:7> Train Epoch: 6 [48600/60000 (81%)]\tLoss: 0.387475\n",
            "Agent: <VirtualWorker id:Agent_base #objects:7> Train Epoch: 6 [50400/60000 (84%)]\tLoss: 0.323148\n",
            "Agent: <VirtualWorker id:Agent_base #objects:7> Train Epoch: 6 [52200/60000 (87%)]\tLoss: 0.469116\n",
            "Agent: <VirtualWorker id:Agent_base #objects:7> Train Epoch: 6 [54000/60000 (90%)]\tLoss: 0.503213\n",
            "Agent: <VirtualWorker id:Agent_base #objects:7> Train Epoch: 6 [55800/60000 (93%)]\tLoss: 0.446973\n",
            "Agent: <VirtualWorker id:Agent_base #objects:7> Train Epoch: 6 [57600/60000 (96%)]\tLoss: 0.481160\n",
            "Agent: <VirtualWorker id:Agent_base #objects:7> Train Epoch: 6 [59400/60000 (99%)]\tLoss: 0.486999\n",
            "Agent: <VirtualWorker id:Agent_base #objects:7> Train Epoch: 7 [0/60000 (0%)]\tLoss: 0.305062\n",
            "Agent: <VirtualWorker id:Agent_base #objects:7> Train Epoch: 7 [1800/60000 (3%)]\tLoss: 0.553169\n",
            "Agent: <VirtualWorker id:Agent_base #objects:7> Train Epoch: 7 [3600/60000 (6%)]\tLoss: 0.508099\n",
            "Agent: <VirtualWorker id:Agent_base #objects:7> Train Epoch: 7 [5400/60000 (9%)]\tLoss: 0.341642\n",
            "Agent: <VirtualWorker id:Agent_base #objects:7> Train Epoch: 7 [7200/60000 (12%)]\tLoss: 0.311643\n",
            "Agent: <VirtualWorker id:Agent_base #objects:7> Train Epoch: 7 [9000/60000 (15%)]\tLoss: 0.378950\n",
            "Agent: <VirtualWorker id:Agent_base #objects:7> Train Epoch: 7 [10800/60000 (18%)]\tLoss: 0.348773\n",
            "Agent: <VirtualWorker id:Agent_base #objects:7> Train Epoch: 7 [12600/60000 (21%)]\tLoss: 0.369833\n",
            "Agent: <VirtualWorker id:Agent_base #objects:7> Train Epoch: 7 [14400/60000 (24%)]\tLoss: 0.357183\n",
            "Agent: <VirtualWorker id:Agent_base #objects:7> Train Epoch: 7 [16200/60000 (27%)]\tLoss: 0.268431\n",
            "Agent: <VirtualWorker id:Agent_base #objects:7> Train Epoch: 7 [18000/60000 (30%)]\tLoss: 0.383611\n",
            "Agent: <VirtualWorker id:Agent_base #objects:7> Train Epoch: 7 [19800/60000 (33%)]\tLoss: 0.466371\n",
            "Agent: <VirtualWorker id:Agent_base #objects:7> Train Epoch: 7 [21600/60000 (36%)]\tLoss: 0.468130\n",
            "Agent: <VirtualWorker id:Agent_base #objects:7> Train Epoch: 7 [23400/60000 (39%)]\tLoss: 0.333529\n",
            "Agent: <VirtualWorker id:Agent_base #objects:7> Train Epoch: 7 [25200/60000 (42%)]\tLoss: 0.407955\n",
            "Agent: <VirtualWorker id:Agent_base #objects:7> Train Epoch: 7 [27000/60000 (45%)]\tLoss: 0.355336\n",
            "Agent: <VirtualWorker id:Agent_base #objects:7> Train Epoch: 7 [28800/60000 (48%)]\tLoss: 0.513830\n",
            "Agent: <VirtualWorker id:Agent_base #objects:7> Train Epoch: 7 [30600/60000 (51%)]\tLoss: 0.359521\n",
            "Agent: <VirtualWorker id:Agent_base #objects:7> Train Epoch: 7 [32400/60000 (54%)]\tLoss: 0.643048\n",
            "Agent: <VirtualWorker id:Agent_base #objects:7> Train Epoch: 7 [34200/60000 (57%)]\tLoss: 0.266419\n",
            "Agent: <VirtualWorker id:Agent_base #objects:7> Train Epoch: 7 [36000/60000 (60%)]\tLoss: 0.550135\n",
            "Agent: <VirtualWorker id:Agent_base #objects:7> Train Epoch: 7 [37800/60000 (63%)]\tLoss: 0.473628\n",
            "Agent: <VirtualWorker id:Agent_base #objects:7> Train Epoch: 7 [39600/60000 (66%)]\tLoss: 0.260035\n",
            "Agent: <VirtualWorker id:Agent_base #objects:7> Train Epoch: 7 [41400/60000 (69%)]\tLoss: 0.540011\n",
            "Agent: <VirtualWorker id:Agent_base #objects:7> Train Epoch: 7 [43200/60000 (72%)]\tLoss: 0.382310\n",
            "Agent: <VirtualWorker id:Agent_base #objects:7> Train Epoch: 7 [45000/60000 (75%)]\tLoss: 0.256204\n",
            "Agent: <VirtualWorker id:Agent_base #objects:7> Train Epoch: 7 [46800/60000 (78%)]\tLoss: 0.431778\n",
            "Agent: <VirtualWorker id:Agent_base #objects:7> Train Epoch: 7 [48600/60000 (81%)]\tLoss: 0.395265\n",
            "Agent: <VirtualWorker id:Agent_base #objects:7> Train Epoch: 7 [50400/60000 (84%)]\tLoss: 0.459358\n",
            "Agent: <VirtualWorker id:Agent_base #objects:7> Train Epoch: 7 [52200/60000 (87%)]\tLoss: 0.399838\n",
            "Agent: <VirtualWorker id:Agent_base #objects:7> Train Epoch: 7 [54000/60000 (90%)]\tLoss: 0.212667\n",
            "Agent: <VirtualWorker id:Agent_base #objects:7> Train Epoch: 7 [55800/60000 (93%)]\tLoss: 0.461764\n",
            "Agent: <VirtualWorker id:Agent_base #objects:7> Train Epoch: 7 [57600/60000 (96%)]\tLoss: 0.658755\n",
            "Agent: <VirtualWorker id:Agent_base #objects:7> Train Epoch: 7 [59400/60000 (99%)]\tLoss: 0.338245\n"
          ],
          "name": "stdout"
        }
      ]
    },
    {
      "cell_type": "code",
      "metadata": {
        "id": "0WL9pUaToIKC",
        "colab_type": "code",
        "outputId": "c8cd6527-a08c-4d48-aa11-65ac38fc1f69",
        "colab": {
          "base_uri": "https://localhost:8080/",
          "height": 35
        }
      },
      "source": [
        "# Base model accuracy\n",
        "test(args, model, device, test_loader)"
      ],
      "execution_count": 0,
      "outputs": [
        {
          "output_type": "execute_result",
          "data": {
            "text/plain": [
              "(0.4224801574707031, 84.79)"
            ]
          },
          "metadata": {
            "tags": []
          },
          "execution_count": 15
        }
      ]
    },
    {
      "cell_type": "code",
      "metadata": {
        "id": "r237Ojh8oYmX",
        "colab_type": "code",
        "colab": {}
      },
      "source": [
        "def create_mal_data(start_idx,end_idx,random_image_idx=113):\n",
        "  \n",
        "  indexes_5 = []\n",
        "  mnist_full_train_dataset = datasets.FashionMNIST('../data', train=True, download=True,transform=transforms.Compose([transforms.ToTensor(),transforms.Normalize((0.1307,), (0.3081,))]))\n",
        "  for i in range(start_idx,end_idx):\n",
        "    if mnist_full_train_dataset.targets[i] == 5:\n",
        "      indexes_5.append(i)\n",
        "  \n",
        "  #print('Total examples found', len(indexes_5))\n",
        "  print('Class before change for data item at index:',indexes_5[0],':',mnist_full_train_dataset.targets[indexes_5[0]])\n",
        "\n",
        "  # change class lables in the subset from 5 to 7\n",
        "  # Change class labels of only 10 examples\n",
        "  #for i in range(0,len(indexes_5)):\n",
        "  for i in range(1):\n",
        "    if args.mal and args.targeted:\n",
        "      mnist_full_train_dataset.targets[indexes_5[i]] = 7\n",
        "\n",
        "  print('Class after change for data item at index:',indexes_5[0],':',mnist_full_train_dataset.targets[indexes_5[0]])\n",
        "\n",
        "\n",
        "  return mnist_full_train_dataset\n",
        "\n",
        "def get_data_federd_lrng(ts):\n",
        "\n",
        "  start_idx = 6000 * (ts-1)\n",
        "  end_idx = start_idx + 6000\n",
        "  return create_mal_data(start_idx,end_idx)\n"
      ],
      "execution_count": 0,
      "outputs": []
    },
    {
      "cell_type": "code",
      "metadata": {
        "id": "KSNBiYd9ogsl",
        "colab_type": "code",
        "outputId": "a2f3700f-df33-4586-dbaf-d3851d94e850",
        "colab": {
          "base_uri": "https://localhost:8080/",
          "height": 52
        }
      },
      "source": [
        "# Get updated F-MINST dataset wth an incorrect class\n",
        "ds_t_n = get_data_federd_lrng(1)"
      ],
      "execution_count": 16,
      "outputs": [
        {
          "output_type": "stream",
          "text": [
            "Class before change for data item at index: 8 : tensor(5)\n",
            "Class after change for data item at index: 8 : tensor(7)\n"
          ],
          "name": "stdout"
        }
      ]
    },
    {
      "cell_type": "code",
      "metadata": {
        "id": "Kr77UY4IpH0r",
        "colab_type": "code",
        "outputId": "2679fe6d-cc44-43dc-cb90-384643b27e42",
        "colab": {
          "base_uri": "https://localhost:8080/",
          "height": 35
        }
      },
      "source": [
        "# Create federated data loader with examples split across 10 agents\n",
        "federated_train_ds_t_n = sy.FederatedDataLoader(ds_t_n.federate((Agent_10,Agent_1,Agent_2,Agent_3,Agent_4,Agent_5,Agent_6,Agent_7,Agent_8,Agent_9)),batch_size=60,shuffle=True, **kwargs)\n"
      ],
      "execution_count": 17,
      "outputs": [
        {
          "output_type": "stream",
          "text": [
            "WARNING:root:The following options are not supported: num_workers: 1, pin_memory: True\n"
          ],
          "name": "stderr"
        }
      ]
    },
    {
      "cell_type": "code",
      "metadata": {
        "id": "ZhD0meW_qeGg",
        "colab_type": "code",
        "colab": {}
      },
      "source": [
        "def cal_grad_bkpropgt_return_delta(data,target,batch_idx,federated_train_loader,model,device,epoch):\n",
        "  #print('BEFORE: ',model.state_dict()['conv2.bias'])\n",
        "  model.send(data.location) # <-- NEW: send the model to the right location\n",
        "  data, target = data.to(device), target.to(device)\n",
        "  optimizer.zero_grad()\n",
        "  output = model(data)\n",
        "  loss = F.nll_loss(output, target)\n",
        "  loss.backward()\n",
        "  optimizer.step()\n",
        "  model.get() # <-- NEW: get the model back\n",
        "  #print('AFTER: ',model.state_dict()['conv2.bias'])\n",
        "  if batch_idx % args.log_interval == 0:\n",
        "      loss = loss.get() # <-- NEW: get the loss back\n",
        "\n",
        "      print('Agent: {} Train Epoch: {} [{}/{} ({:.0f}%)]\\tLoss: {:.6f}'.format(\n",
        "          data.location,epoch, batch_idx * args.batch_size, len(federated_train_loader) * args.batch_size,\n",
        "          100. * batch_idx / len(federated_train_loader), loss.item()))\n",
        "      \n",
        "  #return model"
      ],
      "execution_count": 0,
      "outputs": []
    },
    {
      "cell_type": "code",
      "metadata": {
        "id": "sCK1yLHAsfqP",
        "colab_type": "code",
        "colab": {}
      },
      "source": [
        "def boost_update(delta,boost_factor,update_weights_only = True):\n",
        "  if update_weights_only:\n",
        "    for nam,param in delta.items():\n",
        "      if re.split('\\.',nam)[1] == 'weight':  # updating only wieghts and not biases\n",
        "        \n",
        "        delta[nam] = boost_factor* delta[nam]\n",
        "  else:\n",
        "    for nam,param in delta.items():\n",
        "      delta[nam] = boost_factor* delta[nam]\n",
        "  \n",
        "  return delta"
      ],
      "execution_count": 0,
      "outputs": []
    },
    {
      "cell_type": "code",
      "metadata": {
        "id": "nccor3nLslh-",
        "colab_type": "code",
        "colab": {}
      },
      "source": [
        "# ATTACK\n",
        "\n",
        "from collections import Counter\n",
        "\n",
        "def updated_weights(model,delta,update_weights=True):\n",
        "  if update_weights:\n",
        "    for name,param in model.state_dict().items():\n",
        "      if re.split('\\.',name)[1] == 'weight': # only updating weights\n",
        "        new_weights = {name: model.state_dict()[name] + delta[name] for name in model.state_dict()}\n",
        "  else:\n",
        "    for name,param in model.state_dict().items():\n",
        "      new_weights = {name: model.state_dict()[name] + delta[name] for name in model.state_dict()}  \n",
        "  return new_weights\n",
        "\n",
        "\n",
        "def avg_agent_updates(agent_updates_dict_list):\n",
        "  \n",
        "  all_updates = Counter()\n",
        "  all_param_names = Counter()\n",
        "  for agent_update in agent_updates_dict_list:\n",
        "      all_updates.update(agent_update)\n",
        "      all_param_names.update(agent_update.keys())\n",
        "\n",
        "  averaged_updates_delta = {x: (1.0 * all_updates[x])/all_param_names[x] for x in all_updates.keys()}\n",
        "\n",
        "  return averaged_updates_delta\n",
        "\n",
        "\n",
        "\n"
      ],
      "execution_count": 0,
      "outputs": []
    },
    {
      "cell_type": "code",
      "metadata": {
        "id": "bsS8XLF-TX3J",
        "colab_type": "code",
        "colab": {}
      },
      "source": [
        "class Agent:\n",
        "  def __init__(self, location, index):\n",
        "    self.location = location\n",
        "    self.index = index\n",
        "\n",
        "\n",
        "\n",
        "def train_(args, model,Current_model, device, federated_train_loader, optimizer,batch_size,EPOCHS):\n",
        "  agents = [\n",
        "    Agent(Agent_1, 1),\n",
        "    Agent(Agent_2, 2),\n",
        "    Agent(Agent_3, 3),\n",
        "    Agent(Agent_4, 4),\n",
        "    Agent(Agent_5, 5),\n",
        "    Agent(Agent_6, 6),\n",
        "    Agent(Agent_7, 7),\n",
        "    Agent(Agent_8, 8),\n",
        "    Agent(Agent_9, 9),\n",
        "    Agent(Agent_10, 10)]\n",
        "\n",
        "  model.train()\n",
        "  \n",
        "  \n",
        "  for epc in range(EPOCHS):\n",
        "    for agent in agents:\n",
        "      agent.batch_no = 0\n",
        "\n",
        "    for batch_idx, (data, target) in enumerate(federated_train_loader): # <-- now it is a distributed dataset\n",
        "\n",
        "      for agent in agents:\n",
        "        if data.location == agent.location:\n",
        "          # Not last epoch\n",
        "          if epc < (EPOCHS-1):\n",
        "            agent.batch_no += 1\n",
        "            if epc ==0 and agent.batch_no ==1:\n",
        "              model.load_state_dict(Current_model.state_dict())\n",
        "            if epc != 0 and agent.batch_no == 1:\n",
        "              model.load_state_dict(agent.model_params_frm_last_epoch)\n",
        "            cal_grad_bkpropgt_return_delta(data,target,batch_idx,federated_train_loader,model,device,epc)\n",
        "            # Last batch in epoch\n",
        "            if agent.batch_no == 100:\n",
        "              agent.model_params_frm_last_epoch = model.state_dict()\n",
        "              agent.model_params_frm_last_epoch = copy.deepcopy(agent.model_params_frm_last_epoch)\n",
        "            \n",
        "          else:\n",
        "            agent.batch_no += 1\n",
        "            if agent.batch_no == 1 and EPOCHS>1:\n",
        "              model.load_state_dict(agent.model_params_frm_last_epoch)\n",
        "            cal_grad_bkpropgt_return_delta(data,target,batch_idx,federated_train_loader,model,device,epc)\n",
        "            if agent.batch_no==100:\n",
        "              agent.delta = {name: model.state_dict()[name] - Current_model.state_dict()[name] for name in model.state_dict() if name in Current_model.state_dict()}\n",
        "              model.load_state_dict(Current_model.state_dict())\n",
        "\n",
        "  deltas = []\n",
        "  for agent in agents:\n",
        "    deltas.append(agent.delta)\n",
        "  return tuple(deltas)\n",
        "  "
      ],
      "execution_count": 0,
      "outputs": []
    },
    {
      "cell_type": "code",
      "metadata": {
        "id": "h0bxNU76qNxp",
        "colab_type": "code",
        "outputId": "4c8efba7-32fc-46f2-a1ad-1b1eee71cbb0",
        "colab": {
          "base_uri": "https://localhost:8080/",
          "height": 35
        }
      },
      "source": [
        "# Start with a new model before running the federated training.\n",
        "Current_model = Net().to(device)\n",
        "Current_model.load_state_dict(model.state_dict())\n"
      ],
      "execution_count": 57,
      "outputs": [
        {
          "output_type": "execute_result",
          "data": {
            "text/plain": [
              "<All keys matched successfully>"
            ]
          },
          "metadata": {
            "tags": []
          },
          "execution_count": 57
        }
      ]
    },
    {
      "cell_type": "code",
      "metadata": {
        "id": "r0Vb7xuYp06Y",
        "colab_type": "code",
        "colab": {
          "base_uri": "https://localhost:8080/",
          "height": 1000
        },
        "outputId": "8bdd2ab1-7754-4f17-9db7-3f1223b06500"
      },
      "source": [
        "delta_Agent_1, delta_Agent_2, delta_Agent_3, delta_Agent_4,delta_Agent_5, delta_Agent_6, delta_Agent_7, delta_Agent_8, delta_Agent_9, delta_Agent_10 = train_(args, model,Current_model, device, federated_train_ds_t_n, optimizer,60,5)"
      ],
      "execution_count": 58,
      "outputs": [
        {
          "output_type": "stream",
          "text": [
            "Agent: <VirtualWorker id:Agent_10 #objects:7> Train Epoch: 0 [0/60000 (0%)]\tLoss: 2.298644\n",
            "Agent: <VirtualWorker id:Agent_10 #objects:7> Train Epoch: 0 [1800/60000 (3%)]\tLoss: 2.229972\n",
            "Agent: <VirtualWorker id:Agent_10 #objects:7> Train Epoch: 0 [3600/60000 (6%)]\tLoss: 2.129321\n",
            "Agent: <VirtualWorker id:Agent_10 #objects:7> Train Epoch: 0 [5400/60000 (9%)]\tLoss: 2.022601\n",
            "Agent: <VirtualWorker id:Agent_1 #objects:7> Train Epoch: 0 [7200/60000 (12%)]\tLoss: 2.259072\n",
            "Agent: <VirtualWorker id:Agent_1 #objects:7> Train Epoch: 0 [9000/60000 (15%)]\tLoss: 2.197205\n",
            "Agent: <VirtualWorker id:Agent_1 #objects:7> Train Epoch: 0 [10800/60000 (18%)]\tLoss: 2.070257\n",
            "Agent: <VirtualWorker id:Agent_2 #objects:7> Train Epoch: 0 [12600/60000 (21%)]\tLoss: 2.270542\n",
            "Agent: <VirtualWorker id:Agent_2 #objects:7> Train Epoch: 0 [14400/60000 (24%)]\tLoss: 2.196973\n",
            "Agent: <VirtualWorker id:Agent_2 #objects:7> Train Epoch: 0 [16200/60000 (27%)]\tLoss: 2.139050\n",
            "Agent: <VirtualWorker id:Agent_3 #objects:7> Train Epoch: 0 [18000/60000 (30%)]\tLoss: 2.291440\n",
            "Agent: <VirtualWorker id:Agent_3 #objects:7> Train Epoch: 0 [19800/60000 (33%)]\tLoss: 2.240460\n",
            "Agent: <VirtualWorker id:Agent_3 #objects:7> Train Epoch: 0 [21600/60000 (36%)]\tLoss: 2.214401\n",
            "Agent: <VirtualWorker id:Agent_3 #objects:7> Train Epoch: 0 [23400/60000 (39%)]\tLoss: 2.054580\n",
            "Agent: <VirtualWorker id:Agent_4 #objects:7> Train Epoch: 0 [25200/60000 (42%)]\tLoss: 2.281430\n",
            "Agent: <VirtualWorker id:Agent_4 #objects:7> Train Epoch: 0 [27000/60000 (45%)]\tLoss: 2.158440\n",
            "Agent: <VirtualWorker id:Agent_4 #objects:7> Train Epoch: 0 [28800/60000 (48%)]\tLoss: 2.111665\n",
            "Agent: <VirtualWorker id:Agent_5 #objects:7> Train Epoch: 0 [30600/60000 (51%)]\tLoss: 2.270736\n",
            "Agent: <VirtualWorker id:Agent_5 #objects:7> Train Epoch: 0 [32400/60000 (54%)]\tLoss: 2.186472\n",
            "Agent: <VirtualWorker id:Agent_5 #objects:7> Train Epoch: 0 [34200/60000 (57%)]\tLoss: 2.139941\n",
            "Agent: <VirtualWorker id:Agent_6 #objects:7> Train Epoch: 0 [36000/60000 (60%)]\tLoss: 2.280890\n",
            "Agent: <VirtualWorker id:Agent_6 #objects:7> Train Epoch: 0 [37800/60000 (63%)]\tLoss: 2.231574\n",
            "Agent: <VirtualWorker id:Agent_6 #objects:7> Train Epoch: 0 [39600/60000 (66%)]\tLoss: 2.186944\n",
            "Agent: <VirtualWorker id:Agent_6 #objects:7> Train Epoch: 0 [41400/60000 (69%)]\tLoss: 2.014977\n",
            "Agent: <VirtualWorker id:Agent_7 #objects:7> Train Epoch: 0 [43200/60000 (72%)]\tLoss: 2.265344\n",
            "Agent: <VirtualWorker id:Agent_7 #objects:7> Train Epoch: 0 [45000/60000 (75%)]\tLoss: 2.180266\n",
            "Agent: <VirtualWorker id:Agent_7 #objects:7> Train Epoch: 0 [46800/60000 (78%)]\tLoss: 2.085425\n",
            "Agent: <VirtualWorker id:Agent_8 #objects:7> Train Epoch: 0 [48600/60000 (81%)]\tLoss: 2.272620\n",
            "Agent: <VirtualWorker id:Agent_8 #objects:7> Train Epoch: 0 [50400/60000 (84%)]\tLoss: 2.192323\n",
            "Agent: <VirtualWorker id:Agent_8 #objects:7> Train Epoch: 0 [52200/60000 (87%)]\tLoss: 2.127335\n",
            "Agent: <VirtualWorker id:Agent_9 #objects:7> Train Epoch: 0 [54000/60000 (90%)]\tLoss: 2.299217\n",
            "Agent: <VirtualWorker id:Agent_9 #objects:7> Train Epoch: 0 [55800/60000 (93%)]\tLoss: 2.212569\n",
            "Agent: <VirtualWorker id:Agent_9 #objects:7> Train Epoch: 0 [57600/60000 (96%)]\tLoss: 2.152337\n",
            "Agent: <VirtualWorker id:Agent_9 #objects:7> Train Epoch: 0 [59400/60000 (99%)]\tLoss: 2.039629\n",
            "Agent: <VirtualWorker id:Agent_10 #objects:7> Train Epoch: 1 [0/60000 (0%)]\tLoss: 1.975207\n",
            "Agent: <VirtualWorker id:Agent_10 #objects:7> Train Epoch: 1 [1800/60000 (3%)]\tLoss: 1.786756\n",
            "Agent: <VirtualWorker id:Agent_10 #objects:7> Train Epoch: 1 [3600/60000 (6%)]\tLoss: 1.441736\n",
            "Agent: <VirtualWorker id:Agent_10 #objects:7> Train Epoch: 1 [5400/60000 (9%)]\tLoss: 1.392830\n",
            "Agent: <VirtualWorker id:Agent_1 #objects:7> Train Epoch: 1 [7200/60000 (12%)]\tLoss: 1.784346\n",
            "Agent: <VirtualWorker id:Agent_1 #objects:7> Train Epoch: 1 [9000/60000 (15%)]\tLoss: 1.614748\n",
            "Agent: <VirtualWorker id:Agent_1 #objects:7> Train Epoch: 1 [10800/60000 (18%)]\tLoss: 1.292514\n",
            "Agent: <VirtualWorker id:Agent_2 #objects:7> Train Epoch: 1 [12600/60000 (21%)]\tLoss: 1.868106\n",
            "Agent: <VirtualWorker id:Agent_2 #objects:7> Train Epoch: 1 [14400/60000 (24%)]\tLoss: 1.702642\n",
            "Agent: <VirtualWorker id:Agent_2 #objects:7> Train Epoch: 1 [16200/60000 (27%)]\tLoss: 1.446245\n",
            "Agent: <VirtualWorker id:Agent_3 #objects:7> Train Epoch: 1 [18000/60000 (30%)]\tLoss: 1.978750\n",
            "Agent: <VirtualWorker id:Agent_3 #objects:7> Train Epoch: 1 [19800/60000 (33%)]\tLoss: 1.730331\n",
            "Agent: <VirtualWorker id:Agent_3 #objects:7> Train Epoch: 1 [21600/60000 (36%)]\tLoss: 1.422459\n",
            "Agent: <VirtualWorker id:Agent_3 #objects:7> Train Epoch: 1 [23400/60000 (39%)]\tLoss: 1.183174\n",
            "Agent: <VirtualWorker id:Agent_4 #objects:7> Train Epoch: 1 [25200/60000 (42%)]\tLoss: 1.830021\n",
            "Agent: <VirtualWorker id:Agent_4 #objects:7> Train Epoch: 1 [27000/60000 (45%)]\tLoss: 1.593678\n",
            "Agent: <VirtualWorker id:Agent_4 #objects:7> Train Epoch: 1 [28800/60000 (48%)]\tLoss: 1.228656\n",
            "Agent: <VirtualWorker id:Agent_5 #objects:7> Train Epoch: 1 [30600/60000 (51%)]\tLoss: 1.926367\n",
            "Agent: <VirtualWorker id:Agent_5 #objects:7> Train Epoch: 1 [32400/60000 (54%)]\tLoss: 1.667971\n",
            "Agent: <VirtualWorker id:Agent_5 #objects:7> Train Epoch: 1 [34200/60000 (57%)]\tLoss: 1.300688\n",
            "Agent: <VirtualWorker id:Agent_6 #objects:7> Train Epoch: 1 [36000/60000 (60%)]\tLoss: 2.021234\n",
            "Agent: <VirtualWorker id:Agent_6 #objects:7> Train Epoch: 1 [37800/60000 (63%)]\tLoss: 1.723440\n",
            "Agent: <VirtualWorker id:Agent_6 #objects:7> Train Epoch: 1 [39600/60000 (66%)]\tLoss: 1.488646\n",
            "Agent: <VirtualWorker id:Agent_6 #objects:7> Train Epoch: 1 [41400/60000 (69%)]\tLoss: 1.128086\n",
            "Agent: <VirtualWorker id:Agent_7 #objects:7> Train Epoch: 1 [43200/60000 (72%)]\tLoss: 1.838312\n",
            "Agent: <VirtualWorker id:Agent_7 #objects:7> Train Epoch: 1 [45000/60000 (75%)]\tLoss: 1.565881\n",
            "Agent: <VirtualWorker id:Agent_7 #objects:7> Train Epoch: 1 [46800/60000 (78%)]\tLoss: 1.372753\n",
            "Agent: <VirtualWorker id:Agent_8 #objects:7> Train Epoch: 1 [48600/60000 (81%)]\tLoss: 1.921968\n",
            "Agent: <VirtualWorker id:Agent_8 #objects:7> Train Epoch: 1 [50400/60000 (84%)]\tLoss: 1.656612\n",
            "Agent: <VirtualWorker id:Agent_8 #objects:7> Train Epoch: 1 [52200/60000 (87%)]\tLoss: 1.390802\n",
            "Agent: <VirtualWorker id:Agent_9 #objects:7> Train Epoch: 1 [54000/60000 (90%)]\tLoss: 1.952604\n",
            "Agent: <VirtualWorker id:Agent_9 #objects:7> Train Epoch: 1 [55800/60000 (93%)]\tLoss: 1.731255\n",
            "Agent: <VirtualWorker id:Agent_9 #objects:7> Train Epoch: 1 [57600/60000 (96%)]\tLoss: 1.378914\n",
            "Agent: <VirtualWorker id:Agent_9 #objects:7> Train Epoch: 1 [59400/60000 (99%)]\tLoss: 1.268435\n",
            "Agent: <VirtualWorker id:Agent_10 #objects:7> Train Epoch: 2 [0/60000 (0%)]\tLoss: 1.168046\n",
            "Agent: <VirtualWorker id:Agent_10 #objects:7> Train Epoch: 2 [1800/60000 (3%)]\tLoss: 1.019608\n",
            "Agent: <VirtualWorker id:Agent_10 #objects:7> Train Epoch: 2 [3600/60000 (6%)]\tLoss: 1.145885\n",
            "Agent: <VirtualWorker id:Agent_10 #objects:7> Train Epoch: 2 [5400/60000 (9%)]\tLoss: 0.980338\n",
            "Agent: <VirtualWorker id:Agent_1 #objects:7> Train Epoch: 2 [7200/60000 (12%)]\tLoss: 1.323641\n",
            "Agent: <VirtualWorker id:Agent_1 #objects:7> Train Epoch: 2 [9000/60000 (15%)]\tLoss: 1.075518\n",
            "Agent: <VirtualWorker id:Agent_1 #objects:7> Train Epoch: 2 [10800/60000 (18%)]\tLoss: 1.000150\n",
            "Agent: <VirtualWorker id:Agent_2 #objects:7> Train Epoch: 2 [12600/60000 (21%)]\tLoss: 1.164348\n",
            "Agent: <VirtualWorker id:Agent_2 #objects:7> Train Epoch: 2 [14400/60000 (24%)]\tLoss: 1.037459\n",
            "Agent: <VirtualWorker id:Agent_2 #objects:7> Train Epoch: 2 [16200/60000 (27%)]\tLoss: 1.260536\n",
            "Agent: <VirtualWorker id:Agent_3 #objects:7> Train Epoch: 2 [18000/60000 (30%)]\tLoss: 1.209269\n",
            "Agent: <VirtualWorker id:Agent_3 #objects:7> Train Epoch: 2 [19800/60000 (33%)]\tLoss: 1.198912\n",
            "Agent: <VirtualWorker id:Agent_3 #objects:7> Train Epoch: 2 [21600/60000 (36%)]\tLoss: 0.893214\n",
            "Agent: <VirtualWorker id:Agent_3 #objects:7> Train Epoch: 2 [23400/60000 (39%)]\tLoss: 1.152557\n",
            "Agent: <VirtualWorker id:Agent_4 #objects:7> Train Epoch: 2 [25200/60000 (42%)]\tLoss: 1.188257\n",
            "Agent: <VirtualWorker id:Agent_4 #objects:7> Train Epoch: 2 [27000/60000 (45%)]\tLoss: 0.984685\n",
            "Agent: <VirtualWorker id:Agent_4 #objects:7> Train Epoch: 2 [28800/60000 (48%)]\tLoss: 1.016356\n",
            "Agent: <VirtualWorker id:Agent_5 #objects:7> Train Epoch: 2 [30600/60000 (51%)]\tLoss: 1.179076\n",
            "Agent: <VirtualWorker id:Agent_5 #objects:7> Train Epoch: 2 [32400/60000 (54%)]\tLoss: 1.116035\n",
            "Agent: <VirtualWorker id:Agent_5 #objects:7> Train Epoch: 2 [34200/60000 (57%)]\tLoss: 1.071106\n",
            "Agent: <VirtualWorker id:Agent_6 #objects:7> Train Epoch: 2 [36000/60000 (60%)]\tLoss: 1.238156\n",
            "Agent: <VirtualWorker id:Agent_6 #objects:7> Train Epoch: 2 [37800/60000 (63%)]\tLoss: 1.078110\n",
            "Agent: <VirtualWorker id:Agent_6 #objects:7> Train Epoch: 2 [39600/60000 (66%)]\tLoss: 0.979194\n",
            "Agent: <VirtualWorker id:Agent_6 #objects:7> Train Epoch: 2 [41400/60000 (69%)]\tLoss: 1.014270\n",
            "Agent: <VirtualWorker id:Agent_7 #objects:7> Train Epoch: 2 [43200/60000 (72%)]\tLoss: 1.267813\n",
            "Agent: <VirtualWorker id:Agent_7 #objects:7> Train Epoch: 2 [45000/60000 (75%)]\tLoss: 1.007425\n",
            "Agent: <VirtualWorker id:Agent_7 #objects:7> Train Epoch: 2 [46800/60000 (78%)]\tLoss: 1.238133\n",
            "Agent: <VirtualWorker id:Agent_8 #objects:7> Train Epoch: 2 [48600/60000 (81%)]\tLoss: 1.053288\n",
            "Agent: <VirtualWorker id:Agent_8 #objects:7> Train Epoch: 2 [50400/60000 (84%)]\tLoss: 1.226767\n",
            "Agent: <VirtualWorker id:Agent_8 #objects:7> Train Epoch: 2 [52200/60000 (87%)]\tLoss: 0.948333\n",
            "Agent: <VirtualWorker id:Agent_9 #objects:7> Train Epoch: 2 [54000/60000 (90%)]\tLoss: 1.203582\n",
            "Agent: <VirtualWorker id:Agent_9 #objects:7> Train Epoch: 2 [55800/60000 (93%)]\tLoss: 1.129827\n",
            "Agent: <VirtualWorker id:Agent_9 #objects:7> Train Epoch: 2 [57600/60000 (96%)]\tLoss: 0.959766\n",
            "Agent: <VirtualWorker id:Agent_9 #objects:7> Train Epoch: 2 [59400/60000 (99%)]\tLoss: 1.059217\n",
            "Agent: <VirtualWorker id:Agent_10 #objects:7> Train Epoch: 3 [0/60000 (0%)]\tLoss: 1.145898\n",
            "Agent: <VirtualWorker id:Agent_10 #objects:7> Train Epoch: 3 [1800/60000 (3%)]\tLoss: 1.020184\n",
            "Agent: <VirtualWorker id:Agent_10 #objects:7> Train Epoch: 3 [3600/60000 (6%)]\tLoss: 0.654181\n",
            "Agent: <VirtualWorker id:Agent_10 #objects:7> Train Epoch: 3 [5400/60000 (9%)]\tLoss: 1.059575\n",
            "Agent: <VirtualWorker id:Agent_1 #objects:7> Train Epoch: 3 [7200/60000 (12%)]\tLoss: 0.932534\n",
            "Agent: <VirtualWorker id:Agent_1 #objects:7> Train Epoch: 3 [9000/60000 (15%)]\tLoss: 1.042043\n",
            "Agent: <VirtualWorker id:Agent_1 #objects:7> Train Epoch: 3 [10800/60000 (18%)]\tLoss: 0.798557\n",
            "Agent: <VirtualWorker id:Agent_2 #objects:7> Train Epoch: 3 [12600/60000 (21%)]\tLoss: 0.843824\n",
            "Agent: <VirtualWorker id:Agent_2 #objects:7> Train Epoch: 3 [14400/60000 (24%)]\tLoss: 0.763976\n",
            "Agent: <VirtualWorker id:Agent_2 #objects:7> Train Epoch: 3 [16200/60000 (27%)]\tLoss: 0.861657\n",
            "Agent: <VirtualWorker id:Agent_3 #objects:7> Train Epoch: 3 [18000/60000 (30%)]\tLoss: 0.970294\n",
            "Agent: <VirtualWorker id:Agent_3 #objects:7> Train Epoch: 3 [19800/60000 (33%)]\tLoss: 0.843399\n",
            "Agent: <VirtualWorker id:Agent_3 #objects:7> Train Epoch: 3 [21600/60000 (36%)]\tLoss: 1.112473\n",
            "Agent: <VirtualWorker id:Agent_3 #objects:7> Train Epoch: 3 [23400/60000 (39%)]\tLoss: 0.849167\n",
            "Agent: <VirtualWorker id:Agent_4 #objects:7> Train Epoch: 3 [25200/60000 (42%)]\tLoss: 1.064458\n",
            "Agent: <VirtualWorker id:Agent_4 #objects:7> Train Epoch: 3 [27000/60000 (45%)]\tLoss: 1.063122\n",
            "Agent: <VirtualWorker id:Agent_4 #objects:7> Train Epoch: 3 [28800/60000 (48%)]\tLoss: 0.772818\n",
            "Agent: <VirtualWorker id:Agent_5 #objects:7> Train Epoch: 3 [30600/60000 (51%)]\tLoss: 1.099388\n",
            "Agent: <VirtualWorker id:Agent_5 #objects:7> Train Epoch: 3 [32400/60000 (54%)]\tLoss: 0.848754\n",
            "Agent: <VirtualWorker id:Agent_5 #objects:7> Train Epoch: 3 [34200/60000 (57%)]\tLoss: 0.898630\n",
            "Agent: <VirtualWorker id:Agent_6 #objects:7> Train Epoch: 3 [36000/60000 (60%)]\tLoss: 0.995432\n",
            "Agent: <VirtualWorker id:Agent_6 #objects:7> Train Epoch: 3 [37800/60000 (63%)]\tLoss: 0.910868\n",
            "Agent: <VirtualWorker id:Agent_6 #objects:7> Train Epoch: 3 [39600/60000 (66%)]\tLoss: 1.035856\n",
            "Agent: <VirtualWorker id:Agent_6 #objects:7> Train Epoch: 3 [41400/60000 (69%)]\tLoss: 1.033130\n",
            "Agent: <VirtualWorker id:Agent_7 #objects:7> Train Epoch: 3 [43200/60000 (72%)]\tLoss: 1.108910\n",
            "Agent: <VirtualWorker id:Agent_7 #objects:7> Train Epoch: 3 [45000/60000 (75%)]\tLoss: 0.997731\n",
            "Agent: <VirtualWorker id:Agent_7 #objects:7> Train Epoch: 3 [46800/60000 (78%)]\tLoss: 0.883372\n",
            "Agent: <VirtualWorker id:Agent_8 #objects:7> Train Epoch: 3 [48600/60000 (81%)]\tLoss: 0.930573\n",
            "Agent: <VirtualWorker id:Agent_8 #objects:7> Train Epoch: 3 [50400/60000 (84%)]\tLoss: 0.977152\n",
            "Agent: <VirtualWorker id:Agent_8 #objects:7> Train Epoch: 3 [52200/60000 (87%)]\tLoss: 1.079526\n",
            "Agent: <VirtualWorker id:Agent_9 #objects:7> Train Epoch: 3 [54000/60000 (90%)]\tLoss: 1.097088\n",
            "Agent: <VirtualWorker id:Agent_9 #objects:7> Train Epoch: 3 [55800/60000 (93%)]\tLoss: 0.930059\n",
            "Agent: <VirtualWorker id:Agent_9 #objects:7> Train Epoch: 3 [57600/60000 (96%)]\tLoss: 1.294285\n",
            "Agent: <VirtualWorker id:Agent_9 #objects:7> Train Epoch: 3 [59400/60000 (99%)]\tLoss: 0.790917\n",
            "Agent: <VirtualWorker id:Agent_10 #objects:7> Train Epoch: 4 [0/60000 (0%)]\tLoss: 0.714941\n",
            "Agent: <VirtualWorker id:Agent_10 #objects:7> Train Epoch: 4 [1800/60000 (3%)]\tLoss: 0.887728\n",
            "Agent: <VirtualWorker id:Agent_10 #objects:7> Train Epoch: 4 [3600/60000 (6%)]\tLoss: 0.811149\n",
            "Agent: <VirtualWorker id:Agent_10 #objects:7> Train Epoch: 4 [5400/60000 (9%)]\tLoss: 0.854359\n",
            "Agent: <VirtualWorker id:Agent_1 #objects:7> Train Epoch: 4 [7200/60000 (12%)]\tLoss: 0.865304\n",
            "Agent: <VirtualWorker id:Agent_1 #objects:7> Train Epoch: 4 [9000/60000 (15%)]\tLoss: 0.910074\n",
            "Agent: <VirtualWorker id:Agent_1 #objects:7> Train Epoch: 4 [10800/60000 (18%)]\tLoss: 0.812811\n",
            "Agent: <VirtualWorker id:Agent_2 #objects:7> Train Epoch: 4 [12600/60000 (21%)]\tLoss: 0.862985\n",
            "Agent: <VirtualWorker id:Agent_2 #objects:7> Train Epoch: 4 [14400/60000 (24%)]\tLoss: 0.812600\n",
            "Agent: <VirtualWorker id:Agent_2 #objects:7> Train Epoch: 4 [16200/60000 (27%)]\tLoss: 0.665697\n",
            "Agent: <VirtualWorker id:Agent_3 #objects:7> Train Epoch: 4 [18000/60000 (30%)]\tLoss: 0.782474\n",
            "Agent: <VirtualWorker id:Agent_3 #objects:7> Train Epoch: 4 [19800/60000 (33%)]\tLoss: 0.837320\n",
            "Agent: <VirtualWorker id:Agent_3 #objects:7> Train Epoch: 4 [21600/60000 (36%)]\tLoss: 0.755886\n",
            "Agent: <VirtualWorker id:Agent_3 #objects:7> Train Epoch: 4 [23400/60000 (39%)]\tLoss: 0.880427\n",
            "Agent: <VirtualWorker id:Agent_4 #objects:7> Train Epoch: 4 [25200/60000 (42%)]\tLoss: 0.864189\n",
            "Agent: <VirtualWorker id:Agent_4 #objects:7> Train Epoch: 4 [27000/60000 (45%)]\tLoss: 0.932800\n",
            "Agent: <VirtualWorker id:Agent_4 #objects:7> Train Epoch: 4 [28800/60000 (48%)]\tLoss: 0.702635\n",
            "Agent: <VirtualWorker id:Agent_5 #objects:7> Train Epoch: 4 [30600/60000 (51%)]\tLoss: 0.810078\n",
            "Agent: <VirtualWorker id:Agent_5 #objects:7> Train Epoch: 4 [32400/60000 (54%)]\tLoss: 0.835579\n",
            "Agent: <VirtualWorker id:Agent_5 #objects:7> Train Epoch: 4 [34200/60000 (57%)]\tLoss: 0.906151\n",
            "Agent: <VirtualWorker id:Agent_6 #objects:7> Train Epoch: 4 [36000/60000 (60%)]\tLoss: 0.928358\n",
            "Agent: <VirtualWorker id:Agent_6 #objects:7> Train Epoch: 4 [37800/60000 (63%)]\tLoss: 1.028957\n",
            "Agent: <VirtualWorker id:Agent_6 #objects:7> Train Epoch: 4 [39600/60000 (66%)]\tLoss: 0.975769\n",
            "Agent: <VirtualWorker id:Agent_6 #objects:7> Train Epoch: 4 [41400/60000 (69%)]\tLoss: 1.328436\n",
            "Agent: <VirtualWorker id:Agent_7 #objects:7> Train Epoch: 4 [43200/60000 (72%)]\tLoss: 0.822545\n",
            "Agent: <VirtualWorker id:Agent_7 #objects:7> Train Epoch: 4 [45000/60000 (75%)]\tLoss: 0.810336\n",
            "Agent: <VirtualWorker id:Agent_7 #objects:7> Train Epoch: 4 [46800/60000 (78%)]\tLoss: 0.822035\n",
            "Agent: <VirtualWorker id:Agent_8 #objects:7> Train Epoch: 4 [48600/60000 (81%)]\tLoss: 0.868472\n",
            "Agent: <VirtualWorker id:Agent_8 #objects:7> Train Epoch: 4 [50400/60000 (84%)]\tLoss: 0.773215\n",
            "Agent: <VirtualWorker id:Agent_8 #objects:7> Train Epoch: 4 [52200/60000 (87%)]\tLoss: 0.780665\n",
            "Agent: <VirtualWorker id:Agent_9 #objects:7> Train Epoch: 4 [54000/60000 (90%)]\tLoss: 0.775761\n",
            "Agent: <VirtualWorker id:Agent_9 #objects:7> Train Epoch: 4 [55800/60000 (93%)]\tLoss: 0.756712\n",
            "Agent: <VirtualWorker id:Agent_9 #objects:7> Train Epoch: 4 [57600/60000 (96%)]\tLoss: 0.601176\n",
            "Agent: <VirtualWorker id:Agent_9 #objects:7> Train Epoch: 4 [59400/60000 (99%)]\tLoss: 0.707908\n"
          ],
          "name": "stdout"
        }
      ]
    },
    {
      "cell_type": "code",
      "metadata": {
        "id": "45atSQGrtL5I",
        "colab_type": "code",
        "outputId": "33c32d57-7454-4f9a-83eb-517a3386b659",
        "colab": {
          "base_uri": "https://localhost:8080/",
          "height": 139
        }
      },
      "source": [
        "# Print the agent's deltas before boost.\n",
        "delta_Agent_10['conv2.bias']"
      ],
      "execution_count": 59,
      "outputs": [
        {
          "output_type": "execute_result",
          "data": {
            "text/plain": [
              "tensor([ 0.0093,  0.0049,  0.0023,  0.0053,  0.0042,  0.0028,  0.0009,  0.0018,\n",
              "         0.0062,  0.0036,  0.0009, -0.0043,  0.0060,  0.0046,  0.0005,  0.0043,\n",
              "         0.0008,  0.0035,  0.0090,  0.0022, -0.0016,  0.0014,  0.0041,  0.0035,\n",
              "         0.0090, -0.0037,  0.0039,  0.0028,  0.0039,  0.0017,  0.0134, -0.0044,\n",
              "        -0.0019,  0.0047, -0.0004,  0.0011,  0.0065,  0.0025,  0.0007,  0.0050,\n",
              "         0.0057, -0.0025,  0.0073,  0.0047, -0.0002,  0.0061, -0.0004, -0.0014,\n",
              "         0.0143,  0.0027], device='cuda:0')"
            ]
          },
          "metadata": {
            "tags": []
          },
          "execution_count": 59
        }
      ]
    },
    {
      "cell_type": "code",
      "metadata": {
        "id": "Avtm2v7xtZnM",
        "colab_type": "code",
        "colab": {}
      },
      "source": [
        "# boost malicious Agent 10's update\n",
        "if args.mal:\n",
        "  if args.targeted: # boost the targeted update.\n",
        "    delta_Agent_10 = boost_update(delta_Agent_10,10.0, False)\n",
        "  else: # invert and boost a valid update to disrupt the model.\n",
        "    delta_Agent_10 = boost_update(delta_Agent_10,-10.0, False)\n",
        "agent_updates_ts = [delta_Agent_1, delta_Agent_2, delta_Agent_3, delta_Agent_4,delta_Agent_5, delta_Agent_6, delta_Agent_7, delta_Agent_8, delta_Agent_9, delta_Agent_10]\n",
        "\n",
        "average_delta_all_Agents = avg_agent_updates(agent_updates_ts)"
      ],
      "execution_count": 0,
      "outputs": []
    },
    {
      "cell_type": "code",
      "metadata": {
        "id": "dkCs05eHf18O",
        "colab_type": "code",
        "colab": {
          "base_uri": "https://localhost:8080/",
          "height": 139
        },
        "outputId": "83508379-06a7-4d7a-b57a-80b3994b2b5f"
      },
      "source": [
        "# Print the agent's deltas after boost.\n",
        "delta_Agent_10['conv2.bias']"
      ],
      "execution_count": 61,
      "outputs": [
        {
          "output_type": "execute_result",
          "data": {
            "text/plain": [
              "tensor([ 0.0093,  0.0049,  0.0023,  0.0053,  0.0042,  0.0028,  0.0009,  0.0018,\n",
              "         0.0062,  0.0036,  0.0009, -0.0043,  0.0060,  0.0046,  0.0005,  0.0043,\n",
              "         0.0008,  0.0035,  0.0090,  0.0022, -0.0016,  0.0014,  0.0041,  0.0035,\n",
              "         0.0090, -0.0037,  0.0039,  0.0028,  0.0039,  0.0017,  0.0134, -0.0044,\n",
              "        -0.0019,  0.0047, -0.0004,  0.0011,  0.0065,  0.0025,  0.0007,  0.0050,\n",
              "         0.0057, -0.0025,  0.0073,  0.0047, -0.0002,  0.0061, -0.0004, -0.0014,\n",
              "         0.0143,  0.0027], device='cuda:0')"
            ]
          },
          "metadata": {
            "tags": []
          },
          "execution_count": 61
        }
      ]
    },
    {
      "cell_type": "code",
      "metadata": {
        "id": "4lRROtmKt_n3",
        "colab_type": "code",
        "outputId": "79870f85-92f2-435a-a783-ea0341a8abb3",
        "colab": {
          "base_uri": "https://localhost:8080/",
          "height": 35
        }
      },
      "source": [
        "mod_weights = updated_weights(Current_model,average_delta_all_Agents,False)\n",
        "Current_model_ts_plus_n = Net().to(device)\n",
        "Current_model_ts_plus_n.load_state_dict(mod_weights)\n",
        "loss_, main_accuracy_ = test(args, Current_model_ts_plus_n, device, test_loader)\n",
        "print('Timestamp {}. Loss is {:.6f}. Accuracy is {:.2f}'.format(1,loss_,main_accuracy_))"
      ],
      "execution_count": 62,
      "outputs": [
        {
          "output_type": "stream",
          "text": [
            "Timestamp 1. Loss is 0.814507. Accuracy is 71.70\n"
          ],
          "name": "stdout"
        }
      ]
    },
    {
      "cell_type": "code",
      "metadata": {
        "id": "wMT2c7KT1Wt-",
        "colab_type": "code",
        "colab": {}
      },
      "source": [
        "# Switch to disruptive attack.\n",
        "args.targeted = False"
      ],
      "execution_count": 0,
      "outputs": []
    },
    {
      "cell_type": "code",
      "metadata": {
        "id": "B8jdkS8wz3GW",
        "colab_type": "code",
        "colab": {}
      },
      "source": [
        "# Disable malicious attack.\n",
        "args.mal = False"
      ],
      "execution_count": 0,
      "outputs": []
    },
    {
      "cell_type": "code",
      "metadata": {
        "id": "fZmHCItlulct",
        "colab_type": "code",
        "outputId": "3fc7a8ae-fe17-499c-a1d7-84492141dacf",
        "colab": {
          "base_uri": "https://localhost:8080/",
          "height": 35
        }
      },
      "source": [
        "data = mnist_full_train_dataset_bs[8][0].resize_((1,1,28,28)).cuda()\n",
        "output = Current_model_ts_plus_n(data)\n",
        "#test_loss += F.nll_loss(output, target, reduction='sum').item() # sum up batch loss\n",
        "pred = output.argmax(1, keepdim=True)\n",
        "pred"
      ],
      "execution_count": 32,
      "outputs": [
        {
          "output_type": "execute_result",
          "data": {
            "text/plain": [
              "tensor([[5]], device='cuda:0')"
            ]
          },
          "metadata": {
            "tags": []
          },
          "execution_count": 32
        }
      ]
    },
    {
      "cell_type": "code",
      "metadata": {
        "id": "ATIRmknUvP0A",
        "colab_type": "code",
        "colab": {}
      },
      "source": [
        "\n",
        "model.load_state_dict(mod_weights)\n",
        "Current_model.load_state_dict(model.state_dict())\n",
        "#Current_model.load_state_dict(mod_weights)\n",
        "\n",
        "# RERUN steps to get new deltas"
      ],
      "execution_count": 0,
      "outputs": []
    }
  ]
}